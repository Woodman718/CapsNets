{
 "cells": [
  {
   "cell_type": "code",
   "execution_count": 1,
   "id": "5a2f24a0-f5a4-4a7f-86b6-d9852c2d24e6",
   "metadata": {
    "execution": {
     "iopub.execute_input": "2022-07-01T16:51:14.879657Z",
     "iopub.status.busy": "2022-07-01T16:51:14.879095Z",
     "iopub.status.idle": "2022-07-01T16:51:14.886276Z",
     "shell.execute_reply": "2022-07-01T16:51:14.886054Z",
     "shell.execute_reply.started": "2022-07-01T16:51:14.879502Z"
    },
    "tags": []
   },
   "outputs": [],
   "source": [
    "import os\n",
    "from shutil import copy, rmtree\n",
    "import random"
   ]
  },
  {
   "cell_type": "code",
   "execution_count": 2,
   "id": "2bf3046f-5635-453b-81bd-6f2bc913b342",
   "metadata": {
    "execution": {
     "iopub.execute_input": "2022-07-01T16:51:16.510236Z",
     "iopub.status.busy": "2022-07-01T16:51:16.509760Z",
     "iopub.status.idle": "2022-07-01T16:51:16.516580Z",
     "shell.execute_reply": "2022-07-01T16:51:16.515107Z",
     "shell.execute_reply.started": "2022-07-01T16:51:16.510181Z"
    },
    "tags": []
   },
   "outputs": [],
   "source": [
    "def mk_file(file_path: str):\n",
    "    if os.path.exists(file_path):\n",
    "        # 如果文件夹存在，则先删除原文件夹在重新创建\n",
    "        rmtree(file_path)\n",
    "    os.makedirs(file_path)"
   ]
  },
  {
   "cell_type": "code",
   "execution_count": 3,
   "id": "d4d6ed3a-0f0c-41ac-a64a-6d801fb3d06f",
   "metadata": {
    "execution": {
     "iopub.execute_input": "2022-07-01T16:51:35.965924Z",
     "iopub.status.busy": "2022-07-01T16:51:35.965455Z",
     "iopub.status.idle": "2022-07-01T16:51:35.971169Z",
     "shell.execute_reply": "2022-07-01T16:51:35.970850Z",
     "shell.execute_reply.started": "2022-07-01T16:51:35.965869Z"
    },
    "tags": []
   },
   "outputs": [],
   "source": [
    "# 保证随机可复现\n",
    "random.seed(0)\n",
    "\n",
    "# 将数据集中10%的数据划分到验证集中\n",
    "split_rate = 0.1\n",
    "\n",
    "# 指向你解压后的data_photos文件夹\n",
    "cwd = os.getcwd()\n",
    "# data_root = os.path.join(cwd, \"data_data\")#win_powershell\n",
    "data_root = os.path.abspath(os.path.join(cwd))\n",
    "origin_data_path = os.path.join(data_root, \"NCT-CRC-HE-100K-NONORM\")\n",
    "assert os.path.exists(origin_data_path), \"path '{}' does not exist.\".format(origin_data_path)"
   ]
  },
  {
   "cell_type": "code",
   "execution_count": 4,
   "id": "94787de7-548b-44db-8aaf-8d7061c0d58e",
   "metadata": {
    "execution": {
     "iopub.execute_input": "2022-07-01T16:52:02.775299Z",
     "iopub.status.busy": "2022-07-01T16:52:02.774830Z",
     "iopub.status.idle": "2022-07-01T16:52:02.785698Z",
     "shell.execute_reply": "2022-07-01T16:52:02.785483Z",
     "shell.execute_reply.started": "2022-07-01T16:52:02.775245Z"
    },
    "tags": []
   },
   "outputs": [],
   "source": [
    "data_class = [cla for cla in os.listdir(origin_data_path)\n",
    "                if os.path.isdir(os.path.join(origin_data_path, cla))]\n",
    "\n",
    "# 建立保存训练集的文件夹\n",
    "train_root = os.path.join(data_root, \"train702\")\n",
    "mk_file(train_root)\n",
    "for cla in data_class:\n",
    "    # 建立每个类别对应的文件夹\n",
    "    mk_file(os.path.join(train_root, cla))\n",
    "\n",
    "# 建立保存验证集的文件夹\n",
    "val_root = os.path.join(data_root, \"test702\")\n",
    "mk_file(val_root)\n",
    "for cla in data_class:\n",
    "    # 建立每个类别对应的文件夹\n",
    "    mk_file(os.path.join(val_root, cla))"
   ]
  },
  {
   "cell_type": "code",
   "execution_count": 5,
   "id": "288fa080-aa81-4bb2-8153-cedafdc7e016",
   "metadata": {
    "execution": {
     "iopub.execute_input": "2022-07-01T16:52:07.793822Z",
     "iopub.status.busy": "2022-07-01T16:52:07.793352Z",
     "iopub.status.idle": "2022-07-01T16:52:54.168979Z",
     "shell.execute_reply": "2022-07-01T16:52:54.168698Z",
     "shell.execute_reply.started": "2022-07-01T16:52:07.793766Z"
    },
    "tags": []
   },
   "outputs": [
    {
     "name": "stdout",
     "output_type": "stream",
     "text": [
      "[TUM] processing [14317/14317]\n",
      "[LYM] processing [11557/11557]\n",
      "[STR] processing [10446/10446]\n",
      "[MUC] processing [8896/8896]\n",
      "[BACK] processing [10566/10566]\n",
      "[ADI] processing [10407/10407]\n",
      "[NORM] processing [8763/8763]\n",
      "[MUS] processing [13536/13536]\n",
      "[DEB] processing [11512/11512]\n",
      "processing 100000 done!\n"
     ]
    }
   ],
   "source": [
    "total_num = 0\n",
    "for cla in data_class:\n",
    "    cla_path = os.path.join(origin_data_path, cla)\n",
    "    images = os.listdir(cla_path)\n",
    "    num = len(images)\n",
    "    total_num += num\n",
    "    # 随机采样验证集的索引\n",
    "    eval_index = random.sample(images, k=int(num*split_rate))\n",
    "    for index, image in enumerate(images):\n",
    "        if image in eval_index:\n",
    "            # 将分配至验证集中的文件复制到相应目录\n",
    "            image_path = os.path.join(cla_path, image)\n",
    "            new_path = os.path.join(val_root, cla)\n",
    "            copy(image_path, new_path)\n",
    "        else:\n",
    "            # 将分配至训练集中的文件复制到相应目录\n",
    "            image_path = os.path.join(cla_path, image)\n",
    "            new_path = os.path.join(train_root, cla)\n",
    "            copy(image_path, new_path)\n",
    "        print(\"\\r[{}] processing [{}/{}]\".format(cla, index+1, num), end=\"\")  # processing bar\n",
    "    print()\n",
    "\n",
    "print(f\"processing {total_num} done!\")"
   ]
  },
  {
   "cell_type": "code",
   "execution_count": 6,
   "id": "0dcdb794-cd3d-4a41-b576-66205ae844dd",
   "metadata": {
    "execution": {
     "iopub.execute_input": "2022-07-01T16:54:18.357713Z",
     "iopub.status.busy": "2022-07-01T16:54:18.357239Z",
     "iopub.status.idle": "2022-07-01T16:54:18.367239Z",
     "shell.execute_reply": "2022-07-01T16:54:18.365600Z",
     "shell.execute_reply.started": "2022-07-01T16:54:18.357657Z"
    },
    "tags": []
   },
   "outputs": [],
   "source": [
    "# 保证随机可复现\n",
    "random.seed(0)\n",
    "\n",
    "# 将数据集中15%的数据划分到验证集中\n",
    "split_rate = 0.11\n",
    "\n",
    "# 指向你解压后的data_photos文件夹\n",
    "cwd = os.getcwd()\n",
    "# data_root = os.path.join(cwd, \"data_data\")#win_powershell\n",
    "data_root = os.path.abspath(os.path.join(cwd))\n",
    "origin_data_path = os.path.join(data_root, \"train702\")\n",
    "assert os.path.exists(origin_data_path), \"path '{}' does not exist.\".format(origin_data_path)"
   ]
  },
  {
   "cell_type": "code",
   "execution_count": 7,
   "id": "ec9eb86b-1e89-4dbf-be52-26cfa9c4f563",
   "metadata": {
    "execution": {
     "iopub.execute_input": "2022-07-01T16:54:51.344888Z",
     "iopub.status.busy": "2022-07-01T16:54:51.344761Z",
     "iopub.status.idle": "2022-07-01T16:54:51.350363Z",
     "shell.execute_reply": "2022-07-01T16:54:51.349684Z",
     "shell.execute_reply.started": "2022-07-01T16:54:51.344874Z"
    }
   },
   "outputs": [],
   "source": [
    "data_class = [cla for cla in os.listdir(origin_data_path)\n",
    "                if os.path.isdir(os.path.join(origin_data_path, cla))]\n",
    "\n",
    "# 建立保存训练集的文件夹\n",
    "train_root = os.path.join(data_root, \"train\")\n",
    "mk_file(train_root)\n",
    "for cla in data_class:\n",
    "    # 建立每个类别对应的文件夹\n",
    "    mk_file(os.path.join(train_root, cla))\n",
    "\n",
    "# 建立保存验证集的文件夹\n",
    "val_root = os.path.join(data_root, \"val\")\n",
    "mk_file(val_root)\n",
    "for cla in data_class:\n",
    "    # 建立每个类别对应的文件夹\n",
    "    mk_file(os.path.join(val_root, cla))"
   ]
  },
  {
   "cell_type": "code",
   "execution_count": 8,
   "id": "3f800e6a-aa97-46ea-98b2-6771b23c814e",
   "metadata": {
    "execution": {
     "iopub.execute_input": "2022-07-01T16:55:08.363778Z",
     "iopub.status.busy": "2022-07-01T16:55:08.363304Z",
     "iopub.status.idle": "2022-07-01T16:55:21.573537Z",
     "shell.execute_reply": "2022-07-01T16:55:21.573285Z",
     "shell.execute_reply.started": "2022-07-01T16:55:08.363722Z"
    },
    "tags": []
   },
   "outputs": [
    {
     "name": "stdout",
     "output_type": "stream",
     "text": [
      "[TUM] processing [12886/12886]\n",
      "[LYM] processing [10402/10402]\n",
      "[STR] processing [9402/9402]\n",
      "[MUC] processing [8007/8007]\n",
      "[BACK] processing [9510/9510]\n",
      "[ADI] processing [9367/9367]\n",
      "[NORM] processing [7887/7887]\n",
      "[MUS] processing [12183/12183]\n",
      "[DEB] processing [10361/10361]\n",
      "processing 90005 done!\n"
     ]
    }
   ],
   "source": [
    "total_num = 0\n",
    "for cla in data_class:\n",
    "    cla_path = os.path.join(origin_data_path, cla)\n",
    "    images = os.listdir(cla_path)\n",
    "    num = len(images)\n",
    "    total_num += num\n",
    "    # 随机采样验证集的索引\n",
    "    eval_index = random.sample(images, k=int(num*split_rate))\n",
    "    for index, image in enumerate(images):\n",
    "        if image in eval_index:\n",
    "            # 将分配至验证集中的文件复制到相应目录\n",
    "            image_path = os.path.join(cla_path, image)\n",
    "            new_path = os.path.join(val_root, cla)\n",
    "            copy(image_path, new_path)\n",
    "        else:\n",
    "            # 将分配至训练集中的文件复制到相应目录\n",
    "            image_path = os.path.join(cla_path, image)\n",
    "            new_path = os.path.join(train_root, cla)\n",
    "            copy(image_path, new_path)\n",
    "        print(\"\\r[{}] processing [{}/{}]\".format(cla, index+1, num), end=\"\")  # processing bar\n",
    "    print()\n",
    "\n",
    "print(f\"processing {total_num} done!\")"
   ]
  },
  {
   "cell_type": "code",
   "execution_count": 9,
   "id": "fd8be7ec-c0c1-48d8-a2cc-4e5e318ce3ca",
   "metadata": {
    "execution": {
     "iopub.execute_input": "2022-07-01T16:56:20.671420Z",
     "iopub.status.busy": "2022-07-01T16:56:20.670951Z",
     "iopub.status.idle": "2022-07-01T16:56:20.914403Z",
     "shell.execute_reply": "2022-07-01T16:56:20.912555Z",
     "shell.execute_reply.started": "2022-07-01T16:56:20.671365Z"
    },
    "tags": []
   },
   "outputs": [
    {
     "name": "stdout",
     "output_type": "stream",
     "text": [
      "==train==\n",
      "\u001b[33mADI:\u001b[0m \t8337\n",
      "\u001b[33mBACK:\u001b[0m \t8464\n",
      "\u001b[33mDEB:\u001b[0m \t9222\n",
      "\u001b[33mLYM:\u001b[0m \t9258\n",
      "\u001b[33mMUC:\u001b[0m \t7127\n",
      "\u001b[33mMUS:\u001b[0m \t10843\n",
      "\u001b[33mNORM:\u001b[0m \t7020\n",
      "\u001b[33mSTR:\u001b[0m \t8368\n",
      "\u001b[33mTUM:\u001b[0m \t11469\n",
      "------------\n",
      "Total:\t80108\n"
     ]
    }
   ],
   "source": [
    "# !find val526/ -type f | wc -l\n",
    "! ./echo_num.sh train"
   ]
  },
  {
   "cell_type": "code",
   "execution_count": 10,
   "id": "82268163-2540-4082-8f69-a0ae5936c34f",
   "metadata": {
    "execution": {
     "iopub.execute_input": "2022-07-01T16:56:21.384112Z",
     "iopub.status.busy": "2022-07-01T16:56:21.383647Z",
     "iopub.status.idle": "2022-07-01T16:56:21.552281Z",
     "shell.execute_reply": "2022-07-01T16:56:21.550804Z",
     "shell.execute_reply.started": "2022-07-01T16:56:21.384057Z"
    },
    "tags": []
   },
   "outputs": [
    {
     "name": "stdout",
     "output_type": "stream",
     "text": [
      "==val==\n",
      "\u001b[33mADI:\u001b[0m \t1030\n",
      "\u001b[33mBACK:\u001b[0m \t1046\n",
      "\u001b[33mDEB:\u001b[0m \t1139\n",
      "\u001b[33mLYM:\u001b[0m \t1144\n",
      "\u001b[33mMUC:\u001b[0m \t880\n",
      "\u001b[33mMUS:\u001b[0m \t1340\n",
      "\u001b[33mNORM:\u001b[0m \t867\n",
      "\u001b[33mSTR:\u001b[0m \t1034\n",
      "\u001b[33mTUM:\u001b[0m \t1417\n",
      "------------\n",
      "Total:\t9897\n"
     ]
    }
   ],
   "source": [
    "! ./echo_num.sh val"
   ]
  },
  {
   "cell_type": "code",
   "execution_count": 11,
   "id": "1860d3c4-c30a-4134-9ed2-6f28ba4f44ab",
   "metadata": {
    "execution": {
     "iopub.execute_input": "2022-07-01T16:56:21.789906Z",
     "iopub.status.busy": "2022-07-01T16:56:21.789446Z",
     "iopub.status.idle": "2022-07-01T16:56:21.932579Z",
     "shell.execute_reply": "2022-07-01T16:56:21.931120Z",
     "shell.execute_reply.started": "2022-07-01T16:56:21.789849Z"
    }
   },
   "outputs": [
    {
     "name": "stdout",
     "output_type": "stream",
     "text": [
      "==test==\n",
      "\u001b[33mADI:\u001b[0m \t1040\n",
      "\u001b[33mBACK:\u001b[0m \t1056\n",
      "\u001b[33mDEB:\u001b[0m \t1151\n",
      "\u001b[33mLYM:\u001b[0m \t1155\n",
      "\u001b[33mMUC:\u001b[0m \t889\n",
      "\u001b[33mMUS:\u001b[0m \t1353\n",
      "\u001b[33mNORM:\u001b[0m \t876\n",
      "\u001b[33mSTR:\u001b[0m \t1044\n",
      "\u001b[33mTUM:\u001b[0m \t1431\n",
      "------------\n",
      "Total:\t9995\n"
     ]
    }
   ],
   "source": [
    "! ./echo_num.sh test"
   ]
  }
 ],
 "metadata": {
  "kernelspec": {
   "display_name": "tf2.6",
   "language": "python",
   "name": "tf2.6"
  },
  "language_info": {
   "codemirror_mode": {
    "name": "ipython",
    "version": 3
   },
   "file_extension": ".py",
   "mimetype": "text/x-python",
   "name": "python",
   "nbconvert_exporter": "python",
   "pygments_lexer": "ipython3",
   "version": "3.8.12"
  }
 },
 "nbformat": 4,
 "nbformat_minor": 5
}
