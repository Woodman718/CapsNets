{
 "cells": [
  {
   "cell_type": "code",
   "execution_count": 7,
   "id": "5a2f24a0-f5a4-4a7f-86b6-d9852c2d24e6",
   "metadata": {
    "execution": {
     "iopub.execute_input": "2023-03-14T03:13:17.912649Z",
     "iopub.status.busy": "2023-03-14T03:13:17.911836Z",
     "iopub.status.idle": "2023-03-14T03:13:17.922286Z",
     "shell.execute_reply": "2023-03-14T03:13:17.920388Z",
     "shell.execute_reply.started": "2023-03-14T03:13:17.912571Z"
    },
    "tags": []
   },
   "outputs": [],
   "source": [
    "import os\n",
    "from shutil import copy, rmtree\n",
    "import random"
   ]
  },
  {
   "cell_type": "code",
   "execution_count": 8,
   "id": "2bf3046f-5635-453b-81bd-6f2bc913b342",
   "metadata": {
    "execution": {
     "iopub.execute_input": "2023-03-14T03:13:18.258579Z",
     "iopub.status.busy": "2023-03-14T03:13:18.258099Z",
     "iopub.status.idle": "2023-03-14T03:13:18.266173Z",
     "shell.execute_reply": "2023-03-14T03:13:18.265316Z",
     "shell.execute_reply.started": "2023-03-14T03:13:18.258520Z"
    },
    "tags": []
   },
   "outputs": [],
   "source": [
    "def mk_file(file_path: str):\n",
    "    if os.path.exists(file_path):\n",
    "        # 如果文件夹存在，则先删除原文件夹在重新创建\n",
    "        rmtree(file_path)\n",
    "    os.makedirs(file_path)"
   ]
  },
  {
   "cell_type": "code",
   "execution_count": 9,
   "id": "d4d6ed3a-0f0c-41ac-a64a-6d801fb3d06f",
   "metadata": {
    "execution": {
     "iopub.execute_input": "2023-03-14T03:13:18.611448Z",
     "iopub.status.busy": "2023-03-14T03:13:18.610789Z",
     "iopub.status.idle": "2023-03-14T03:13:18.621132Z",
     "shell.execute_reply": "2023-03-14T03:13:18.620453Z",
     "shell.execute_reply.started": "2023-03-14T03:13:18.611387Z"
    },
    "tags": []
   },
   "outputs": [],
   "source": [
    "# 保证随机可复现\n",
    "random.seed(0)\n",
    "\n",
    "# 将数据集中10%的数据划分到验证集中\n",
    "split_rate = 0.1\n",
    "\n",
    "# 指向你解压后的data文件夹\n",
    "cwd = os.getcwd()\n",
    "# data_root = os.path.join(cwd, \"data_data\")#win_powershell\n",
    "data_root = os.path.abspath(os.path.join(cwd))\n",
    "origin_data_path = os.path.join(data_root, \"300\")\n",
    "assert os.path.exists(origin_data_path), \"path '{}' does not exist.\".format(origin_data_path)"
   ]
  },
  {
   "cell_type": "code",
   "execution_count": 10,
   "id": "94787de7-548b-44db-8aaf-8d7061c0d58e",
   "metadata": {
    "execution": {
     "iopub.execute_input": "2023-03-14T03:13:19.075192Z",
     "iopub.status.busy": "2023-03-14T03:13:19.074681Z",
     "iopub.status.idle": "2023-03-14T03:13:19.083851Z",
     "shell.execute_reply": "2023-03-14T03:13:19.082881Z",
     "shell.execute_reply.started": "2023-03-14T03:13:19.075131Z"
    },
    "tags": []
   },
   "outputs": [],
   "source": [
    "data_class = [cla for cla in os.listdir(origin_data_path)\n",
    "                if os.path.isdir(os.path.join(origin_data_path, cla))]\n",
    "\n",
    "# 建立保存tmp的文件夹\n",
    "train_root = os.path.join(data_root, \"tmp\")\n",
    "mk_file(train_root)\n",
    "\n",
    "\n",
    "# 建立保存validation的文件夹\n",
    "val_root = os.path.join(data_root, \"val\")\n",
    "mk_file(val_root)\n"
   ]
  },
  {
   "cell_type": "code",
   "execution_count": null,
   "id": "11bf167a-6501-49b6-b377-d79f72bd0788",
   "metadata": {
    "tags": []
   },
   "outputs": [],
   "source": [
    "total_num = 0\n",
    "for cla in data_class:\n",
    "    cla_path = os.path.join(origin_data_path, cla)\n",
    "    images = os.listdir(cla_path)\n",
    "    num = len(images)\n",
    "    total_num += num\n",
    "    # 随机采样验证集的索引\n",
    "    eval_index = random.sample(images, k=int(num*split_rate))\n",
    "    for index, image in enumerate(images):\n",
    "        if image in eval_index:\n",
    "            # 将分配至验证集中的文件复制到相应目录\n",
    "            image_path = os.path.join(cla_path, image)\n",
    "            new_path = os.path.join(val_root, cla)\n",
    "            copy(image_path, new_path)\n",
    "        else:\n",
    "            # 将分配至训练集中的文件复制到相应目录\n",
    "            image_path = os.path.join(cla_path, image)\n",
    "            new_path = os.path.join(train_root, cla)\n",
    "            copy(image_path, new_path)\n",
    "        print(\"\\r[{}] processing [{}/{}]\".format(cla, index+1, num), end=\"\")  # processing bar\n",
    "    print()\n",
    "\n",
    "print(f\"processing {total_num} done!\")"
   ]
  },
  {
   "cell_type": "code",
   "execution_count": 6,
   "id": "6cd56b98-5406-487e-8d2e-56079bb49bbe",
   "metadata": {
    "execution": {
     "iopub.execute_input": "2022-07-01T16:54:18.357713Z",
     "iopub.status.busy": "2022-07-01T16:54:18.357239Z",
     "iopub.status.idle": "2022-07-01T16:54:18.367239Z",
     "shell.execute_reply": "2022-07-01T16:54:18.365600Z",
     "shell.execute_reply.started": "2022-07-01T16:54:18.357657Z"
    },
    "tags": []
   },
   "outputs": [],
   "source": [
    "# 保证随机可复现\n",
    "random.seed(0)\n",
    "\n",
    "# 将tmp中11%的数据划分到验证集中\n",
    "split_rate = 0.11 # default 0.1\n",
    "\n",
    "# 指向你解压后的data_photos文件夹\n",
    "cwd = os.getcwd()\n",
    "# data_root = os.path.join(cwd, \"data_data\")#win_powershell\n",
    "data_root = os.path.abspath(os.path.join(cwd))\n",
    "origin_data_path = os.path.join(data_root, \"tmp\")\n",
    "assert os.path.exists(origin_data_path), \"path '{}' does not exist.\".format(origin_data_path)"
   ]
  },
  {
   "cell_type": "code",
   "execution_count": 7,
   "id": "7a482aeb-7858-42ca-be69-0816dae16852",
   "metadata": {
    "execution": {
     "iopub.execute_input": "2022-07-01T16:54:51.344888Z",
     "iopub.status.busy": "2022-07-01T16:54:51.344761Z",
     "iopub.status.idle": "2022-07-01T16:54:51.350363Z",
     "shell.execute_reply": "2022-07-01T16:54:51.349684Z",
     "shell.execute_reply.started": "2022-07-01T16:54:51.344874Z"
    }
   },
   "outputs": [],
   "source": [
    "data_class = [cla for cla in os.listdir(origin_data_path)\n",
    "                if os.path.isdir(os.path.join(origin_data_path, cla))]\n",
    "\n",
    "# 建立保存训练集的文件夹\n",
    "train_root = os.path.join(data_root, \"train\")\n",
    "mk_file(train_root)\n",
    "for cla in data_class:\n",
    "    # 建立每个类别对应的文件夹\n",
    "    mk_file(os.path.join(train_root, cla))\n",
    "\n",
    "# 建立保存test的文件夹\n",
    "val_root = os.path.join(data_root, \"test\")\n",
    "mk_file(val_root)\n",
    "for cla in data_class:\n",
    "    # 建立每个类别对应的文件夹\n",
    "    mk_file(os.path.join(val_root, cla))"
   ]
  },
  {
   "cell_type": "code",
   "execution_count": null,
   "id": "288fa080-aa81-4bb2-8153-cedafdc7e016",
   "metadata": {
    "tags": []
   },
   "outputs": [],
   "source": [
    "total_num = 0\n",
    "for cla in data_class:\n",
    "    cla_path = os.path.join(origin_data_path, cla)\n",
    "    images = os.listdir(cla_path)\n",
    "    num = len(images)\n",
    "    total_num += num\n",
    "    # 随机采样验证集的索引\n",
    "    eval_index = random.sample(images, k=int(num*split_rate))\n",
    "    for index, image in enumerate(images):\n",
    "        if image in eval_index:\n",
    "            # 将分配至验证集中的文件复制到相应目录\n",
    "            image_path = os.path.join(cla_path, image)\n",
    "            new_path = os.path.join(val_root, cla)\n",
    "            copy(image_path, new_path)\n",
    "        else:\n",
    "            # 将分配至训练集中的文件复制到相应目录\n",
    "            image_path = os.path.join(cla_path, image)\n",
    "            new_path = os.path.join(train_root, cla)\n",
    "            copy(image_path, new_path)\n",
    "        print(\"\\r[{}] processing [{}/{}]\".format(cla, index+1, num), end=\"\")  # processing bar\n",
    "    print()\n",
    "\n",
    "print(f\"processing {total_num} done!\")"
   ]
  },
  {
   "cell_type": "code",
   "execution_count": 12,
   "id": "0ac90863-c2f9-42b1-8fd8-31f734d45287",
   "metadata": {
    "execution": {
     "iopub.execute_input": "2023-03-10T07:22:05.033337Z",
     "iopub.status.busy": "2023-03-10T07:22:05.032774Z",
     "iopub.status.idle": "2023-03-10T07:22:05.390406Z",
     "shell.execute_reply": "2023-03-10T07:22:05.388415Z",
     "shell.execute_reply.started": "2023-03-10T07:22:05.033269Z"
    },
    "tags": []
   },
   "outputs": [
    {
     "name": "stdout",
     "output_type": "stream",
     "text": [
      "==train==\n",
      "\u001b[33makiec:\u001b[0m \t6061\n",
      "\u001b[33mbcc:\u001b[0m \t6219\n",
      "\u001b[33mbkl:\u001b[0m \t6197\n",
      "\u001b[33mdf:\u001b[0m \t4364\n",
      "\u001b[33mmel:\u001b[0m \t6265\n",
      "\u001b[33mnv:\u001b[0m \t4356\n",
      "\u001b[33mvasc:\u001b[0m \t5370\n",
      "total:38832\n"
     ]
    }
   ],
   "source": [
    "! bash echo_num.sh train"
   ]
  },
  {
   "cell_type": "code",
   "execution_count": 13,
   "id": "958c866c-0dca-4e9a-b05b-dfd4210400ce",
   "metadata": {
    "execution": {
     "iopub.execute_input": "2023-03-10T07:22:05.821001Z",
     "iopub.status.busy": "2023-03-10T07:22:05.820416Z",
     "iopub.status.idle": "2023-03-10T07:22:05.990758Z",
     "shell.execute_reply": "2023-03-10T07:22:05.988914Z",
     "shell.execute_reply.started": "2023-03-10T07:22:05.820924Z"
    },
    "tags": []
   },
   "outputs": [
    {
     "name": "stdout",
     "output_type": "stream",
     "text": [
      "==val==\n",
      "\u001b[33makiec:\u001b[0m \t673\n",
      "\u001b[33mbcc:\u001b[0m \t690\n",
      "\u001b[33mbkl:\u001b[0m \t688\n",
      "\u001b[33mdf:\u001b[0m \t484\n",
      "\u001b[33mmel:\u001b[0m \t696\n",
      "\u001b[33mnv:\u001b[0m \t483\n",
      "\u001b[33mvasc:\u001b[0m \t596\n",
      "total:4310\n"
     ]
    }
   ],
   "source": [
    "! bash echo_num.sh val"
   ]
  },
  {
   "cell_type": "code",
   "execution_count": 14,
   "id": "c2f32ce0-952e-433d-a4ba-2738d45f67c0",
   "metadata": {
    "execution": {
     "iopub.execute_input": "2023-03-10T07:22:06.475841Z",
     "iopub.status.busy": "2023-03-10T07:22:06.475317Z",
     "iopub.status.idle": "2023-03-10T07:22:06.642522Z",
     "shell.execute_reply": "2023-03-10T07:22:06.640853Z",
     "shell.execute_reply.started": "2023-03-10T07:22:06.475771Z"
    },
    "tags": []
   },
   "outputs": [
    {
     "name": "stdout",
     "output_type": "stream",
     "text": [
      "==test==\n",
      "\u001b[33makiec:\u001b[0m \t748\n",
      "\u001b[33mbcc:\u001b[0m \t767\n",
      "\u001b[33mbkl:\u001b[0m \t765\n",
      "\u001b[33mdf:\u001b[0m \t538\n",
      "\u001b[33mmel:\u001b[0m \t773\n",
      "\u001b[33mnv:\u001b[0m \t537\n",
      "\u001b[33mvasc:\u001b[0m \t662\n",
      "total:4790\n"
     ]
    }
   ],
   "source": [
    "! ./echo_num.sh test"
   ]
  }
 ],
 "metadata": {
  "kernelspec": {
   "display_name": "Python 3 (ipykernel)",
   "language": "python",
   "name": "python3"
  },
  "language_info": {
   "codemirror_mode": {
    "name": "ipython",
    "version": 3
   },
   "file_extension": ".py",
   "mimetype": "text/x-python",
   "name": "python",
   "nbconvert_exporter": "python",
   "pygments_lexer": "ipython3",
   "version": "3.8.12"
  }
 },
 "nbformat": 4,
 "nbformat_minor": 5
}
