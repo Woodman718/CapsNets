{
 "cells": [
  {
   "cell_type": "code",
   "execution_count": 1,
   "metadata": {
    "execution": {
     "iopub.execute_input": "2023-01-14T03:09:24.181226Z",
     "iopub.status.busy": "2023-01-14T03:09:24.181157Z",
     "iopub.status.idle": "2023-01-14T03:09:24.187813Z",
     "shell.execute_reply": "2023-01-14T03:09:24.187585Z",
     "shell.execute_reply.started": "2023-01-14T03:09:24.181217Z"
    }
   },
   "outputs": [],
   "source": [
    "%load_ext autoreload\n",
    "%autoreload 2"
   ]
  },
  {
   "cell_type": "code",
   "execution_count": 2,
   "metadata": {
    "execution": {
     "iopub.execute_input": "2023-01-14T03:09:24.188347Z",
     "iopub.status.busy": "2023-01-14T03:09:24.188185Z",
     "iopub.status.idle": "2023-01-14T03:09:24.620554Z",
     "shell.execute_reply": "2023-01-14T03:09:24.620179Z",
     "shell.execute_reply.started": "2023-01-14T03:09:24.188336Z"
    },
    "tags": []
   },
   "outputs": [],
   "source": [
    "from einops import rearrange, repeat,reduce\n",
    "from einops.layers.torch import Rearrange\n",
    "from torch import linalg as LA"
   ]
  },
  {
   "cell_type": "code",
   "execution_count": 3,
   "metadata": {
    "execution": {
     "iopub.execute_input": "2023-01-14T03:09:24.621087Z",
     "iopub.status.busy": "2023-01-14T03:09:24.621005Z",
     "iopub.status.idle": "2023-01-14T03:09:25.045759Z",
     "shell.execute_reply": "2023-01-14T03:09:25.045449Z",
     "shell.execute_reply.started": "2023-01-14T03:09:24.621076Z"
    },
    "tags": [],
    "uuid": "5cde640c-432f-4f8a-9f00-017bf8c65e34"
   },
   "outputs": [],
   "source": [
    "import torch\n",
    "import sys, os\n",
    "import json\n",
    "import torch.nn as nn  \n",
    "import numpy as np\n",
    "import matplotlib.pyplot as plt\n",
    "import torch.nn.functional as F\n",
    "import torch.optim as optim\n",
    "\n",
    "# from torch.utils.tensorboard import SummaryWriter\n",
    "import prettytable\n",
    "import time, random\n",
    "sys.setrecursionlimit(15000)\n",
    "from thop.profile import profile\n",
    "\n",
    "from PIL import Image\n",
    "from torch.optim import lr_scheduler\n",
    "from torch.autograd import Variable\n",
    "from torch.utils.data import DataLoader\n",
    "from torchvision import datasets, transforms\n",
    "from torchsummary import summary\n",
    "from tqdm.notebook import tqdm\n",
    "import seaborn as sns\n",
    "\n",
    "from utils import ImageShow,draw_size_acc,one_hot,setup_seed\n",
    "from utils import confusion_matrix,metrics_scores,pff\n",
    "\n",
    "setup_seed(3047)\n",
    "\n",
    "from model import FixCapsNet"
   ]
  },
  {
   "cell_type": "code",
   "execution_count": 4,
   "metadata": {
    "execution": {
     "iopub.execute_input": "2023-01-14T03:09:25.046325Z",
     "iopub.status.busy": "2023-01-14T03:09:25.046195Z",
     "iopub.status.idle": "2023-01-14T03:09:25.055998Z",
     "shell.execute_reply": "2023-01-14T03:09:25.055656Z",
     "shell.execute_reply.started": "2023-01-14T03:09:25.046312Z"
    },
    "tags": [],
    "uuid": "a391afe8-e37b-4ef6-ab2e-c0bdbb7849ee"
   },
   "outputs": [],
   "source": [
    "# Settings.\n",
    "sys.path.append(os.pardir)\n",
    "device = torch.device('cuda' if torch.cuda.is_available() else \"cpu\")\n",
    "img_title = \"NCT_CRC\"#HAM_Matrix# ten categores\n",
    "best_acc = 0.\n",
    "eval_acc = 0.\n",
    "best_train = 0.\n",
    "dict_batch = {}\n",
    "dict_imgSize = {}\n",
    "\n",
    "\n",
    "try:\n",
    "    print(len(train_acc_list))\n",
    "except NameError:\n",
    "    train_loss_list = []\n",
    "    train_acc_list = []\n",
    "    test_loss_list = []\n",
    "    test_acc_list = []\n",
    "    test_auc_list = []\n",
    "    val_loss_list = []\n",
    "    val_acc_list = []\n",
    "#activate ImageShow\n",
    "show = ImageShow(train_loss_list = train_loss_list,\n",
    "                 train_acc_list = train_acc_list,\n",
    "                test_loss_list = test_loss_list,\n",
    "                test_acc_list = test_acc_list,\n",
    "                test_auc_list = test_auc_list,\n",
    "                val_loss_list = val_loss_list,\n",
    "                val_acc_list = val_acc_list,\n",
    "                )"
   ]
  },
  {
   "cell_type": "code",
   "execution_count": 5,
   "metadata": {
    "execution": {
     "iopub.execute_input": "2023-01-14T03:09:25.056518Z",
     "iopub.status.busy": "2023-01-14T03:09:25.056437Z",
     "iopub.status.idle": "2023-01-14T03:09:25.068770Z",
     "shell.execute_reply": "2023-01-14T03:09:25.068426Z",
     "shell.execute_reply.started": "2023-01-14T03:09:25.056508Z"
    },
    "tags": []
   },
   "outputs": [],
   "source": [
    "normalize = transforms.Normalize(mean=[0.485, 0.456, 0.406],\n",
    "                                 std=[0.229, 0.224, 0.225])\n",
    "# normalize = transforms.Normalize([0.5, 0.5, 0.5],[0.5, 0.5, 0.5])\n",
    "Resize = transforms.Resize((225,300))\n",
    "\n",
    "def get_data(trans='302'):\n",
    "    global test_dataset,train_loader,val_loader,test_loader\n",
    "    global train_num,val_num,test_num,n_classes,cla_dict\n",
    "    vt = int(trans)\n",
    "    data_transform = {\n",
    "        \"train\": transforms.Compose([Resize,\n",
    "                                     transforms.RandomVerticalFlip(),\n",
    "                                     transforms.ToTensor(),\n",
    "                                     normalize]),\n",
    "        \"val\": transforms.Compose([Resize,\n",
    "                                   transforms.ToTensor(),\n",
    "                                   normalize]),\n",
    "        \"test\": transforms.Compose([Resize,\n",
    "                                    transforms.ToTensor(),\n",
    "                                    normalize]),\n",
    "        }\n",
    "\n",
    "    data_root = os.path.abspath(os.path.join(os.getcwd(),\"..\"))  # get data root path\n",
    "    image_path = os.path.join(data_root, \"datasets\")#, \"COVID_19\")#ham11,HAM10000\n",
    "    # image_path = os.path.join(data_root, \"ImageNet\")#\n",
    "    assert os.path.exists(image_path), \"{} path does not exist.\".format(image_path)\n",
    "\n",
    "    train_dataset = datasets.ImageFolder(root=os.path.join(image_path,train_doc),#\n",
    "                                         transform=data_transform[\"train\"])\n",
    "    val_dataset = datasets.ImageFolder(root=os.path.join(image_path,val_doc),\n",
    "                                            transform=data_transform[\"val\"])\n",
    "    test_dataset = datasets.ImageFolder(root=os.path.join(image_path,test_doc),\n",
    "                                            transform=data_transform[\"test\"])\n",
    "\n",
    "    train_num = len(train_dataset)\n",
    "    val_num = len(val_dataset)\n",
    "    test_num = len(test_dataset)\n",
    "    \n",
    "    data_list = train_dataset.class_to_idx\n",
    "    cla_dict = dict((val, key) for key, val in data_list.items())\n",
    "    n_classes  = len(data_list)\n",
    "    \n",
    "    # write dict into json file\n",
    "    json_str = json.dumps(cla_dict, indent=4)\n",
    "    with open(f'{img_title}.json', 'w') as json_file:#class_indices\n",
    "        json_file.write(json_str)\n",
    "        \n",
    "    pin_memory = True\n",
    "    train_loader = DataLoader(train_dataset,batch_size=BatchSize,\n",
    "                                               pin_memory=pin_memory,\n",
    "                                               shuffle=True,num_workers=nw)\n",
    "    val_loader = DataLoader(val_dataset,batch_size=V_size,\n",
    "                                               pin_memory=pin_memory,\n",
    "                                               shuffle=False,num_workers=nw)\n",
    "    test_loader = DataLoader(test_dataset,batch_size=T_size,\n",
    "                                              pin_memory=pin_memory,\n",
    "                                              shuffle=False,num_workers=nw)\n",
    "\n",
    "    print(\"using {} images for training, {} images for validation, {} images for testing.\".format(train_num,\n",
    "                                                                                                  val_num,\n",
    "                                                                                                  test_num))"
   ]
  },
  {
   "cell_type": "code",
   "execution_count": 6,
   "metadata": {
    "execution": {
     "iopub.execute_input": "2023-01-14T03:09:25.069956Z",
     "iopub.status.busy": "2023-01-14T03:09:25.069840Z",
     "iopub.status.idle": "2023-01-14T03:09:25.290391Z",
     "shell.execute_reply": "2023-01-14T03:09:25.290014Z",
     "shell.execute_reply.started": "2023-01-14T03:09:25.069942Z"
    },
    "tags": []
   },
   "outputs": [
    {
     "name": "stdout",
     "output_type": "stream",
     "text": [
      "Using 6 dataloader workers every process.\n",
      "using 80108 images for training, 9897 images for validation, 9995 images for testing.\n",
      "Using 9 classes.\n"
     ]
    }
   ],
   "source": [
    "BatchSize = 168\n",
    "V_size = 32\n",
    "T_size = 32\n",
    "\n",
    "sub_dirs = \"NCT_CRC\"\n",
    "train_doc = f\"{sub_dirs}/train\"\n",
    "val_doc = f\"{sub_dirs}/val\" \n",
    "test_doc = f\"{sub_dirs}/test\" \n",
    "\n",
    "\n",
    "nw = min([os.cpu_count(), BatchSize if BatchSize > 1 else 0, 6]) \n",
    "print(f'Using {nw} dataloader workers every process.')\n",
    "get_data()\n",
    "print(f'Using {n_classes} classes.')"
   ]
  },
  {
   "cell_type": "code",
   "execution_count": 7,
   "metadata": {
    "execution": {
     "iopub.execute_input": "2023-01-14T03:09:25.290827Z",
     "iopub.status.busy": "2023-01-14T03:09:25.290748Z",
     "iopub.status.idle": "2023-01-14T03:09:26.993543Z",
     "shell.execute_reply": "2023-01-14T03:09:26.993159Z",
     "shell.execute_reply.started": "2023-01-14T03:09:25.290817Z"
    },
    "scrolled": true,
    "tags": []
   },
   "outputs": [],
   "source": [
    "# Code: https://github.com/Woodman718/FixCaps\n",
    "n_channels = 3 #RGB\n",
    "\n",
    "network = FixCapsNet(conv_inputs=n_channels, \n",
    "                     num_classes=n_classes,# category_number\n",
    "                     init_weights=True,)\n",
    "network = network.to(device)"
   ]
  },
  {
   "cell_type": "code",
   "execution_count": 8,
   "metadata": {
    "execution": {
     "iopub.execute_input": "2023-01-14T03:09:26.994087Z",
     "iopub.status.busy": "2023-01-14T03:09:26.994004Z",
     "iopub.status.idle": "2023-01-14T03:09:27.003564Z",
     "shell.execute_reply": "2023-01-14T03:09:27.003287Z",
     "shell.execute_reply.started": "2023-01-14T03:09:26.994075Z"
    },
    "tags": []
   },
   "outputs": [],
   "source": [
    "learning_rate = 0.123\n",
    "optimizer = optim.Adam(network.parameters(), lr=learning_rate)\n",
    "scheduler = lr_scheduler.CosineAnnealingLR(optimizer, 5, eta_min=1e-8, last_epoch=-1)"
   ]
  },
  {
   "cell_type": "code",
   "execution_count": 9,
   "metadata": {
    "execution": {
     "iopub.execute_input": "2023-01-14T03:09:27.004062Z",
     "iopub.status.busy": "2023-01-14T03:09:27.003949Z",
     "iopub.status.idle": "2023-01-14T03:09:27.012733Z",
     "shell.execute_reply": "2023-01-14T03:09:27.012510Z",
     "shell.execute_reply.started": "2023-01-14T03:09:27.004050Z"
    },
    "tags": []
   },
   "outputs": [],
   "source": [
    "# img_size = 299\n",
    "# summary(network,(n_channels,225,300))"
   ]
  },
  {
   "cell_type": "code",
   "execution_count": 10,
   "metadata": {
    "execution": {
     "iopub.execute_input": "2023-01-14T03:09:27.013295Z",
     "iopub.status.busy": "2023-01-14T03:09:27.013105Z",
     "iopub.status.idle": "2023-01-14T03:09:27.023197Z",
     "shell.execute_reply": "2023-01-14T03:09:27.022964Z",
     "shell.execute_reply.started": "2023-01-14T03:09:27.013283Z"
    },
    "tags": []
   },
   "outputs": [
    {
     "data": {
      "text/plain": [
       "Sequential(\n",
       "  (0): Conv2d(3, 128, kernel_size=(21, 21), stride=(2, 2))\n",
       "  (1): BatchNorm2d(128, eps=1e-05, momentum=0.1, affine=True, track_running_stats=True)\n",
       "  (2): ReLU(inplace=True)\n",
       ")"
      ]
     },
     "execution_count": 10,
     "metadata": {},
     "output_type": "execute_result"
    }
   ],
   "source": [
    "network.Convolution"
   ]
  },
  {
   "cell_type": "code",
   "execution_count": 11,
   "metadata": {
    "execution": {
     "iopub.execute_input": "2023-01-14T03:09:27.023737Z",
     "iopub.status.busy": "2023-01-14T03:09:27.023573Z",
     "iopub.status.idle": "2023-01-14T03:09:27.267336Z",
     "shell.execute_reply": "2023-01-14T03:09:27.267030Z",
     "shell.execute_reply.started": "2023-01-14T03:09:27.023719Z"
    },
    "tags": []
   },
   "outputs": [
    {
     "name": "stdout",
     "output_type": "stream",
     "text": [
      "  Model   | Params(M) | FLOPs(G) | FPS\n",
      "----------|-----------|----------|-----\n",
      "FixCaps |    1.41   |   2.74   | 105.4\n"
     ]
    }
   ],
   "source": [
    "dsize = (1, 3, 225, 300)\n",
    "# mode='DS'\n",
    "input_data = torch.randn(dsize).to(device)\n",
    "pff(m_name=\"FixCaps\",model=network,inputes=input_data)"
   ]
  },
  {
   "cell_type": "code",
   "execution_count": 12,
   "metadata": {
    "execution": {
     "iopub.execute_input": "2023-01-14T03:09:27.267835Z",
     "iopub.status.busy": "2023-01-14T03:09:27.267741Z",
     "iopub.status.idle": "2023-01-14T03:09:27.280967Z",
     "shell.execute_reply": "2023-01-14T03:09:27.280612Z",
     "shell.execute_reply.started": "2023-01-14T03:09:27.267823Z"
    },
    "jupyter": {
     "source_hidden": true
    },
    "tags": [],
    "uuid": "86f92f63-16e2-4ca6-b5da-d848546a391e"
   },
   "outputs": [],
   "source": [
    "def train(epoch):\n",
    "    network.train()\n",
    "    global best_train,train_evl_result#,evl_tmp_result\n",
    "    running_loss,r_pre = 0., 0.\n",
    "    print_step = len(train_loader)//2\n",
    "    steps_num = len(train_loader)\n",
    "    tmp_size = BatchSize\n",
    "    print(f'\\033[1;32m[Train Epoch:[{epoch}]{img_title} ==> Training]\\033[0m ...')\n",
    "    optimizer.zero_grad()\n",
    "    train_tmp_result = torch.zeros(n_classes,n_classes)\n",
    "    \n",
    "    for batch_idx, (data, target) in enumerate(tqdm(train_loader)):        \n",
    "\n",
    "        batch_idx += 1\n",
    "        target_indices = target\n",
    "        target_one_hot = one_hot(target, length=n_classes)\n",
    "        data, target = Variable(data).to(device), Variable(target_one_hot).to(device)\n",
    "\n",
    "        output = network(data)\n",
    "        loss = network.loss(output, target, size_average=True)       \n",
    "        loss.backward()     \n",
    "        optimizer.step()\n",
    "        optimizer.zero_grad()\n",
    "        \n",
    "        running_loss += loss.item()\n",
    "        \n",
    "        # v_mag = torch.sqrt(torch.sum(output**2, dim=2, keepdim=True)) \n",
    "        # v_mag = torch.norm(output,p=2,dim=(2,3), keepdim=True)\n",
    "        v_mag = LA.norm(output,ord='nuc',dim=(2,3), keepdim=True)#‘fro’ (default)\n",
    "        pred = v_mag.data.max(1, keepdim=True)[1].cpu().squeeze()\n",
    "        r_pre += pred.eq(target_indices.view_as(pred)).squeeze().sum()\n",
    "        tmp_pre = r_pre/(batch_idx*BatchSize)\n",
    "        \n",
    "        if batch_idx % print_step == 0 and batch_idx != steps_num:\n",
    "            print(\"[{}/{}] Loss{:.5f},ACC:{:.5f}\".format(batch_idx,len(train_loader),\n",
    "                                                         loss,tmp_pre))\n",
    "        if batch_idx % steps_num == 0 and train_num % tmp_size != 0:\n",
    "            tmp_size = train_num % tmp_size\n",
    "                          \n",
    "        for i in range(tmp_size):\n",
    "            pred_x = pred.numpy()\n",
    "            train_tmp_result[target_indices[i]][pred_x[i]] +=1\n",
    "\n",
    "        if best_train < tmp_pre and tmp_pre >= 90: \n",
    "            torch.save(network.state_dict(), iter_path)\n",
    "        \n",
    "    epoch_acc = r_pre / train_num\n",
    "    epoch_loss = running_loss / len(train_loader)  \n",
    "    train_loss_list.append(epoch_loss)\n",
    "    train_acc_list.append(epoch_acc) \n",
    "    scheduler.step()\n",
    "    if best_train < epoch_acc:\n",
    "        best_train = epoch_acc\n",
    "        train_evl_result = train_tmp_result.clone()\n",
    "        torch.save(network.state_dict(), last_path)\n",
    "        torch.save(train_evl_result, f'./tmp/{img_title}/{suf}/train_evl_result.pth')\n",
    "    \n",
    "    print(\"Train Epoch:[{}] Loss:{:.5f},Acc:{:.5f},Best_train:{:.5f}\".format(epoch,epoch_loss,\n",
    "                                                                     epoch_acc,best_train))"
   ]
  },
  {
   "cell_type": "code",
   "execution_count": 13,
   "metadata": {
    "execution": {
     "iopub.execute_input": "2023-01-14T03:09:27.281603Z",
     "iopub.status.busy": "2023-01-14T03:09:27.281460Z",
     "iopub.status.idle": "2023-01-14T03:09:27.293855Z",
     "shell.execute_reply": "2023-01-14T03:09:27.293560Z",
     "shell.execute_reply.started": "2023-01-14T03:09:27.281591Z"
    },
    "jupyter": {
     "source_hidden": true
    },
    "tags": []
   },
   "outputs": [],
   "source": [
    "def test(split=\"test\"):\n",
    "    network.eval()\n",
    "    global test_acc,eval_acc,best_acc,net_parameters\n",
    "    global test_evl_result,val_evl_result#,evl_tmp_result\n",
    "    cor_loss,correct,Auc, Acc= 0, 0, 0, 0\n",
    "    evl_tmp_result = torch.zeros(n_classes,n_classes)\n",
    "    \n",
    "    if split == 'val':\n",
    "        data_loader = val_loader\n",
    "        tmp_size = V_size\n",
    "        data_num = val_num\n",
    "    else:\n",
    "        data_loader = test_loader\n",
    "        tmp_size = T_size\n",
    "        data_num = test_num\n",
    "        \n",
    "    steps_num = len(data_loader)\n",
    "    print(f'\\033[35m{img_title} ==> {split} ...\\033[0m')\n",
    "    \n",
    "    with torch.no_grad():\n",
    "        for batch_idx, (data, target) in enumerate(tqdm(data_loader)):\n",
    "            batch_idx +=1\n",
    "            target_indices = target#torch.Size([batch, 7])  \n",
    "            target_one_hot = one_hot(target, length=n_classes)            \n",
    "            data, target = Variable(data).to(device), Variable(target_one_hot).to(device)\n",
    "\n",
    "            output= network(data)#torch.Size([batch_size, 7, 16, 1])         \n",
    "            # v_mag = torch.sqrt(torch.sum(output**2, dim=2, keepdim=True))\n",
    "            # output = rearrange(output, 'b c (g h) w -> b c g (h w)',g=4)\n",
    "            # v_mag = torch.norm(output,p=2,dim=(2,3), keepdim=True)\n",
    "            v_mag = LA.norm(output,ord='nuc',dim=(2,3), keepdim=True)#\n",
    "            pred = v_mag.data.max(1, keepdim=True)[1].cpu()#[9, 2, 1, 1, 6,..., 1, 4, 6, 5, 7,]\n",
    "            \n",
    "            if batch_idx % steps_num == 0 and data_num % tmp_size != 0:\n",
    "                tmp_size = data_num % tmp_size\n",
    "                          \n",
    "            for i in range(tmp_size):\n",
    "                pred_y = pred.numpy()\n",
    "                evl_tmp_result[target_indices[i]][pred_y[i]] +=1 \n",
    "\n",
    "        diag_sum = torch.sum(evl_tmp_result.diagonal())\n",
    "        all_sum = torch.sum(evl_tmp_result) \n",
    "        test_acc = 100. * float(torch.div(diag_sum,all_sum)) \n",
    "        print(f\"{split}_Acc:\\033[1;32m{round(float(test_acc),3)}%\\033[0m\")\n",
    "\n",
    "        if split == 'val':\n",
    "            val_acc_list.append(test_acc)\n",
    "            if test_acc >= best_acc:\n",
    "                best_acc = test_acc\n",
    "                val_evl_result = evl_tmp_result.clone()#copy.deepcopy(input)\n",
    "                torch.save(network.state_dict(), save_PATH)\n",
    "                torch.save(val_evl_result, f'./tmp/{img_title}/{suf}/best_evl_result.pth')\n",
    "            print(f\"Best_val:\\033[1;32m[{round(float(best_acc),3)}%]\\033[0m\")\n",
    "        else:\n",
    "            test_acc_list.append(test_acc)\n",
    "            if test_acc >= eval_acc:\n",
    "                eval_acc = test_acc\n",
    "                test_evl_result = evl_tmp_result.clone()#copy.deepcopy(input)\n",
    "                torch.save(network.state_dict(), test_path)\n",
    "                torch.save(test_evl_result, f'./tmp/{img_title}/{suf}/{split}_evl_result.pth')\n",
    "            print(f\"Best_eval:\\033[1;32m[{round(float(eval_acc),3)}%]\\033[0m\")\n",
    "    "
   ]
  },
  {
   "cell_type": "code",
   "execution_count": 14,
   "metadata": {
    "execution": {
     "iopub.execute_input": "2023-01-14T03:09:27.294325Z",
     "iopub.status.busy": "2023-01-14T03:09:27.294240Z",
     "iopub.status.idle": "2023-01-14T03:09:27.475786Z",
     "shell.execute_reply": "2023-01-14T03:09:27.473889Z",
     "shell.execute_reply.started": "2023-01-14T03:09:27.294315Z"
    },
    "tags": []
   },
   "outputs": [
    {
     "name": "stdout",
     "output_type": "stream",
     "text": [
      "suf:0114_110927\n",
      "./tmp/NCT_CRC/0114_110927/best_NCT_CRC_0114_110927.pth\n"
     ]
    }
   ],
   "source": [
    "#create store\n",
    "try:\n",
    "    print(f\"suf:{suf}\")\n",
    "except NameError:\n",
    "    suf = time.strftime(\"%m%d_%H%M%S\", time.localtime())\n",
    "    print(f\"suf:{suf}\")   \n",
    "if os.path.exists(f'./tmp/{img_title}/{suf}'):\n",
    "    print (f'Store: \"./tmp/{img_title}/{suf}\"')\n",
    "else:\n",
    "    !mkdir -p ./tmp/{img_title}/{suf} \n",
    "iter_path = f'./tmp/{img_title}/{suf}/train_{img_title}_{suf}.pth' #training\n",
    "save_PATH = f'./tmp/{img_title}/{suf}/best_{img_title}_{suf}.pth' #validation\n",
    "last_path = f'./tmp/{img_title}/{suf}/last_{img_title}_{suf}.pth' #training\n",
    "test_path = f'./tmp/{img_title}/{suf}/test_best_{img_title}_{suf}.pth' #testing\n",
    "print(save_PATH)"
   ]
  },
  {
   "cell_type": "code",
   "execution_count": 15,
   "metadata": {
    "execution": {
     "iopub.execute_input": "2023-01-14T03:09:27.478650Z",
     "iopub.status.busy": "2023-01-14T03:09:27.478186Z",
     "iopub.status.idle": "2023-01-14T03:09:27.501272Z",
     "shell.execute_reply": "2023-01-14T03:09:27.501019Z",
     "shell.execute_reply.started": "2023-01-14T03:09:27.478592Z"
    },
    "scrolled": true,
    "tags": [],
    "uuid": "edaf3774-de76-44a5-aabd-fb52532ea36e"
   },
   "outputs": [],
   "source": [
    "num_epochs= 108"
   ]
  },
  {
   "cell_type": "code",
   "execution_count": 16,
   "metadata": {
    "execution": {
     "iopub.execute_input": "2023-01-14T03:09:27.501774Z",
     "iopub.status.busy": "2023-01-14T03:09:27.501660Z",
     "iopub.status.idle": "2023-01-14T08:01:19.281030Z",
     "shell.execute_reply": "2023-01-14T08:01:19.280763Z",
     "shell.execute_reply.started": "2023-01-14T03:09:27.501758Z"
    },
    "scrolled": true,
    "tags": [],
    "uuid": "edaf3774-de76-44a5-aabd-fb52532ea36e"
   },
   "outputs": [
    {
     "name": "stdout",
     "output_type": "stream",
     "text": [
      "\u001b[1;32m[Train Epoch:[1]NCT_CRC ==> Training]\u001b[0m ...\n"
     ]
    },
    {
     "data": {
      "application/vnd.jupyter.widget-view+json": {
       "model_id": "8151e52ae4144065b20dee3cb967213c",
       "version_major": 2,
       "version_minor": 0
      },
      "text/plain": [
       "  0%|          | 0/477 [00:00<?, ?it/s]"
      ]
     },
     "metadata": {},
     "output_type": "display_data"
    },
    {
     "name": "stdout",
     "output_type": "stream",
     "text": [
      "[238/477] Loss0.23928,ACC:0.44583\n",
      "[476/477] Loss0.18978,ACC:0.55391\n",
      "Train Epoch:[1] Loss:0.27345,Acc:0.55425,Best_train:0.55425\n",
      "\u001b[35mNCT_CRC ==> val ...\u001b[0m\n"
     ]
    },
    {
     "data": {
      "application/vnd.jupyter.widget-view+json": {
       "model_id": "14705b0df6b04c12a96f6d1a76e4fb27",
       "version_major": 2,
       "version_minor": 0
      },
      "text/plain": [
       "  0%|          | 0/310 [00:00<?, ?it/s]"
      ]
     },
     "metadata": {},
     "output_type": "display_data"
    },
    {
     "name": "stdout",
     "output_type": "stream",
     "text": [
      "val_Acc:\u001b[1;32m81.772%\u001b[0m\n",
      "Best_val:\u001b[1;32m[81.772%]\u001b[0m\n",
      "\u001b[1;32m[Train Epoch:[2]NCT_CRC ==> Training]\u001b[0m ...\n"
     ]
    },
    {
     "data": {
      "application/vnd.jupyter.widget-view+json": {
       "model_id": "cf12cfcd64404e94b28cbafb0ed9a52b",
       "version_major": 2,
       "version_minor": 0
      },
      "text/plain": [
       "  0%|          | 0/477 [00:00<?, ?it/s]"
      ]
     },
     "metadata": {},
     "output_type": "display_data"
    },
    {
     "name": "stdout",
     "output_type": "stream",
     "text": [
      "[238/477] Loss0.09121,ACC:0.75040\n",
      "[476/477] Loss0.13960,ACC:0.78205\n",
      "Train Epoch:[2] Loss:0.14826,Acc:0.78206,Best_train:0.78206\n",
      "\u001b[35mNCT_CRC ==> val ...\u001b[0m\n"
     ]
    },
    {
     "data": {
      "application/vnd.jupyter.widget-view+json": {
       "model_id": "d77bf3f6acfa40cab80234b6f303af9b",
       "version_major": 2,
       "version_minor": 0
      },
      "text/plain": [
       "  0%|          | 0/310 [00:00<?, ?it/s]"
      ]
     },
     "metadata": {},
     "output_type": "display_data"
    },
    {
     "name": "stdout",
     "output_type": "stream",
     "text": [
      "val_Acc:\u001b[1;32m69.213%\u001b[0m\n",
      "Best_val:\u001b[1;32m[81.772%]\u001b[0m\n",
      "\u001b[1;32m[Train Epoch:[3]NCT_CRC ==> Training]\u001b[0m ...\n"
     ]
    },
    {
     "data": {
      "application/vnd.jupyter.widget-view+json": {
       "model_id": "4ae02706b95e4493a0953799d7dd9933",
       "version_major": 2,
       "version_minor": 0
      },
      "text/plain": [
       "  0%|          | 0/477 [00:00<?, ?it/s]"
      ]
     },
     "metadata": {},
     "output_type": "display_data"
    },
    {
     "name": "stdout",
     "output_type": "stream",
     "text": [
      "[238/477] Loss0.10473,ACC:0.83756\n",
      "[476/477] Loss0.14469,ACC:0.85183\n",
      "Train Epoch:[3] Loss:0.10839,Acc:0.85186,Best_train:0.85186\n",
      "\u001b[35mNCT_CRC ==> val ...\u001b[0m\n"
     ]
    },
    {
     "data": {
      "application/vnd.jupyter.widget-view+json": {
       "model_id": "5be45beaba9a4289859296ca65b1288b",
       "version_major": 2,
       "version_minor": 0
      },
      "text/plain": [
       "  0%|          | 0/310 [00:00<?, ?it/s]"
      ]
     },
     "metadata": {},
     "output_type": "display_data"
    },
    {
     "name": "stdout",
     "output_type": "stream",
     "text": [
      "val_Acc:\u001b[1;32m95.342%\u001b[0m\n",
      "Best_val:\u001b[1;32m[95.342%]\u001b[0m\n",
      "\u001b[1;32m[Train Epoch:[4]NCT_CRC ==> Training]\u001b[0m ...\n"
     ]
    },
    {
     "data": {
      "application/vnd.jupyter.widget-view+json": {
       "model_id": "63ed77fbdfd44522addca25dd12d7ee3",
       "version_major": 2,
       "version_minor": 0
      },
      "text/plain": [
       "  0%|          | 0/477 [00:00<?, ?it/s]"
      ]
     },
     "metadata": {},
     "output_type": "display_data"
    },
    {
     "name": "stdout",
     "output_type": "stream",
     "text": [
      "[238/477] Loss0.05827,ACC:0.88851\n",
      "[476/477] Loss0.07669,ACC:0.89349\n",
      "Train Epoch:[4] Loss:0.08090,Acc:0.89352,Best_train:0.89352\n",
      "\u001b[35mNCT_CRC ==> val ...\u001b[0m\n"
     ]
    },
    {
     "data": {
      "application/vnd.jupyter.widget-view+json": {
       "model_id": "ca36033af0e14a85b16c1ef0feb1ba2e",
       "version_major": 2,
       "version_minor": 0
      },
      "text/plain": [
       "  0%|          | 0/310 [00:00<?, ?it/s]"
      ]
     },
     "metadata": {},
     "output_type": "display_data"
    },
    {
     "name": "stdout",
     "output_type": "stream",
     "text": [
      "val_Acc:\u001b[1;32m98.848%\u001b[0m\n",
      "Best_val:\u001b[1;32m[98.848%]\u001b[0m\n",
      "\u001b[1;32m[Train Epoch:[5]NCT_CRC ==> Training]\u001b[0m ...\n"
     ]
    },
    {
     "data": {
      "application/vnd.jupyter.widget-view+json": {
       "model_id": "25b1bfd6f8d84657a628a5b47e0059bf",
       "version_major": 2,
       "version_minor": 0
      },
      "text/plain": [
       "  0%|          | 0/477 [00:00<?, ?it/s]"
      ]
     },
     "metadata": {},
     "output_type": "display_data"
    },
    {
     "name": "stdout",
     "output_type": "stream",
     "text": [
      "[238/477] Loss0.06294,ACC:0.91309\n",
      "[476/477] Loss0.06511,ACC:0.91485\n",
      "Train Epoch:[5] Loss:0.06585,Acc:0.91485,Best_train:0.91485\n",
      "\u001b[35mNCT_CRC ==> val ...\u001b[0m\n"
     ]
    },
    {
     "data": {
      "application/vnd.jupyter.widget-view+json": {
       "model_id": "4641d441714c4404be1e12f79e3444ff",
       "version_major": 2,
       "version_minor": 0
      },
      "text/plain": [
       "  0%|          | 0/310 [00:00<?, ?it/s]"
      ]
     },
     "metadata": {},
     "output_type": "display_data"
    },
    {
     "name": "stdout",
     "output_type": "stream",
     "text": [
      "val_Acc:\u001b[1;32m99.293%\u001b[0m\n",
      "Best_val:\u001b[1;32m[99.293%]\u001b[0m\n",
      "\u001b[1;32m[Train Epoch:[6]NCT_CRC ==> Training]\u001b[0m ...\n"
     ]
    },
    {
     "data": {
      "application/vnd.jupyter.widget-view+json": {
       "model_id": "bb1fccc7545a4867b12fcdce27981b25",
       "version_major": 2,
       "version_minor": 0
      },
      "text/plain": [
       "  0%|          | 0/477 [00:00<?, ?it/s]"
      ]
     },
     "metadata": {},
     "output_type": "display_data"
    },
    {
     "name": "stdout",
     "output_type": "stream",
     "text": [
      "[238/477] Loss0.05562,ACC:0.91797\n",
      "[476/477] Loss0.05565,ACC:0.91760\n",
      "Train Epoch:[6] Loss:0.06349,Acc:0.91756,Best_train:0.91756\n",
      "\u001b[35mNCT_CRC ==> val ...\u001b[0m\n"
     ]
    },
    {
     "data": {
      "application/vnd.jupyter.widget-view+json": {
       "model_id": "4f642619da4e429bbcff923a359bb9bc",
       "version_major": 2,
       "version_minor": 0
      },
      "text/plain": [
       "  0%|          | 0/310 [00:00<?, ?it/s]"
      ]
     },
     "metadata": {},
     "output_type": "display_data"
    },
    {
     "name": "stdout",
     "output_type": "stream",
     "text": [
      "val_Acc:\u001b[1;32m99.232%\u001b[0m\n",
      "Best_val:\u001b[1;32m[99.293%]\u001b[0m\n",
      "\u001b[1;32m[Train Epoch:[7]NCT_CRC ==> Training]\u001b[0m ...\n"
     ]
    },
    {
     "data": {
      "application/vnd.jupyter.widget-view+json": {
       "model_id": "2795158c5ba5423aac3ec2cb4c1cae77",
       "version_major": 2,
       "version_minor": 0
      },
      "text/plain": [
       "  0%|          | 0/477 [00:00<?, ?it/s]"
      ]
     },
     "metadata": {},
     "output_type": "display_data"
    },
    {
     "name": "stdout",
     "output_type": "stream",
     "text": [
      "[238/477] Loss0.05887,ACC:0.91977\n",
      "[476/477] Loss0.05397,ACC:0.92017\n",
      "Train Epoch:[7] Loss:0.06218,Acc:0.92018,Best_train:0.92018\n",
      "\u001b[35mNCT_CRC ==> val ...\u001b[0m\n"
     ]
    },
    {
     "data": {
      "application/vnd.jupyter.widget-view+json": {
       "model_id": "3878f9874f2741039f6ebec3efd65e16",
       "version_major": 2,
       "version_minor": 0
      },
      "text/plain": [
       "  0%|          | 0/310 [00:00<?, ?it/s]"
      ]
     },
     "metadata": {},
     "output_type": "display_data"
    },
    {
     "name": "stdout",
     "output_type": "stream",
     "text": [
      "val_Acc:\u001b[1;32m99.404%\u001b[0m\n",
      "Best_val:\u001b[1;32m[99.404%]\u001b[0m\n",
      "\u001b[1;32m[Train Epoch:[8]NCT_CRC ==> Training]\u001b[0m ...\n"
     ]
    },
    {
     "data": {
      "application/vnd.jupyter.widget-view+json": {
       "model_id": "58a4597510ba4137b3f44d0eec30d49f",
       "version_major": 2,
       "version_minor": 0
      },
      "text/plain": [
       "  0%|          | 0/477 [00:00<?, ?it/s]"
      ]
     },
     "metadata": {},
     "output_type": "display_data"
    },
    {
     "name": "stdout",
     "output_type": "stream",
     "text": [
      "[238/477] Loss0.07286,ACC:0.91196\n",
      "[476/477] Loss0.07659,ACC:0.91610\n",
      "Train Epoch:[8] Loss:0.06501,Acc:0.91608,Best_train:0.92018\n",
      "\u001b[35mNCT_CRC ==> val ...\u001b[0m\n"
     ]
    },
    {
     "data": {
      "application/vnd.jupyter.widget-view+json": {
       "model_id": "701f165738c242ffa6c130c9edf5cdac",
       "version_major": 2,
       "version_minor": 0
      },
      "text/plain": [
       "  0%|          | 0/310 [00:00<?, ?it/s]"
      ]
     },
     "metadata": {},
     "output_type": "display_data"
    },
    {
     "name": "stdout",
     "output_type": "stream",
     "text": [
      "val_Acc:\u001b[1;32m98.151%\u001b[0m\n",
      "Best_val:\u001b[1;32m[99.404%]\u001b[0m\n",
      "\u001b[1;32m[Train Epoch:[9]NCT_CRC ==> Training]\u001b[0m ...\n"
     ]
    },
    {
     "data": {
      "application/vnd.jupyter.widget-view+json": {
       "model_id": "c6bb4ba43d2440419a9fc3a08086a3d9",
       "version_major": 2,
       "version_minor": 0
      },
      "text/plain": [
       "  0%|          | 0/477 [00:00<?, ?it/s]"
      ]
     },
     "metadata": {},
     "output_type": "display_data"
    },
    {
     "name": "stdout",
     "output_type": "stream",
     "text": [
      "[238/477] Loss0.07011,ACC:0.89951\n",
      "[476/477] Loss0.06050,ACC:0.91079\n",
      "Train Epoch:[9] Loss:0.06807,Acc:0.91076,Best_train:0.92018\n",
      "\u001b[35mNCT_CRC ==> val ...\u001b[0m\n"
     ]
    },
    {
     "data": {
      "application/vnd.jupyter.widget-view+json": {
       "model_id": "120cfcb064a34be08dbfccd7cfa6ea65",
       "version_major": 2,
       "version_minor": 0
      },
      "text/plain": [
       "  0%|          | 0/310 [00:00<?, ?it/s]"
      ]
     },
     "metadata": {},
     "output_type": "display_data"
    },
    {
     "name": "stdout",
     "output_type": "stream",
     "text": [
      "val_Acc:\u001b[1;32m99.05%\u001b[0m\n",
      "Best_val:\u001b[1;32m[99.404%]\u001b[0m\n",
      "\u001b[1;32m[Train Epoch:[10]NCT_CRC ==> Training]\u001b[0m ...\n"
     ]
    },
    {
     "data": {
      "application/vnd.jupyter.widget-view+json": {
       "model_id": "968cdfb900dc4797b3b9d71e5dd3659a",
       "version_major": 2,
       "version_minor": 0
      },
      "text/plain": [
       "  0%|          | 0/477 [00:00<?, ?it/s]"
      ]
     },
     "metadata": {},
     "output_type": "display_data"
    },
    {
     "name": "stdout",
     "output_type": "stream",
     "text": [
      "[238/477] Loss0.04267,ACC:0.90974\n",
      "[476/477] Loss0.05082,ACC:0.91742\n",
      "Train Epoch:[10] Loss:0.06370,Acc:0.91740,Best_train:0.92018\n",
      "\u001b[35mNCT_CRC ==> val ...\u001b[0m\n"
     ]
    },
    {
     "data": {
      "application/vnd.jupyter.widget-view+json": {
       "model_id": "21be14011f234a739ecc4d06808d2e67",
       "version_major": 2,
       "version_minor": 0
      },
      "text/plain": [
       "  0%|          | 0/310 [00:00<?, ?it/s]"
      ]
     },
     "metadata": {},
     "output_type": "display_data"
    },
    {
     "name": "stdout",
     "output_type": "stream",
     "text": [
      "val_Acc:\u001b[1;32m99.363%\u001b[0m\n",
      "Best_val:\u001b[1;32m[99.404%]\u001b[0m\n",
      "\u001b[1;32m[Train Epoch:[11]NCT_CRC ==> Training]\u001b[0m ...\n"
     ]
    },
    {
     "data": {
      "application/vnd.jupyter.widget-view+json": {
       "model_id": "6b663b284bdb4b4cbba7b58a7b9da778",
       "version_major": 2,
       "version_minor": 0
      },
      "text/plain": [
       "  0%|          | 0/477 [00:00<?, ?it/s]"
      ]
     },
     "metadata": {},
     "output_type": "display_data"
    },
    {
     "name": "stdout",
     "output_type": "stream",
     "text": [
      "[238/477] Loss0.08018,ACC:0.93115\n",
      "[476/477] Loss0.06707,ACC:0.92945\n",
      "Train Epoch:[11] Loss:0.05561,Acc:0.92946,Best_train:0.92946\n",
      "\u001b[35mNCT_CRC ==> val ...\u001b[0m\n"
     ]
    },
    {
     "data": {
      "application/vnd.jupyter.widget-view+json": {
       "model_id": "de2b5089e4814160b623527d6be51702",
       "version_major": 2,
       "version_minor": 0
      },
      "text/plain": [
       "  0%|          | 0/310 [00:00<?, ?it/s]"
      ]
     },
     "metadata": {},
     "output_type": "display_data"
    },
    {
     "name": "stdout",
     "output_type": "stream",
     "text": [
      "val_Acc:\u001b[1;32m93.756%\u001b[0m\n",
      "Best_val:\u001b[1;32m[99.404%]\u001b[0m\n",
      "\u001b[1;32m[Train Epoch:[12]NCT_CRC ==> Training]\u001b[0m ...\n"
     ]
    },
    {
     "data": {
      "application/vnd.jupyter.widget-view+json": {
       "model_id": "0b568257177c4b67b30d9385278c1275",
       "version_major": 2,
       "version_minor": 0
      },
      "text/plain": [
       "  0%|          | 0/477 [00:00<?, ?it/s]"
      ]
     },
     "metadata": {},
     "output_type": "display_data"
    },
    {
     "name": "stdout",
     "output_type": "stream",
     "text": [
      "[238/477] Loss0.07335,ACC:0.93552\n",
      "[476/477] Loss0.05476,ACC:0.93848\n",
      "Train Epoch:[12] Loss:0.04876,Acc:0.93856,Best_train:0.93856\n",
      "\u001b[35mNCT_CRC ==> val ...\u001b[0m\n"
     ]
    },
    {
     "data": {
      "application/vnd.jupyter.widget-view+json": {
       "model_id": "80dce29e50bd4f0d9f05bfea6b0bce81",
       "version_major": 2,
       "version_minor": 0
      },
      "text/plain": [
       "  0%|          | 0/310 [00:00<?, ?it/s]"
      ]
     },
     "metadata": {},
     "output_type": "display_data"
    },
    {
     "name": "stdout",
     "output_type": "stream",
     "text": [
      "val_Acc:\u001b[1;32m99.636%\u001b[0m\n",
      "Best_val:\u001b[1;32m[99.636%]\u001b[0m\n",
      "\u001b[1;32m[Train Epoch:[13]NCT_CRC ==> Training]\u001b[0m ...\n"
     ]
    },
    {
     "data": {
      "application/vnd.jupyter.widget-view+json": {
       "model_id": "c4c14abfa498460a8a3b9f0875a34609",
       "version_major": 2,
       "version_minor": 0
      },
      "text/plain": [
       "  0%|          | 0/477 [00:00<?, ?it/s]"
      ]
     },
     "metadata": {},
     "output_type": "display_data"
    },
    {
     "name": "stdout",
     "output_type": "stream",
     "text": [
      "[238/477] Loss0.06092,ACC:0.94780\n",
      "[476/477] Loss0.02819,ACC:0.94717\n",
      "Train Epoch:[13] Loss:0.04186,Acc:0.94721,Best_train:0.94721\n",
      "\u001b[35mNCT_CRC ==> val ...\u001b[0m\n"
     ]
    },
    {
     "data": {
      "application/vnd.jupyter.widget-view+json": {
       "model_id": "184a887629a74f6bb0ba8c27bc7304a1",
       "version_major": 2,
       "version_minor": 0
      },
      "text/plain": [
       "  0%|          | 0/310 [00:00<?, ?it/s]"
      ]
     },
     "metadata": {},
     "output_type": "display_data"
    },
    {
     "name": "stdout",
     "output_type": "stream",
     "text": [
      "val_Acc:\u001b[1;32m99.333%\u001b[0m\n",
      "Best_val:\u001b[1;32m[99.636%]\u001b[0m\n",
      "\u001b[1;32m[Train Epoch:[14]NCT_CRC ==> Training]\u001b[0m ...\n"
     ]
    },
    {
     "data": {
      "application/vnd.jupyter.widget-view+json": {
       "model_id": "a9f1955759cd4e17919bd588419827fd",
       "version_major": 2,
       "version_minor": 0
      },
      "text/plain": [
       "  0%|          | 0/477 [00:00<?, ?it/s]"
      ]
     },
     "metadata": {},
     "output_type": "display_data"
    },
    {
     "name": "stdout",
     "output_type": "stream",
     "text": [
      "[238/477] Loss0.04062,ACC:0.95726\n",
      "[476/477] Loss0.04722,ACC:0.95813\n",
      "Train Epoch:[14] Loss:0.03373,Acc:0.95818,Best_train:0.95818\n",
      "\u001b[35mNCT_CRC ==> val ...\u001b[0m\n"
     ]
    },
    {
     "data": {
      "application/vnd.jupyter.widget-view+json": {
       "model_id": "d78e1540231b4c58a8914f165fca5710",
       "version_major": 2,
       "version_minor": 0
      },
      "text/plain": [
       "  0%|          | 0/310 [00:00<?, ?it/s]"
      ]
     },
     "metadata": {},
     "output_type": "display_data"
    },
    {
     "name": "stdout",
     "output_type": "stream",
     "text": [
      "val_Acc:\u001b[1;32m99.414%\u001b[0m\n",
      "Best_val:\u001b[1;32m[99.636%]\u001b[0m\n",
      "\u001b[1;32m[Train Epoch:[15]NCT_CRC ==> Training]\u001b[0m ...\n"
     ]
    },
    {
     "data": {
      "application/vnd.jupyter.widget-view+json": {
       "model_id": "321d6fb9c51e4a5d81df62687258219b",
       "version_major": 2,
       "version_minor": 0
      },
      "text/plain": [
       "  0%|          | 0/477 [00:00<?, ?it/s]"
      ]
     },
     "metadata": {},
     "output_type": "display_data"
    },
    {
     "name": "stdout",
     "output_type": "stream",
     "text": [
      "[238/477] Loss0.02767,ACC:0.96606\n",
      "[476/477] Loss0.01881,ACC:0.96545\n",
      "Train Epoch:[15] Loss:0.02897,Acc:0.96543,Best_train:0.96543\n",
      "\u001b[35mNCT_CRC ==> val ...\u001b[0m\n"
     ]
    },
    {
     "data": {
      "application/vnd.jupyter.widget-view+json": {
       "model_id": "956165dd2a9245168a85493f57508038",
       "version_major": 2,
       "version_minor": 0
      },
      "text/plain": [
       "  0%|          | 0/310 [00:00<?, ?it/s]"
      ]
     },
     "metadata": {},
     "output_type": "display_data"
    },
    {
     "name": "stdout",
     "output_type": "stream",
     "text": [
      "val_Acc:\u001b[1;32m99.586%\u001b[0m\n",
      "Best_val:\u001b[1;32m[99.636%]\u001b[0m\n",
      "\u001b[1;32m[Train Epoch:[16]NCT_CRC ==> Training]\u001b[0m ...\n"
     ]
    },
    {
     "data": {
      "application/vnd.jupyter.widget-view+json": {
       "model_id": "7d6b6c0aec994da4a186178385a408fc",
       "version_major": 2,
       "version_minor": 0
      },
      "text/plain": [
       "  0%|          | 0/477 [00:00<?, ?it/s]"
      ]
     },
     "metadata": {},
     "output_type": "display_data"
    },
    {
     "name": "stdout",
     "output_type": "stream",
     "text": [
      "[238/477] Loss0.02489,ACC:0.96559\n",
      "[476/477] Loss0.01979,ACC:0.96626\n",
      "Train Epoch:[16] Loss:0.02790,Acc:0.96625,Best_train:0.96625\n",
      "\u001b[35mNCT_CRC ==> val ...\u001b[0m\n"
     ]
    },
    {
     "data": {
      "application/vnd.jupyter.widget-view+json": {
       "model_id": "5b383a15802341dca3cd2a5211702ef6",
       "version_major": 2,
       "version_minor": 0
      },
      "text/plain": [
       "  0%|          | 0/310 [00:00<?, ?it/s]"
      ]
     },
     "metadata": {},
     "output_type": "display_data"
    },
    {
     "name": "stdout",
     "output_type": "stream",
     "text": [
      "val_Acc:\u001b[1;32m99.677%\u001b[0m\n",
      "Best_val:\u001b[1;32m[99.677%]\u001b[0m\n",
      "\u001b[1;32m[Train Epoch:[17]NCT_CRC ==> Training]\u001b[0m ...\n"
     ]
    },
    {
     "data": {
      "application/vnd.jupyter.widget-view+json": {
       "model_id": "3d8fb2f5029f4a7d9a9ea1d7ad45e4d0",
       "version_major": 2,
       "version_minor": 0
      },
      "text/plain": [
       "  0%|          | 0/477 [00:00<?, ?it/s]"
      ]
     },
     "metadata": {},
     "output_type": "display_data"
    },
    {
     "name": "stdout",
     "output_type": "stream",
     "text": [
      "[238/477] Loss0.03961,ACC:0.96699\n",
      "[476/477] Loss0.02221,ACC:0.96596\n",
      "Train Epoch:[17] Loss:0.02814,Acc:0.96598,Best_train:0.96625\n",
      "\u001b[35mNCT_CRC ==> val ...\u001b[0m\n"
     ]
    },
    {
     "data": {
      "application/vnd.jupyter.widget-view+json": {
       "model_id": "289a4108a28a4e0a9d382edcc8ffd5a0",
       "version_major": 2,
       "version_minor": 0
      },
      "text/plain": [
       "  0%|          | 0/310 [00:00<?, ?it/s]"
      ]
     },
     "metadata": {},
     "output_type": "display_data"
    },
    {
     "name": "stdout",
     "output_type": "stream",
     "text": [
      "val_Acc:\u001b[1;32m99.545%\u001b[0m\n",
      "Best_val:\u001b[1;32m[99.677%]\u001b[0m\n",
      "\u001b[1;32m[Train Epoch:[18]NCT_CRC ==> Training]\u001b[0m ...\n"
     ]
    },
    {
     "data": {
      "application/vnd.jupyter.widget-view+json": {
       "model_id": "f85dc779f16946a5a2691c94cfab679a",
       "version_major": 2,
       "version_minor": 0
      },
      "text/plain": [
       "  0%|          | 0/477 [00:00<?, ?it/s]"
      ]
     },
     "metadata": {},
     "output_type": "display_data"
    },
    {
     "name": "stdout",
     "output_type": "stream",
     "text": [
      "[238/477] Loss0.02926,ACC:0.95921\n",
      "[476/477] Loss0.02404,ACC:0.95892\n",
      "Train Epoch:[18] Loss:0.03277,Acc:0.95888,Best_train:0.96625\n",
      "\u001b[35mNCT_CRC ==> val ...\u001b[0m\n"
     ]
    },
    {
     "data": {
      "application/vnd.jupyter.widget-view+json": {
       "model_id": "e2cb3518d9c24c0e98ce2623d1073cde",
       "version_major": 2,
       "version_minor": 0
      },
      "text/plain": [
       "  0%|          | 0/310 [00:00<?, ?it/s]"
      ]
     },
     "metadata": {},
     "output_type": "display_data"
    },
    {
     "name": "stdout",
     "output_type": "stream",
     "text": [
      "val_Acc:\u001b[1;32m78.731%\u001b[0m\n",
      "Best_val:\u001b[1;32m[99.677%]\u001b[0m\n",
      "\u001b[1;32m[Train Epoch:[19]NCT_CRC ==> Training]\u001b[0m ...\n"
     ]
    },
    {
     "data": {
      "application/vnd.jupyter.widget-view+json": {
       "model_id": "6932b605d7dd467a996aad3696bdc420",
       "version_major": 2,
       "version_minor": 0
      },
      "text/plain": [
       "  0%|          | 0/477 [00:00<?, ?it/s]"
      ]
     },
     "metadata": {},
     "output_type": "display_data"
    },
    {
     "name": "stdout",
     "output_type": "stream",
     "text": [
      "[238/477] Loss0.02736,ACC:0.95168\n",
      "[476/477] Loss0.04846,ACC:0.95278\n",
      "Train Epoch:[19] Loss:0.03787,Acc:0.95274,Best_train:0.96625\n",
      "\u001b[35mNCT_CRC ==> val ...\u001b[0m\n"
     ]
    },
    {
     "data": {
      "application/vnd.jupyter.widget-view+json": {
       "model_id": "aa19d81c614e490682dc596e593af841",
       "version_major": 2,
       "version_minor": 0
      },
      "text/plain": [
       "  0%|          | 0/310 [00:00<?, ?it/s]"
      ]
     },
     "metadata": {},
     "output_type": "display_data"
    },
    {
     "name": "stdout",
     "output_type": "stream",
     "text": [
      "val_Acc:\u001b[1;32m89.239%\u001b[0m\n",
      "Best_val:\u001b[1;32m[99.677%]\u001b[0m\n",
      "\u001b[1;32m[Train Epoch:[20]NCT_CRC ==> Training]\u001b[0m ...\n"
     ]
    },
    {
     "data": {
      "application/vnd.jupyter.widget-view+json": {
       "model_id": "a99032e6a26245a2b7b23295faee78a2",
       "version_major": 2,
       "version_minor": 0
      },
      "text/plain": [
       "  0%|          | 0/477 [00:00<?, ?it/s]"
      ]
     },
     "metadata": {},
     "output_type": "display_data"
    },
    {
     "name": "stdout",
     "output_type": "stream",
     "text": [
      "[238/477] Loss0.03502,ACC:0.94833\n",
      "[476/477] Loss0.05185,ACC:0.94745\n",
      "Train Epoch:[20] Loss:0.04144,Acc:0.94740,Best_train:0.96625\n",
      "\u001b[35mNCT_CRC ==> val ...\u001b[0m\n"
     ]
    },
    {
     "data": {
      "application/vnd.jupyter.widget-view+json": {
       "model_id": "17e4eb387a2b4937b554bdc058ff896e",
       "version_major": 2,
       "version_minor": 0
      },
      "text/plain": [
       "  0%|          | 0/310 [00:00<?, ?it/s]"
      ]
     },
     "metadata": {},
     "output_type": "display_data"
    },
    {
     "name": "stdout",
     "output_type": "stream",
     "text": [
      "val_Acc:\u001b[1;32m96.908%\u001b[0m\n",
      "Best_val:\u001b[1;32m[99.677%]\u001b[0m\n",
      "\u001b[1;32m[Train Epoch:[21]NCT_CRC ==> Training]\u001b[0m ...\n"
     ]
    },
    {
     "data": {
      "application/vnd.jupyter.widget-view+json": {
       "model_id": "a47d7d990c8f4259945f9d11a85c011d",
       "version_major": 2,
       "version_minor": 0
      },
      "text/plain": [
       "  0%|          | 0/477 [00:00<?, ?it/s]"
      ]
     },
     "metadata": {},
     "output_type": "display_data"
    },
    {
     "name": "stdout",
     "output_type": "stream",
     "text": [
      "[238/477] Loss0.02637,ACC:0.94885\n",
      "[476/477] Loss0.04181,ACC:0.94950\n",
      "Train Epoch:[21] Loss:0.03976,Acc:0.94949,Best_train:0.96625\n",
      "\u001b[35mNCT_CRC ==> val ...\u001b[0m\n"
     ]
    },
    {
     "data": {
      "application/vnd.jupyter.widget-view+json": {
       "model_id": "55b7c1d0a5e14efa9ab23f534f89a0fa",
       "version_major": 2,
       "version_minor": 0
      },
      "text/plain": [
       "  0%|          | 0/310 [00:00<?, ?it/s]"
      ]
     },
     "metadata": {},
     "output_type": "display_data"
    },
    {
     "name": "stdout",
     "output_type": "stream",
     "text": [
      "val_Acc:\u001b[1;32m98.343%\u001b[0m\n",
      "Best_val:\u001b[1;32m[99.677%]\u001b[0m\n",
      "\u001b[1;32m[Train Epoch:[22]NCT_CRC ==> Training]\u001b[0m ...\n"
     ]
    },
    {
     "data": {
      "application/vnd.jupyter.widget-view+json": {
       "model_id": "09d92af8561d45cc946cfffd75ed12e8",
       "version_major": 2,
       "version_minor": 0
      },
      "text/plain": [
       "  0%|          | 0/477 [00:00<?, ?it/s]"
      ]
     },
     "metadata": {},
     "output_type": "display_data"
    },
    {
     "name": "stdout",
     "output_type": "stream",
     "text": [
      "[238/477] Loss0.01855,ACC:0.95941\n",
      "[476/477] Loss0.02976,ACC:0.95671\n",
      "Train Epoch:[22] Loss:0.03488,Acc:0.95672,Best_train:0.96625\n",
      "\u001b[35mNCT_CRC ==> val ...\u001b[0m\n"
     ]
    },
    {
     "data": {
      "application/vnd.jupyter.widget-view+json": {
       "model_id": "7f9d8265635e4697a278d9f1b72155fc",
       "version_major": 2,
       "version_minor": 0
      },
      "text/plain": [
       "  0%|          | 0/310 [00:00<?, ?it/s]"
      ]
     },
     "metadata": {},
     "output_type": "display_data"
    },
    {
     "name": "stdout",
     "output_type": "stream",
     "text": [
      "val_Acc:\u001b[1;32m98.626%\u001b[0m\n",
      "Best_val:\u001b[1;32m[99.677%]\u001b[0m\n",
      "\u001b[1;32m[Train Epoch:[23]NCT_CRC ==> Training]\u001b[0m ...\n"
     ]
    },
    {
     "data": {
      "application/vnd.jupyter.widget-view+json": {
       "model_id": "375932c1f8c14c968c53a921987da6f6",
       "version_major": 2,
       "version_minor": 0
      },
      "text/plain": [
       "  0%|          | 0/477 [00:00<?, ?it/s]"
      ]
     },
     "metadata": {},
     "output_type": "display_data"
    },
    {
     "name": "stdout",
     "output_type": "stream",
     "text": [
      "[238/477] Loss0.03271,ACC:0.96469\n",
      "[476/477] Loss0.02315,ACC:0.96392\n",
      "Train Epoch:[23] Loss:0.02924,Acc:0.96391,Best_train:0.96625\n",
      "\u001b[35mNCT_CRC ==> val ...\u001b[0m\n"
     ]
    },
    {
     "data": {
      "application/vnd.jupyter.widget-view+json": {
       "model_id": "a0d3fee5ba2d4b77922b40f15279a32d",
       "version_major": 2,
       "version_minor": 0
      },
      "text/plain": [
       "  0%|          | 0/310 [00:00<?, ?it/s]"
      ]
     },
     "metadata": {},
     "output_type": "display_data"
    },
    {
     "name": "stdout",
     "output_type": "stream",
     "text": [
      "val_Acc:\u001b[1;32m94.978%\u001b[0m\n",
      "Best_val:\u001b[1;32m[99.677%]\u001b[0m\n",
      "\u001b[1;32m[Train Epoch:[24]NCT_CRC ==> Training]\u001b[0m ...\n"
     ]
    },
    {
     "data": {
      "application/vnd.jupyter.widget-view+json": {
       "model_id": "ba36ad66cfbd40138ff0ba515e45d166",
       "version_major": 2,
       "version_minor": 0
      },
      "text/plain": [
       "  0%|          | 0/477 [00:00<?, ?it/s]"
      ]
     },
     "metadata": {},
     "output_type": "display_data"
    },
    {
     "name": "stdout",
     "output_type": "stream",
     "text": [
      "[238/477] Loss0.01723,ACC:0.96984\n",
      "[476/477] Loss0.02097,ACC:0.97003\n",
      "Train Epoch:[24] Loss:0.02450,Acc:0.97005,Best_train:0.97005\n",
      "\u001b[35mNCT_CRC ==> val ...\u001b[0m\n"
     ]
    },
    {
     "data": {
      "application/vnd.jupyter.widget-view+json": {
       "model_id": "29fd32e3d72f44c4ad17f312c98862ff",
       "version_major": 2,
       "version_minor": 0
      },
      "text/plain": [
       "  0%|          | 0/310 [00:00<?, ?it/s]"
      ]
     },
     "metadata": {},
     "output_type": "display_data"
    },
    {
     "name": "stdout",
     "output_type": "stream",
     "text": [
      "val_Acc:\u001b[1;32m99.626%\u001b[0m\n",
      "Best_val:\u001b[1;32m[99.677%]\u001b[0m\n",
      "\u001b[1;32m[Train Epoch:[25]NCT_CRC ==> Training]\u001b[0m ...\n"
     ]
    },
    {
     "data": {
      "application/vnd.jupyter.widget-view+json": {
       "model_id": "d0f04649a2ed45ef8508b3809ef0b76a",
       "version_major": 2,
       "version_minor": 0
      },
      "text/plain": [
       "  0%|          | 0/477 [00:00<?, ?it/s]"
      ]
     },
     "metadata": {},
     "output_type": "display_data"
    },
    {
     "name": "stdout",
     "output_type": "stream",
     "text": [
      "[238/477] Loss0.02149,ACC:0.97459\n",
      "[476/477] Loss0.02714,ACC:0.97469\n",
      "Train Epoch:[25] Loss:0.02125,Acc:0.97472,Best_train:0.97472\n",
      "\u001b[35mNCT_CRC ==> val ...\u001b[0m\n"
     ]
    },
    {
     "data": {
      "application/vnd.jupyter.widget-view+json": {
       "model_id": "de781054b9e84a0580424eacf4c6c96b",
       "version_major": 2,
       "version_minor": 0
      },
      "text/plain": [
       "  0%|          | 0/310 [00:00<?, ?it/s]"
      ]
     },
     "metadata": {},
     "output_type": "display_data"
    },
    {
     "name": "stdout",
     "output_type": "stream",
     "text": [
      "val_Acc:\u001b[1;32m99.737%\u001b[0m\n",
      "Best_val:\u001b[1;32m[99.737%]\u001b[0m\n",
      "\u001b[1;32m[Train Epoch:[26]NCT_CRC ==> Training]\u001b[0m ...\n"
     ]
    },
    {
     "data": {
      "application/vnd.jupyter.widget-view+json": {
       "model_id": "be529f80732145d19b6f17bbfb92f915",
       "version_major": 2,
       "version_minor": 0
      },
      "text/plain": [
       "  0%|          | 0/477 [00:00<?, ?it/s]"
      ]
     },
     "metadata": {},
     "output_type": "display_data"
    },
    {
     "name": "stdout",
     "output_type": "stream",
     "text": [
      "[238/477] Loss0.02919,ACC:0.97461\n",
      "[476/477] Loss0.01314,ACC:0.97454\n",
      "Train Epoch:[26] Loss:0.02059,Acc:0.97452,Best_train:0.97472\n",
      "\u001b[35mNCT_CRC ==> val ...\u001b[0m\n"
     ]
    },
    {
     "data": {
      "application/vnd.jupyter.widget-view+json": {
       "model_id": "a8823e89b2a54caa953c3b2436498fbc",
       "version_major": 2,
       "version_minor": 0
      },
      "text/plain": [
       "  0%|          | 0/310 [00:00<?, ?it/s]"
      ]
     },
     "metadata": {},
     "output_type": "display_data"
    },
    {
     "name": "stdout",
     "output_type": "stream",
     "text": [
      "val_Acc:\u001b[1;32m99.707%\u001b[0m\n",
      "Best_val:\u001b[1;32m[99.737%]\u001b[0m\n",
      "\u001b[1;32m[Train Epoch:[27]NCT_CRC ==> Training]\u001b[0m ...\n"
     ]
    },
    {
     "data": {
      "application/vnd.jupyter.widget-view+json": {
       "model_id": "e905f876f8fd4c4fbe548650944dc0f4",
       "version_major": 2,
       "version_minor": 0
      },
      "text/plain": [
       "  0%|          | 0/477 [00:00<?, ?it/s]"
      ]
     },
     "metadata": {},
     "output_type": "display_data"
    },
    {
     "name": "stdout",
     "output_type": "stream",
     "text": [
      "[238/477] Loss0.02065,ACC:0.97609\n",
      "[476/477] Loss0.00832,ACC:0.97570\n",
      "Train Epoch:[27] Loss:0.02063,Acc:0.97566,Best_train:0.97566\n",
      "\u001b[35mNCT_CRC ==> val ...\u001b[0m\n"
     ]
    },
    {
     "data": {
      "application/vnd.jupyter.widget-view+json": {
       "model_id": "eb2d4a58a1e74fe09bf5767505025812",
       "version_major": 2,
       "version_minor": 0
      },
      "text/plain": [
       "  0%|          | 0/310 [00:00<?, ?it/s]"
      ]
     },
     "metadata": {},
     "output_type": "display_data"
    },
    {
     "name": "stdout",
     "output_type": "stream",
     "text": [
      "val_Acc:\u001b[1;32m99.838%\u001b[0m\n",
      "Best_val:\u001b[1;32m[99.838%]\u001b[0m\n",
      "\u001b[1;32m[Train Epoch:[28]NCT_CRC ==> Training]\u001b[0m ...\n"
     ]
    },
    {
     "data": {
      "application/vnd.jupyter.widget-view+json": {
       "model_id": "b19bcb27776c4b7895eef589bd6eb031",
       "version_major": 2,
       "version_minor": 0
      },
      "text/plain": [
       "  0%|          | 0/477 [00:00<?, ?it/s]"
      ]
     },
     "metadata": {},
     "output_type": "display_data"
    },
    {
     "name": "stdout",
     "output_type": "stream",
     "text": [
      "[238/477] Loss0.02504,ACC:0.97024\n",
      "[476/477] Loss0.03050,ACC:0.97050\n",
      "Train Epoch:[28] Loss:0.02430,Acc:0.97054,Best_train:0.97566\n",
      "\u001b[35mNCT_CRC ==> val ...\u001b[0m\n"
     ]
    },
    {
     "data": {
      "application/vnd.jupyter.widget-view+json": {
       "model_id": "1243d77f972e402cbaef140d613e4149",
       "version_major": 2,
       "version_minor": 0
      },
      "text/plain": [
       "  0%|          | 0/310 [00:00<?, ?it/s]"
      ]
     },
     "metadata": {},
     "output_type": "display_data"
    },
    {
     "name": "stdout",
     "output_type": "stream",
     "text": [
      "val_Acc:\u001b[1;32m99.636%\u001b[0m\n",
      "Best_val:\u001b[1;32m[99.838%]\u001b[0m\n",
      "\u001b[1;32m[Train Epoch:[29]NCT_CRC ==> Training]\u001b[0m ...\n"
     ]
    },
    {
     "data": {
      "application/vnd.jupyter.widget-view+json": {
       "model_id": "2b4d6ddf24b849d2b72c4911db840495",
       "version_major": 2,
       "version_minor": 0
      },
      "text/plain": [
       "  0%|          | 0/477 [00:00<?, ?it/s]"
      ]
     },
     "metadata": {},
     "output_type": "display_data"
    },
    {
     "name": "stdout",
     "output_type": "stream",
     "text": [
      "[238/477] Loss0.01310,ACC:0.96414\n",
      "[476/477] Loss0.01180,ACC:0.96456\n",
      "Train Epoch:[29] Loss:0.02889,Acc:0.96459,Best_train:0.97566\n",
      "\u001b[35mNCT_CRC ==> val ...\u001b[0m\n"
     ]
    },
    {
     "data": {
      "application/vnd.jupyter.widget-view+json": {
       "model_id": "c25ae5a2a2334630823b2598edf62bb0",
       "version_major": 2,
       "version_minor": 0
      },
      "text/plain": [
       "  0%|          | 0/310 [00:00<?, ?it/s]"
      ]
     },
     "metadata": {},
     "output_type": "display_data"
    },
    {
     "name": "stdout",
     "output_type": "stream",
     "text": [
      "val_Acc:\u001b[1;32m99.727%\u001b[0m\n",
      "Best_val:\u001b[1;32m[99.838%]\u001b[0m\n",
      "\u001b[1;32m[Train Epoch:[30]NCT_CRC ==> Training]\u001b[0m ...\n"
     ]
    },
    {
     "data": {
      "application/vnd.jupyter.widget-view+json": {
       "model_id": "5640b64d401149089365af2ea0f6dc6e",
       "version_major": 2,
       "version_minor": 0
      },
      "text/plain": [
       "  0%|          | 0/477 [00:00<?, ?it/s]"
      ]
     },
     "metadata": {},
     "output_type": "display_data"
    },
    {
     "name": "stdout",
     "output_type": "stream",
     "text": [
      "[238/477] Loss0.03691,ACC:0.95708\n",
      "[476/477] Loss0.02945,ACC:0.95609\n",
      "Train Epoch:[30] Loss:0.03488,Acc:0.95605,Best_train:0.97566\n",
      "\u001b[35mNCT_CRC ==> val ...\u001b[0m\n"
     ]
    },
    {
     "data": {
      "application/vnd.jupyter.widget-view+json": {
       "model_id": "998d0d03a6724967b390c654b8dd257a",
       "version_major": 2,
       "version_minor": 0
      },
      "text/plain": [
       "  0%|          | 0/310 [00:00<?, ?it/s]"
      ]
     },
     "metadata": {},
     "output_type": "display_data"
    },
    {
     "name": "stdout",
     "output_type": "stream",
     "text": [
      "val_Acc:\u001b[1;32m89.158%\u001b[0m\n",
      "Best_val:\u001b[1;32m[99.838%]\u001b[0m\n",
      "\u001b[1;32m[Train Epoch:[31]NCT_CRC ==> Training]\u001b[0m ...\n"
     ]
    },
    {
     "data": {
      "application/vnd.jupyter.widget-view+json": {
       "model_id": "0dc34c04d25e45659de4f6ab2c7aa714",
       "version_major": 2,
       "version_minor": 0
      },
      "text/plain": [
       "  0%|          | 0/477 [00:00<?, ?it/s]"
      ]
     },
     "metadata": {},
     "output_type": "display_data"
    },
    {
     "name": "stdout",
     "output_type": "stream",
     "text": [
      "[238/477] Loss0.03527,ACC:0.95966\n",
      "[476/477] Loss0.03877,ACC:0.96143\n",
      "Train Epoch:[31] Loss:0.03086,Acc:0.96149,Best_train:0.97566\n",
      "\u001b[35mNCT_CRC ==> val ...\u001b[0m\n"
     ]
    },
    {
     "data": {
      "application/vnd.jupyter.widget-view+json": {
       "model_id": "ba94051e5a184b8391492740ebfca4cc",
       "version_major": 2,
       "version_minor": 0
      },
      "text/plain": [
       "  0%|          | 0/310 [00:00<?, ?it/s]"
      ]
     },
     "metadata": {},
     "output_type": "display_data"
    },
    {
     "name": "stdout",
     "output_type": "stream",
     "text": [
      "val_Acc:\u001b[1;32m99.434%\u001b[0m\n",
      "Best_val:\u001b[1;32m[99.838%]\u001b[0m\n",
      "\u001b[1;32m[Train Epoch:[32]NCT_CRC ==> Training]\u001b[0m ...\n"
     ]
    },
    {
     "data": {
      "application/vnd.jupyter.widget-view+json": {
       "model_id": "393b984c9a444369a2cb2e48d2a6a0df",
       "version_major": 2,
       "version_minor": 0
      },
      "text/plain": [
       "  0%|          | 0/477 [00:00<?, ?it/s]"
      ]
     },
     "metadata": {},
     "output_type": "display_data"
    },
    {
     "name": "stdout",
     "output_type": "stream",
     "text": [
      "[238/477] Loss0.02056,ACC:0.96634\n",
      "[476/477] Loss0.02760,ACC:0.96512\n",
      "Train Epoch:[32] Loss:0.02812,Acc:0.96510,Best_train:0.97566\n",
      "\u001b[35mNCT_CRC ==> val ...\u001b[0m\n"
     ]
    },
    {
     "data": {
      "application/vnd.jupyter.widget-view+json": {
       "model_id": "3dfd99bd98fa4516b98992d9dc57d4e7",
       "version_major": 2,
       "version_minor": 0
      },
      "text/plain": [
       "  0%|          | 0/310 [00:00<?, ?it/s]"
      ]
     },
     "metadata": {},
     "output_type": "display_data"
    },
    {
     "name": "stdout",
     "output_type": "stream",
     "text": [
      "val_Acc:\u001b[1;32m99.374%\u001b[0m\n",
      "Best_val:\u001b[1;32m[99.838%]\u001b[0m\n",
      "\u001b[1;32m[Train Epoch:[33]NCT_CRC ==> Training]\u001b[0m ...\n"
     ]
    },
    {
     "data": {
      "application/vnd.jupyter.widget-view+json": {
       "model_id": "be03f3a702a340c8b36b02c9cceca582",
       "version_major": 2,
       "version_minor": 0
      },
      "text/plain": [
       "  0%|          | 0/477 [00:00<?, ?it/s]"
      ]
     },
     "metadata": {},
     "output_type": "display_data"
    },
    {
     "name": "stdout",
     "output_type": "stream",
     "text": [
      "[238/477] Loss0.02693,ACC:0.96994\n",
      "[476/477] Loss0.03110,ACC:0.97020\n",
      "Train Epoch:[33] Loss:0.02423,Acc:0.97017,Best_train:0.97566\n",
      "\u001b[35mNCT_CRC ==> val ...\u001b[0m\n"
     ]
    },
    {
     "data": {
      "application/vnd.jupyter.widget-view+json": {
       "model_id": "13b53b9c4ab74950a22fc17a353f6f1f",
       "version_major": 2,
       "version_minor": 0
      },
      "text/plain": [
       "  0%|          | 0/310 [00:00<?, ?it/s]"
      ]
     },
     "metadata": {},
     "output_type": "display_data"
    },
    {
     "name": "stdout",
     "output_type": "stream",
     "text": [
      "val_Acc:\u001b[1;32m99.566%\u001b[0m\n",
      "Best_val:\u001b[1;32m[99.838%]\u001b[0m\n",
      "\u001b[1;32m[Train Epoch:[34]NCT_CRC ==> Training]\u001b[0m ...\n"
     ]
    },
    {
     "data": {
      "application/vnd.jupyter.widget-view+json": {
       "model_id": "713698ca0c1349d6af36e591a0426318",
       "version_major": 2,
       "version_minor": 0
      },
      "text/plain": [
       "  0%|          | 0/477 [00:00<?, ?it/s]"
      ]
     },
     "metadata": {},
     "output_type": "display_data"
    },
    {
     "name": "stdout",
     "output_type": "stream",
     "text": [
      "[238/477] Loss0.01756,ACC:0.97619\n",
      "[476/477] Loss0.01759,ACC:0.97663\n",
      "Train Epoch:[34] Loss:0.01983,Acc:0.97663,Best_train:0.97663\n",
      "\u001b[35mNCT_CRC ==> val ...\u001b[0m\n"
     ]
    },
    {
     "data": {
      "application/vnd.jupyter.widget-view+json": {
       "model_id": "aa3c465802f74957a5c923e9f092e146",
       "version_major": 2,
       "version_minor": 0
      },
      "text/plain": [
       "  0%|          | 0/310 [00:00<?, ?it/s]"
      ]
     },
     "metadata": {},
     "output_type": "display_data"
    },
    {
     "name": "stdout",
     "output_type": "stream",
     "text": [
      "val_Acc:\u001b[1;32m99.485%\u001b[0m\n",
      "Best_val:\u001b[1;32m[99.838%]\u001b[0m\n",
      "\u001b[1;32m[Train Epoch:[35]NCT_CRC ==> Training]\u001b[0m ...\n"
     ]
    },
    {
     "data": {
      "application/vnd.jupyter.widget-view+json": {
       "model_id": "de69f586e7304232b40cad4d51927cd2",
       "version_major": 2,
       "version_minor": 0
      },
      "text/plain": [
       "  0%|          | 0/477 [00:00<?, ?it/s]"
      ]
     },
     "metadata": {},
     "output_type": "display_data"
    },
    {
     "name": "stdout",
     "output_type": "stream",
     "text": [
      "[238/477] Loss0.01087,ACC:0.98009\n",
      "[476/477] Loss0.03632,ACC:0.97995\n",
      "Train Epoch:[35] Loss:0.01704,Acc:0.97998,Best_train:0.97998\n",
      "\u001b[35mNCT_CRC ==> val ...\u001b[0m\n"
     ]
    },
    {
     "data": {
      "application/vnd.jupyter.widget-view+json": {
       "model_id": "b1685b6132c34c29be4c6e45eb4e89d5",
       "version_major": 2,
       "version_minor": 0
      },
      "text/plain": [
       "  0%|          | 0/310 [00:00<?, ?it/s]"
      ]
     },
     "metadata": {},
     "output_type": "display_data"
    },
    {
     "name": "stdout",
     "output_type": "stream",
     "text": [
      "val_Acc:\u001b[1;32m99.626%\u001b[0m\n",
      "Best_val:\u001b[1;32m[99.838%]\u001b[0m\n",
      "\u001b[1;32m[Train Epoch:[36]NCT_CRC ==> Training]\u001b[0m ...\n"
     ]
    },
    {
     "data": {
      "application/vnd.jupyter.widget-view+json": {
       "model_id": "24136b1b91b84ad4b53d44fb9b8b95d5",
       "version_major": 2,
       "version_minor": 0
      },
      "text/plain": [
       "  0%|          | 0/477 [00:00<?, ?it/s]"
      ]
     },
     "metadata": {},
     "output_type": "display_data"
    },
    {
     "name": "stdout",
     "output_type": "stream",
     "text": [
      "[238/477] Loss0.01600,ACC:0.98182\n",
      "[476/477] Loss0.02567,ACC:0.98139\n",
      "Train Epoch:[36] Loss:0.01618,Acc:0.98141,Best_train:0.98141\n",
      "\u001b[35mNCT_CRC ==> val ...\u001b[0m\n"
     ]
    },
    {
     "data": {
      "application/vnd.jupyter.widget-view+json": {
       "model_id": "c4c98dc2d3cd4f5db1ddde9249033a78",
       "version_major": 2,
       "version_minor": 0
      },
      "text/plain": [
       "  0%|          | 0/310 [00:00<?, ?it/s]"
      ]
     },
     "metadata": {},
     "output_type": "display_data"
    },
    {
     "name": "stdout",
     "output_type": "stream",
     "text": [
      "val_Acc:\u001b[1;32m99.606%\u001b[0m\n",
      "Best_val:\u001b[1;32m[99.838%]\u001b[0m\n",
      "\u001b[1;32m[Train Epoch:[37]NCT_CRC ==> Training]\u001b[0m ...\n"
     ]
    },
    {
     "data": {
      "application/vnd.jupyter.widget-view+json": {
       "model_id": "f8cf6dbe9ca844069fb205834ee1ad86",
       "version_major": 2,
       "version_minor": 0
      },
      "text/plain": [
       "  0%|          | 0/477 [00:00<?, ?it/s]"
      ]
     },
     "metadata": {},
     "output_type": "display_data"
    },
    {
     "name": "stdout",
     "output_type": "stream",
     "text": [
      "[238/477] Loss0.01217,ACC:0.98032\n",
      "[476/477] Loss0.01929,ACC:0.98032\n",
      "Train Epoch:[37] Loss:0.01667,Acc:0.98033,Best_train:0.98141\n",
      "\u001b[35mNCT_CRC ==> val ...\u001b[0m\n"
     ]
    },
    {
     "data": {
      "application/vnd.jupyter.widget-view+json": {
       "model_id": "6303308501414351a3c6bb6b1c97a3dd",
       "version_major": 2,
       "version_minor": 0
      },
      "text/plain": [
       "  0%|          | 0/310 [00:00<?, ?it/s]"
      ]
     },
     "metadata": {},
     "output_type": "display_data"
    },
    {
     "name": "stdout",
     "output_type": "stream",
     "text": [
      "val_Acc:\u001b[1;32m99.707%\u001b[0m\n",
      "Best_val:\u001b[1;32m[99.838%]\u001b[0m\n",
      "\u001b[1;32m[Train Epoch:[38]NCT_CRC ==> Training]\u001b[0m ...\n"
     ]
    },
    {
     "data": {
      "application/vnd.jupyter.widget-view+json": {
       "model_id": "207ae4a8872e4d0191e7fa489a36497a",
       "version_major": 2,
       "version_minor": 0
      },
      "text/plain": [
       "  0%|          | 0/477 [00:00<?, ?it/s]"
      ]
     },
     "metadata": {},
     "output_type": "display_data"
    },
    {
     "name": "stdout",
     "output_type": "stream",
     "text": [
      "[238/477] Loss0.01976,ACC:0.97594\n",
      "[476/477] Loss0.01822,ACC:0.97624\n",
      "Train Epoch:[38] Loss:0.01960,Acc:0.97624,Best_train:0.98141\n",
      "\u001b[35mNCT_CRC ==> val ...\u001b[0m\n"
     ]
    },
    {
     "data": {
      "application/vnd.jupyter.widget-view+json": {
       "model_id": "b77f058cb23f4f9aa286b96ae6671deb",
       "version_major": 2,
       "version_minor": 0
      },
      "text/plain": [
       "  0%|          | 0/310 [00:00<?, ?it/s]"
      ]
     },
     "metadata": {},
     "output_type": "display_data"
    },
    {
     "name": "stdout",
     "output_type": "stream",
     "text": [
      "val_Acc:\u001b[1;32m99.495%\u001b[0m\n",
      "Best_val:\u001b[1;32m[99.838%]\u001b[0m\n",
      "\u001b[1;32m[Train Epoch:[39]NCT_CRC ==> Training]\u001b[0m ...\n"
     ]
    },
    {
     "data": {
      "application/vnd.jupyter.widget-view+json": {
       "model_id": "0a4a1e00beb94ba5af83f714487075f6",
       "version_major": 2,
       "version_minor": 0
      },
      "text/plain": [
       "  0%|          | 0/477 [00:00<?, ?it/s]"
      ]
     },
     "metadata": {},
     "output_type": "display_data"
    },
    {
     "name": "stdout",
     "output_type": "stream",
     "text": [
      "[238/477] Loss0.03049,ACC:0.96931\n",
      "[476/477] Loss0.02041,ACC:0.96958\n",
      "Train Epoch:[39] Loss:0.02493,Acc:0.96958,Best_train:0.98141\n",
      "\u001b[35mNCT_CRC ==> val ...\u001b[0m\n"
     ]
    },
    {
     "data": {
      "application/vnd.jupyter.widget-view+json": {
       "model_id": "a87409606af945d2948a7bbbeae979fe",
       "version_major": 2,
       "version_minor": 0
      },
      "text/plain": [
       "  0%|          | 0/310 [00:00<?, ?it/s]"
      ]
     },
     "metadata": {},
     "output_type": "display_data"
    },
    {
     "name": "stdout",
     "output_type": "stream",
     "text": [
      "val_Acc:\u001b[1;32m98.424%\u001b[0m\n",
      "Best_val:\u001b[1;32m[99.838%]\u001b[0m\n",
      "\u001b[1;32m[Train Epoch:[40]NCT_CRC ==> Training]\u001b[0m ...\n"
     ]
    },
    {
     "data": {
      "application/vnd.jupyter.widget-view+json": {
       "model_id": "dea65cf9aa7d4f989dffb009c94eed92",
       "version_major": 2,
       "version_minor": 0
      },
      "text/plain": [
       "  0%|          | 0/477 [00:00<?, ?it/s]"
      ]
     },
     "metadata": {},
     "output_type": "display_data"
    },
    {
     "name": "stdout",
     "output_type": "stream",
     "text": [
      "[238/477] Loss0.04810,ACC:0.96784\n",
      "[476/477] Loss0.03415,ACC:0.96923\n",
      "Train Epoch:[40] Loss:0.02566,Acc:0.96918,Best_train:0.98141\n",
      "\u001b[35mNCT_CRC ==> val ...\u001b[0m\n"
     ]
    },
    {
     "data": {
      "application/vnd.jupyter.widget-view+json": {
       "model_id": "4a9e4ba3c9084291809fa217f9dbe1f1",
       "version_major": 2,
       "version_minor": 0
      },
      "text/plain": [
       "  0%|          | 0/310 [00:00<?, ?it/s]"
      ]
     },
     "metadata": {},
     "output_type": "display_data"
    },
    {
     "name": "stdout",
     "output_type": "stream",
     "text": [
      "val_Acc:\u001b[1;32m96.181%\u001b[0m\n",
      "Best_val:\u001b[1;32m[99.838%]\u001b[0m\n",
      "\u001b[1;32m[Train Epoch:[41]NCT_CRC ==> Training]\u001b[0m ...\n"
     ]
    },
    {
     "data": {
      "application/vnd.jupyter.widget-view+json": {
       "model_id": "6e2433d74e4644e8829e948e824d865f",
       "version_major": 2,
       "version_minor": 0
      },
      "text/plain": [
       "  0%|          | 0/477 [00:00<?, ?it/s]"
      ]
     },
     "metadata": {},
     "output_type": "display_data"
    },
    {
     "name": "stdout",
     "output_type": "stream",
     "text": [
      "[238/477] Loss0.01293,ACC:0.96814\n",
      "[476/477] Loss0.02024,ACC:0.96850\n",
      "Train Epoch:[41] Loss:0.02596,Acc:0.96847,Best_train:0.98141\n",
      "\u001b[35mNCT_CRC ==> val ...\u001b[0m\n"
     ]
    },
    {
     "data": {
      "application/vnd.jupyter.widget-view+json": {
       "model_id": "59c79e1f8edf46498759825654afaf07",
       "version_major": 2,
       "version_minor": 0
      },
      "text/plain": [
       "  0%|          | 0/310 [00:00<?, ?it/s]"
      ]
     },
     "metadata": {},
     "output_type": "display_data"
    },
    {
     "name": "stdout",
     "output_type": "stream",
     "text": [
      "val_Acc:\u001b[1;32m98.515%\u001b[0m\n",
      "Best_val:\u001b[1;32m[99.838%]\u001b[0m\n",
      "\u001b[1;32m[Train Epoch:[42]NCT_CRC ==> Training]\u001b[0m ...\n"
     ]
    },
    {
     "data": {
      "application/vnd.jupyter.widget-view+json": {
       "model_id": "d95d848f2db546e7a37812eed25a824c",
       "version_major": 2,
       "version_minor": 0
      },
      "text/plain": [
       "  0%|          | 0/477 [00:00<?, ?it/s]"
      ]
     },
     "metadata": {},
     "output_type": "display_data"
    },
    {
     "name": "stdout",
     "output_type": "stream",
     "text": [
      "[238/477] Loss0.01775,ACC:0.96796\n",
      "[476/477] Loss0.02039,ACC:0.96980\n",
      "Train Epoch:[42] Loss:0.02444,Acc:0.96982,Best_train:0.98141\n",
      "\u001b[35mNCT_CRC ==> val ...\u001b[0m\n"
     ]
    },
    {
     "data": {
      "application/vnd.jupyter.widget-view+json": {
       "model_id": "02e13a54c35e4c75be85b135bfcf13e0",
       "version_major": 2,
       "version_minor": 0
      },
      "text/plain": [
       "  0%|          | 0/310 [00:00<?, ?it/s]"
      ]
     },
     "metadata": {},
     "output_type": "display_data"
    },
    {
     "name": "stdout",
     "output_type": "stream",
     "text": [
      "val_Acc:\u001b[1;32m99.747%\u001b[0m\n",
      "Best_val:\u001b[1;32m[99.838%]\u001b[0m\n",
      "\u001b[1;32m[Train Epoch:[43]NCT_CRC ==> Training]\u001b[0m ...\n"
     ]
    },
    {
     "data": {
      "application/vnd.jupyter.widget-view+json": {
       "model_id": "d6de839ad9f64510977204c82656d5cc",
       "version_major": 2,
       "version_minor": 0
      },
      "text/plain": [
       "  0%|          | 0/477 [00:00<?, ?it/s]"
      ]
     },
     "metadata": {},
     "output_type": "display_data"
    },
    {
     "name": "stdout",
     "output_type": "stream",
     "text": [
      "[238/477] Loss0.01754,ACC:0.97674\n",
      "[476/477] Loss0.01922,ACC:0.97689\n",
      "Train Epoch:[43] Loss:0.01953,Acc:0.97691,Best_train:0.98141\n",
      "\u001b[35mNCT_CRC ==> val ...\u001b[0m\n"
     ]
    },
    {
     "data": {
      "application/vnd.jupyter.widget-view+json": {
       "model_id": "9cf3015a64664a16915103c30d547a73",
       "version_major": 2,
       "version_minor": 0
      },
      "text/plain": [
       "  0%|          | 0/310 [00:00<?, ?it/s]"
      ]
     },
     "metadata": {},
     "output_type": "display_data"
    },
    {
     "name": "stdout",
     "output_type": "stream",
     "text": [
      "val_Acc:\u001b[1;32m97.969%\u001b[0m\n",
      "Best_val:\u001b[1;32m[99.838%]\u001b[0m\n",
      "\u001b[1;32m[Train Epoch:[44]NCT_CRC ==> Training]\u001b[0m ...\n"
     ]
    },
    {
     "data": {
      "application/vnd.jupyter.widget-view+json": {
       "model_id": "2325e081b4a2443aa2ca522e94f6b79e",
       "version_major": 2,
       "version_minor": 0
      },
      "text/plain": [
       "  0%|          | 0/477 [00:00<?, ?it/s]"
      ]
     },
     "metadata": {},
     "output_type": "display_data"
    },
    {
     "name": "stdout",
     "output_type": "stream",
     "text": [
      "[238/477] Loss0.03994,ACC:0.98097\n",
      "[476/477] Loss0.01127,ACC:0.98092\n",
      "Train Epoch:[44] Loss:0.01648,Acc:0.98089,Best_train:0.98141\n",
      "\u001b[35mNCT_CRC ==> val ...\u001b[0m\n"
     ]
    },
    {
     "data": {
      "application/vnd.jupyter.widget-view+json": {
       "model_id": "d4276c6e4ee24da2b3c8cccc546e1c53",
       "version_major": 2,
       "version_minor": 0
      },
      "text/plain": [
       "  0%|          | 0/310 [00:00<?, ?it/s]"
      ]
     },
     "metadata": {},
     "output_type": "display_data"
    },
    {
     "name": "stdout",
     "output_type": "stream",
     "text": [
      "val_Acc:\u001b[1;32m99.525%\u001b[0m\n",
      "Best_val:\u001b[1;32m[99.838%]\u001b[0m\n",
      "\u001b[1;32m[Train Epoch:[45]NCT_CRC ==> Training]\u001b[0m ...\n"
     ]
    },
    {
     "data": {
      "application/vnd.jupyter.widget-view+json": {
       "model_id": "fae6674b808b4167b1c69f144f22cceb",
       "version_major": 2,
       "version_minor": 0
      },
      "text/plain": [
       "  0%|          | 0/477 [00:00<?, ?it/s]"
      ]
     },
     "metadata": {},
     "output_type": "display_data"
    },
    {
     "name": "stdout",
     "output_type": "stream",
     "text": [
      "[238/477] Loss0.01124,ACC:0.98467\n",
      "[476/477] Loss0.01028,ACC:0.98446\n",
      "Train Epoch:[45] Loss:0.01382,Acc:0.98446,Best_train:0.98446\n",
      "\u001b[35mNCT_CRC ==> val ...\u001b[0m\n"
     ]
    },
    {
     "data": {
      "application/vnd.jupyter.widget-view+json": {
       "model_id": "85e3a2809c1e404984eea49871159080",
       "version_major": 2,
       "version_minor": 0
      },
      "text/plain": [
       "  0%|          | 0/310 [00:00<?, ?it/s]"
      ]
     },
     "metadata": {},
     "output_type": "display_data"
    },
    {
     "name": "stdout",
     "output_type": "stream",
     "text": [
      "val_Acc:\u001b[1;32m99.566%\u001b[0m\n",
      "Best_val:\u001b[1;32m[99.838%]\u001b[0m\n",
      "\u001b[1;32m[Train Epoch:[46]NCT_CRC ==> Training]\u001b[0m ...\n"
     ]
    },
    {
     "data": {
      "application/vnd.jupyter.widget-view+json": {
       "model_id": "9da28639ad594efcb9fdac4313f3a14d",
       "version_major": 2,
       "version_minor": 0
      },
      "text/plain": [
       "  0%|          | 0/477 [00:00<?, ?it/s]"
      ]
     },
     "metadata": {},
     "output_type": "display_data"
    },
    {
     "name": "stdout",
     "output_type": "stream",
     "text": [
      "[238/477] Loss0.01115,ACC:0.98452\n",
      "[476/477] Loss0.01531,ACC:0.98491\n",
      "Train Epoch:[46] Loss:0.01325,Acc:0.98492,Best_train:0.98492\n",
      "\u001b[35mNCT_CRC ==> val ...\u001b[0m\n"
     ]
    },
    {
     "data": {
      "application/vnd.jupyter.widget-view+json": {
       "model_id": "acfca14f87ae4f61b91abba01e2d1adc",
       "version_major": 2,
       "version_minor": 0
      },
      "text/plain": [
       "  0%|          | 0/310 [00:00<?, ?it/s]"
      ]
     },
     "metadata": {},
     "output_type": "display_data"
    },
    {
     "name": "stdout",
     "output_type": "stream",
     "text": [
      "val_Acc:\u001b[1;32m99.586%\u001b[0m\n",
      "Best_val:\u001b[1;32m[99.838%]\u001b[0m\n",
      "\u001b[1;32m[Train Epoch:[47]NCT_CRC ==> Training]\u001b[0m ...\n"
     ]
    },
    {
     "data": {
      "application/vnd.jupyter.widget-view+json": {
       "model_id": "81238a9db26243af856a60a910a58f0c",
       "version_major": 2,
       "version_minor": 0
      },
      "text/plain": [
       "  0%|          | 0/477 [00:00<?, ?it/s]"
      ]
     },
     "metadata": {},
     "output_type": "display_data"
    },
    {
     "name": "stdout",
     "output_type": "stream",
     "text": [
      "[238/477] Loss0.01791,ACC:0.98464\n",
      "[476/477] Loss0.01589,ACC:0.98474\n",
      "Train Epoch:[47] Loss:0.01362,Acc:0.98472,Best_train:0.98492\n",
      "\u001b[35mNCT_CRC ==> val ...\u001b[0m\n"
     ]
    },
    {
     "data": {
      "application/vnd.jupyter.widget-view+json": {
       "model_id": "ffe2eea0d4974d06bf1e0cfa5a84e086",
       "version_major": 2,
       "version_minor": 0
      },
      "text/plain": [
       "  0%|          | 0/310 [00:00<?, ?it/s]"
      ]
     },
     "metadata": {},
     "output_type": "display_data"
    },
    {
     "name": "stdout",
     "output_type": "stream",
     "text": [
      "val_Acc:\u001b[1;32m99.535%\u001b[0m\n",
      "Best_val:\u001b[1;32m[99.838%]\u001b[0m\n",
      "\u001b[1;32m[Train Epoch:[48]NCT_CRC ==> Training]\u001b[0m ...\n"
     ]
    },
    {
     "data": {
      "application/vnd.jupyter.widget-view+json": {
       "model_id": "f8b8bf6c5de44312843b249a795120e8",
       "version_major": 2,
       "version_minor": 0
      },
      "text/plain": [
       "  0%|          | 0/477 [00:00<?, ?it/s]"
      ]
     },
     "metadata": {},
     "output_type": "display_data"
    },
    {
     "name": "stdout",
     "output_type": "stream",
     "text": [
      "[238/477] Loss0.01697,ACC:0.98162\n",
      "[476/477] Loss0.01646,ACC:0.98171\n",
      "Train Epoch:[48] Loss:0.01600,Acc:0.98171,Best_train:0.98492\n",
      "\u001b[35mNCT_CRC ==> val ...\u001b[0m\n"
     ]
    },
    {
     "data": {
      "application/vnd.jupyter.widget-view+json": {
       "model_id": "da362e3efef84019a4ba59eaba56db59",
       "version_major": 2,
       "version_minor": 0
      },
      "text/plain": [
       "  0%|          | 0/310 [00:00<?, ?it/s]"
      ]
     },
     "metadata": {},
     "output_type": "display_data"
    },
    {
     "name": "stdout",
     "output_type": "stream",
     "text": [
      "val_Acc:\u001b[1;32m99.434%\u001b[0m\n",
      "Best_val:\u001b[1;32m[99.838%]\u001b[0m\n",
      "\u001b[1;32m[Train Epoch:[49]NCT_CRC ==> Training]\u001b[0m ...\n"
     ]
    },
    {
     "data": {
      "application/vnd.jupyter.widget-view+json": {
       "model_id": "eb3aca4498dd4a288131f33bae52f907",
       "version_major": 2,
       "version_minor": 0
      },
      "text/plain": [
       "  0%|          | 0/477 [00:00<?, ?it/s]"
      ]
     },
     "metadata": {},
     "output_type": "display_data"
    },
    {
     "name": "stdout",
     "output_type": "stream",
     "text": [
      "[238/477] Loss0.01738,ACC:0.97722\n",
      "[476/477] Loss0.02033,ACC:0.97672\n",
      "Train Epoch:[49] Loss:0.02010,Acc:0.97671,Best_train:0.98492\n",
      "\u001b[35mNCT_CRC ==> val ...\u001b[0m\n"
     ]
    },
    {
     "data": {
      "application/vnd.jupyter.widget-view+json": {
       "model_id": "e45220bac98440fe8ce76febe1504489",
       "version_major": 2,
       "version_minor": 0
      },
      "text/plain": [
       "  0%|          | 0/310 [00:00<?, ?it/s]"
      ]
     },
     "metadata": {},
     "output_type": "display_data"
    },
    {
     "name": "stdout",
     "output_type": "stream",
     "text": [
      "val_Acc:\u001b[1;32m99.454%\u001b[0m\n",
      "Best_val:\u001b[1;32m[99.838%]\u001b[0m\n",
      "\u001b[1;32m[Train Epoch:[50]NCT_CRC ==> Training]\u001b[0m ...\n"
     ]
    },
    {
     "data": {
      "application/vnd.jupyter.widget-view+json": {
       "model_id": "0e639d18647e43b68285f0fe2fca8bdf",
       "version_major": 2,
       "version_minor": 0
      },
      "text/plain": [
       "  0%|          | 0/477 [00:00<?, ?it/s]"
      ]
     },
     "metadata": {},
     "output_type": "display_data"
    },
    {
     "name": "stdout",
     "output_type": "stream",
     "text": [
      "[238/477] Loss0.02652,ACC:0.97249\n",
      "[476/477] Loss0.02351,ACC:0.97319\n",
      "Train Epoch:[50] Loss:0.02251,Acc:0.97311,Best_train:0.98492\n",
      "\u001b[35mNCT_CRC ==> val ...\u001b[0m\n"
     ]
    },
    {
     "data": {
      "application/vnd.jupyter.widget-view+json": {
       "model_id": "5b35aa6033a4443086ab15008d590c12",
       "version_major": 2,
       "version_minor": 0
      },
      "text/plain": [
       "  0%|          | 0/310 [00:00<?, ?it/s]"
      ]
     },
     "metadata": {},
     "output_type": "display_data"
    },
    {
     "name": "stdout",
     "output_type": "stream",
     "text": [
      "val_Acc:\u001b[1;32m99.232%\u001b[0m\n",
      "Best_val:\u001b[1;32m[99.838%]\u001b[0m\n",
      "\u001b[1;32m[Train Epoch:[51]NCT_CRC ==> Training]\u001b[0m ...\n"
     ]
    },
    {
     "data": {
      "application/vnd.jupyter.widget-view+json": {
       "model_id": "8015d7eb482e466d8d6766e26c02fa7f",
       "version_major": 2,
       "version_minor": 0
      },
      "text/plain": [
       "  0%|          | 0/477 [00:00<?, ?it/s]"
      ]
     },
     "metadata": {},
     "output_type": "display_data"
    },
    {
     "name": "stdout",
     "output_type": "stream",
     "text": [
      "[238/477] Loss0.02831,ACC:0.97304\n",
      "[476/477] Loss0.01757,ACC:0.97363\n",
      "Train Epoch:[51] Loss:0.02241,Acc:0.97357,Best_train:0.98492\n",
      "\u001b[35mNCT_CRC ==> val ...\u001b[0m\n"
     ]
    },
    {
     "data": {
      "application/vnd.jupyter.widget-view+json": {
       "model_id": "5fe6535355274fb3b8fd52fbf3c897ba",
       "version_major": 2,
       "version_minor": 0
      },
      "text/plain": [
       "  0%|          | 0/310 [00:00<?, ?it/s]"
      ]
     },
     "metadata": {},
     "output_type": "display_data"
    },
    {
     "name": "stdout",
     "output_type": "stream",
     "text": [
      "val_Acc:\u001b[1;32m94.887%\u001b[0m\n",
      "Best_val:\u001b[1;32m[99.838%]\u001b[0m\n",
      "\u001b[1;32m[Train Epoch:[52]NCT_CRC ==> Training]\u001b[0m ...\n"
     ]
    },
    {
     "data": {
      "application/vnd.jupyter.widget-view+json": {
       "model_id": "e3a9d15fecdb43579c0224ffbed76346",
       "version_major": 2,
       "version_minor": 0
      },
      "text/plain": [
       "  0%|          | 0/477 [00:00<?, ?it/s]"
      ]
     },
     "metadata": {},
     "output_type": "display_data"
    },
    {
     "name": "stdout",
     "output_type": "stream",
     "text": [
      "[238/477] Loss0.01915,ACC:0.97779\n",
      "[476/477] Loss0.02173,ACC:0.97712\n",
      "Train Epoch:[52] Loss:0.01934,Acc:0.97713,Best_train:0.98492\n",
      "\u001b[35mNCT_CRC ==> val ...\u001b[0m\n"
     ]
    },
    {
     "data": {
      "application/vnd.jupyter.widget-view+json": {
       "model_id": "d39af9d2043043c78500c9ce6f452450",
       "version_major": 2,
       "version_minor": 0
      },
      "text/plain": [
       "  0%|          | 0/310 [00:00<?, ?it/s]"
      ]
     },
     "metadata": {},
     "output_type": "display_data"
    },
    {
     "name": "stdout",
     "output_type": "stream",
     "text": [
      "val_Acc:\u001b[1;32m96.736%\u001b[0m\n",
      "Best_val:\u001b[1;32m[99.838%]\u001b[0m\n",
      "\u001b[1;32m[Train Epoch:[53]NCT_CRC ==> Training]\u001b[0m ...\n"
     ]
    },
    {
     "data": {
      "application/vnd.jupyter.widget-view+json": {
       "model_id": "2c6b2f80d13f409fb3f30806b5366fde",
       "version_major": 2,
       "version_minor": 0
      },
      "text/plain": [
       "  0%|          | 0/477 [00:00<?, ?it/s]"
      ]
     },
     "metadata": {},
     "output_type": "display_data"
    },
    {
     "name": "stdout",
     "output_type": "stream",
     "text": [
      "[238/477] Loss0.01572,ACC:0.98042\n",
      "[476/477] Loss0.01184,ACC:0.98107\n",
      "Train Epoch:[53] Loss:0.01646,Acc:0.98104,Best_train:0.98492\n",
      "\u001b[35mNCT_CRC ==> val ...\u001b[0m\n"
     ]
    },
    {
     "data": {
      "application/vnd.jupyter.widget-view+json": {
       "model_id": "b21ccf94981444958b3cfcca6b389487",
       "version_major": 2,
       "version_minor": 0
      },
      "text/plain": [
       "  0%|          | 0/310 [00:00<?, ?it/s]"
      ]
     },
     "metadata": {},
     "output_type": "display_data"
    },
    {
     "name": "stdout",
     "output_type": "stream",
     "text": [
      "val_Acc:\u001b[1;32m99.505%\u001b[0m\n",
      "Best_val:\u001b[1;32m[99.838%]\u001b[0m\n",
      "\u001b[1;32m[Train Epoch:[54]NCT_CRC ==> Training]\u001b[0m ...\n"
     ]
    },
    {
     "data": {
      "application/vnd.jupyter.widget-view+json": {
       "model_id": "9bd70056226f4a07ba0a3dace255137f",
       "version_major": 2,
       "version_minor": 0
      },
      "text/plain": [
       "  0%|          | 0/477 [00:00<?, ?it/s]"
      ]
     },
     "metadata": {},
     "output_type": "display_data"
    },
    {
     "name": "stdout",
     "output_type": "stream",
     "text": [
      "[238/477] Loss0.00881,ACC:0.98507\n",
      "[476/477] Loss0.01187,ACC:0.98486\n",
      "Train Epoch:[54] Loss:0.01340,Acc:0.98483,Best_train:0.98492\n",
      "\u001b[35mNCT_CRC ==> val ...\u001b[0m\n"
     ]
    },
    {
     "data": {
      "application/vnd.jupyter.widget-view+json": {
       "model_id": "c75315c431ce44f28f66882cfb2c6731",
       "version_major": 2,
       "version_minor": 0
      },
      "text/plain": [
       "  0%|          | 0/310 [00:00<?, ?it/s]"
      ]
     },
     "metadata": {},
     "output_type": "display_data"
    },
    {
     "name": "stdout",
     "output_type": "stream",
     "text": [
      "val_Acc:\u001b[1;32m83.348%\u001b[0m\n",
      "Best_val:\u001b[1;32m[99.838%]\u001b[0m\n",
      "\u001b[1;32m[Train Epoch:[55]NCT_CRC ==> Training]\u001b[0m ...\n"
     ]
    },
    {
     "data": {
      "application/vnd.jupyter.widget-view+json": {
       "model_id": "19c0c1fca2a2467baef7ba58cc656427",
       "version_major": 2,
       "version_minor": 0
      },
      "text/plain": [
       "  0%|          | 0/477 [00:00<?, ?it/s]"
      ]
     },
     "metadata": {},
     "output_type": "display_data"
    },
    {
     "name": "stdout",
     "output_type": "stream",
     "text": [
      "[238/477] Loss0.01278,ACC:0.98704\n",
      "[476/477] Loss0.03021,ACC:0.98727\n",
      "Train Epoch:[55] Loss:0.01147,Acc:0.98727,Best_train:0.98727\n",
      "\u001b[35mNCT_CRC ==> val ...\u001b[0m\n"
     ]
    },
    {
     "data": {
      "application/vnd.jupyter.widget-view+json": {
       "model_id": "d47a234bad534150bdf5994963c35db0",
       "version_major": 2,
       "version_minor": 0
      },
      "text/plain": [
       "  0%|          | 0/310 [00:00<?, ?it/s]"
      ]
     },
     "metadata": {},
     "output_type": "display_data"
    },
    {
     "name": "stdout",
     "output_type": "stream",
     "text": [
      "val_Acc:\u001b[1;32m99.545%\u001b[0m\n",
      "Best_val:\u001b[1;32m[99.838%]\u001b[0m\n",
      "\u001b[1;32m[Train Epoch:[56]NCT_CRC ==> Training]\u001b[0m ...\n"
     ]
    },
    {
     "data": {
      "application/vnd.jupyter.widget-view+json": {
       "model_id": "98db74a3b8c44645a0f91149cd9ae818",
       "version_major": 2,
       "version_minor": 0
      },
      "text/plain": [
       "  0%|          | 0/477 [00:00<?, ?it/s]"
      ]
     },
     "metadata": {},
     "output_type": "display_data"
    },
    {
     "name": "stdout",
     "output_type": "stream",
     "text": [
      "[238/477] Loss0.00670,ACC:0.98865\n",
      "[476/477] Loss0.01108,ACC:0.98835\n",
      "Train Epoch:[56] Loss:0.01077,Acc:0.98835,Best_train:0.98835\n",
      "\u001b[35mNCT_CRC ==> val ...\u001b[0m\n"
     ]
    },
    {
     "data": {
      "application/vnd.jupyter.widget-view+json": {
       "model_id": "05d98788a8dc408fa4e6ef1d65fc4ba1",
       "version_major": 2,
       "version_minor": 0
      },
      "text/plain": [
       "  0%|          | 0/310 [00:00<?, ?it/s]"
      ]
     },
     "metadata": {},
     "output_type": "display_data"
    },
    {
     "name": "stdout",
     "output_type": "stream",
     "text": [
      "val_Acc:\u001b[1;32m99.626%\u001b[0m\n",
      "Best_val:\u001b[1;32m[99.838%]\u001b[0m\n",
      "\u001b[1;32m[Train Epoch:[57]NCT_CRC ==> Training]\u001b[0m ...\n"
     ]
    },
    {
     "data": {
      "application/vnd.jupyter.widget-view+json": {
       "model_id": "8190e9f2824144caaf63de2b39c1916c",
       "version_major": 2,
       "version_minor": 0
      },
      "text/plain": [
       "  0%|          | 0/477 [00:00<?, ?it/s]"
      ]
     },
     "metadata": {},
     "output_type": "display_data"
    },
    {
     "name": "stdout",
     "output_type": "stream",
     "text": [
      "[238/477] Loss0.00957,ACC:0.98775\n",
      "[476/477] Loss0.01354,ACC:0.98840\n",
      "Train Epoch:[57] Loss:0.01109,Acc:0.98840,Best_train:0.98840\n",
      "\u001b[35mNCT_CRC ==> val ...\u001b[0m\n"
     ]
    },
    {
     "data": {
      "application/vnd.jupyter.widget-view+json": {
       "model_id": "0a1dbbdda81f454a98b99bb97884c73f",
       "version_major": 2,
       "version_minor": 0
      },
      "text/plain": [
       "  0%|          | 0/310 [00:00<?, ?it/s]"
      ]
     },
     "metadata": {},
     "output_type": "display_data"
    },
    {
     "name": "stdout",
     "output_type": "stream",
     "text": [
      "val_Acc:\u001b[1;32m99.656%\u001b[0m\n",
      "Best_val:\u001b[1;32m[99.838%]\u001b[0m\n",
      "\u001b[1;32m[Train Epoch:[58]NCT_CRC ==> Training]\u001b[0m ...\n"
     ]
    },
    {
     "data": {
      "application/vnd.jupyter.widget-view+json": {
       "model_id": "b417d222fab94d5491467c71df68c948",
       "version_major": 2,
       "version_minor": 0
      },
      "text/plain": [
       "  0%|          | 0/477 [00:00<?, ?it/s]"
      ]
     },
     "metadata": {},
     "output_type": "display_data"
    },
    {
     "name": "stdout",
     "output_type": "stream",
     "text": [
      "[238/477] Loss0.00692,ACC:0.98572\n",
      "[476/477] Loss0.01895,ACC:0.98542\n",
      "Train Epoch:[58] Loss:0.01343,Acc:0.98543,Best_train:0.98840\n",
      "\u001b[35mNCT_CRC ==> val ...\u001b[0m\n"
     ]
    },
    {
     "data": {
      "application/vnd.jupyter.widget-view+json": {
       "model_id": "3d8f6642cf564714971fc30ac3d707ee",
       "version_major": 2,
       "version_minor": 0
      },
      "text/plain": [
       "  0%|          | 0/310 [00:00<?, ?it/s]"
      ]
     },
     "metadata": {},
     "output_type": "display_data"
    },
    {
     "name": "stdout",
     "output_type": "stream",
     "text": [
      "val_Acc:\u001b[1;32m99.596%\u001b[0m\n",
      "Best_val:\u001b[1;32m[99.838%]\u001b[0m\n",
      "\u001b[1;32m[Train Epoch:[59]NCT_CRC ==> Training]\u001b[0m ...\n"
     ]
    },
    {
     "data": {
      "application/vnd.jupyter.widget-view+json": {
       "model_id": "3160109195a64c8791714ffdc7d3f5b5",
       "version_major": 2,
       "version_minor": 0
      },
      "text/plain": [
       "  0%|          | 0/477 [00:00<?, ?it/s]"
      ]
     },
     "metadata": {},
     "output_type": "display_data"
    },
    {
     "name": "stdout",
     "output_type": "stream",
     "text": [
      "[238/477] Loss0.01826,ACC:0.98217\n",
      "[476/477] Loss0.01710,ACC:0.98146\n",
      "Train Epoch:[59] Loss:0.01674,Acc:0.98147,Best_train:0.98840\n",
      "\u001b[35mNCT_CRC ==> val ...\u001b[0m\n"
     ]
    },
    {
     "data": {
      "application/vnd.jupyter.widget-view+json": {
       "model_id": "e615d837c4034d6aabf45a7b3282e38a",
       "version_major": 2,
       "version_minor": 0
      },
      "text/plain": [
       "  0%|          | 0/310 [00:00<?, ?it/s]"
      ]
     },
     "metadata": {},
     "output_type": "display_data"
    },
    {
     "name": "stdout",
     "output_type": "stream",
     "text": [
      "val_Acc:\u001b[1;32m99.444%\u001b[0m\n",
      "Best_val:\u001b[1;32m[99.838%]\u001b[0m\n",
      "\u001b[1;32m[Train Epoch:[60]NCT_CRC ==> Training]\u001b[0m ...\n"
     ]
    },
    {
     "data": {
      "application/vnd.jupyter.widget-view+json": {
       "model_id": "ceca884048164189a188a01ef78e7639",
       "version_major": 2,
       "version_minor": 0
      },
      "text/plain": [
       "  0%|          | 0/477 [00:00<?, ?it/s]"
      ]
     },
     "metadata": {},
     "output_type": "display_data"
    },
    {
     "name": "stdout",
     "output_type": "stream",
     "text": [
      "[238/477] Loss0.01826,ACC:0.97722\n",
      "[476/477] Loss0.02074,ACC:0.97734\n",
      "Train Epoch:[60] Loss:0.01984,Acc:0.97733,Best_train:0.98840\n",
      "\u001b[35mNCT_CRC ==> val ...\u001b[0m\n"
     ]
    },
    {
     "data": {
      "application/vnd.jupyter.widget-view+json": {
       "model_id": "54d6dd6862cc4bb08939117c6421eff5",
       "version_major": 2,
       "version_minor": 0
      },
      "text/plain": [
       "  0%|          | 0/310 [00:00<?, ?it/s]"
      ]
     },
     "metadata": {},
     "output_type": "display_data"
    },
    {
     "name": "stdout",
     "output_type": "stream",
     "text": [
      "val_Acc:\u001b[1;32m99.414%\u001b[0m\n",
      "Best_val:\u001b[1;32m[99.838%]\u001b[0m\n",
      "\u001b[1;32m[Train Epoch:[61]NCT_CRC ==> Training]\u001b[0m ...\n"
     ]
    },
    {
     "data": {
      "application/vnd.jupyter.widget-view+json": {
       "model_id": "8ddf1e2ac97042d69d78dec899374bd7",
       "version_major": 2,
       "version_minor": 0
      },
      "text/plain": [
       "  0%|          | 0/477 [00:00<?, ?it/s]"
      ]
     },
     "metadata": {},
     "output_type": "display_data"
    },
    {
     "name": "stdout",
     "output_type": "stream",
     "text": [
      "[238/477] Loss0.01709,ACC:0.98019\n",
      "[476/477] Loss0.02309,ACC:0.97783\n",
      "Train Epoch:[61] Loss:0.01937,Acc:0.97783,Best_train:0.98840\n",
      "\u001b[35mNCT_CRC ==> val ...\u001b[0m\n"
     ]
    },
    {
     "data": {
      "application/vnd.jupyter.widget-view+json": {
       "model_id": "92e1cce7ca804715b674f83122d21bca",
       "version_major": 2,
       "version_minor": 0
      },
      "text/plain": [
       "  0%|          | 0/310 [00:00<?, ?it/s]"
      ]
     },
     "metadata": {},
     "output_type": "display_data"
    },
    {
     "name": "stdout",
     "output_type": "stream",
     "text": [
      "val_Acc:\u001b[1;32m99.323%\u001b[0m\n",
      "Best_val:\u001b[1;32m[99.838%]\u001b[0m\n",
      "\u001b[1;32m[Train Epoch:[62]NCT_CRC ==> Training]\u001b[0m ...\n"
     ]
    },
    {
     "data": {
      "application/vnd.jupyter.widget-view+json": {
       "model_id": "ea5e45591d334b15a998e4dde646000e",
       "version_major": 2,
       "version_minor": 0
      },
      "text/plain": [
       "  0%|          | 0/477 [00:00<?, ?it/s]"
      ]
     },
     "metadata": {},
     "output_type": "display_data"
    },
    {
     "name": "stdout",
     "output_type": "stream",
     "text": [
      "[238/477] Loss0.02342,ACC:0.98059\n",
      "[476/477] Loss0.01948,ACC:0.98064\n",
      "Train Epoch:[62] Loss:0.01684,Acc:0.98064,Best_train:0.98840\n",
      "\u001b[35mNCT_CRC ==> val ...\u001b[0m\n"
     ]
    },
    {
     "data": {
      "application/vnd.jupyter.widget-view+json": {
       "model_id": "045ae85e88164f24910a95fc117777bf",
       "version_major": 2,
       "version_minor": 0
      },
      "text/plain": [
       "  0%|          | 0/310 [00:00<?, ?it/s]"
      ]
     },
     "metadata": {},
     "output_type": "display_data"
    },
    {
     "name": "stdout",
     "output_type": "stream",
     "text": [
      "val_Acc:\u001b[1;32m96.807%\u001b[0m\n",
      "Best_val:\u001b[1;32m[99.838%]\u001b[0m\n",
      "\u001b[1;32m[Train Epoch:[63]NCT_CRC ==> Training]\u001b[0m ...\n"
     ]
    },
    {
     "data": {
      "application/vnd.jupyter.widget-view+json": {
       "model_id": "41a2ccd5bfe24854a5fc3dc51adb8775",
       "version_major": 2,
       "version_minor": 0
      },
      "text/plain": [
       "  0%|          | 0/477 [00:00<?, ?it/s]"
      ]
     },
     "metadata": {},
     "output_type": "display_data"
    },
    {
     "name": "stdout",
     "output_type": "stream",
     "text": [
      "[238/477] Loss0.01954,ACC:0.98482\n",
      "[476/477] Loss0.00871,ACC:0.98502\n",
      "Train Epoch:[63] Loss:0.01386,Acc:0.98505,Best_train:0.98840\n",
      "\u001b[35mNCT_CRC ==> val ...\u001b[0m\n"
     ]
    },
    {
     "data": {
      "application/vnd.jupyter.widget-view+json": {
       "model_id": "5b07f1ea3d3347659795b12138e60575",
       "version_major": 2,
       "version_minor": 0
      },
      "text/plain": [
       "  0%|          | 0/310 [00:00<?, ?it/s]"
      ]
     },
     "metadata": {},
     "output_type": "display_data"
    },
    {
     "name": "stdout",
     "output_type": "stream",
     "text": [
      "val_Acc:\u001b[1;32m99.535%\u001b[0m\n",
      "Best_val:\u001b[1;32m[99.838%]\u001b[0m\n",
      "\u001b[1;32m[Train Epoch:[64]NCT_CRC ==> Training]\u001b[0m ...\n"
     ]
    },
    {
     "data": {
      "application/vnd.jupyter.widget-view+json": {
       "model_id": "6980f9916a6f463fb7ef2b11aee0405e",
       "version_major": 2,
       "version_minor": 0
      },
      "text/plain": [
       "  0%|          | 0/477 [00:00<?, ?it/s]"
      ]
     },
     "metadata": {},
     "output_type": "display_data"
    },
    {
     "name": "stdout",
     "output_type": "stream",
     "text": [
      "[238/477] Loss0.00721,ACC:0.98860\n",
      "[476/477] Loss0.01574,ACC:0.98871\n",
      "Train Epoch:[64] Loss:0.01122,Acc:0.98873,Best_train:0.98873\n",
      "\u001b[35mNCT_CRC ==> val ...\u001b[0m\n"
     ]
    },
    {
     "data": {
      "application/vnd.jupyter.widget-view+json": {
       "model_id": "89982b263abd42829adfa2349b7a9c67",
       "version_major": 2,
       "version_minor": 0
      },
      "text/plain": [
       "  0%|          | 0/310 [00:00<?, ?it/s]"
      ]
     },
     "metadata": {},
     "output_type": "display_data"
    },
    {
     "name": "stdout",
     "output_type": "stream",
     "text": [
      "val_Acc:\u001b[1;32m99.566%\u001b[0m\n",
      "Best_val:\u001b[1;32m[99.838%]\u001b[0m\n",
      "\u001b[1;32m[Train Epoch:[65]NCT_CRC ==> Training]\u001b[0m ...\n"
     ]
    },
    {
     "data": {
      "application/vnd.jupyter.widget-view+json": {
       "model_id": "6bea55255d1f4c02a6cb16de07e438f6",
       "version_major": 2,
       "version_minor": 0
      },
      "text/plain": [
       "  0%|          | 0/477 [00:00<?, ?it/s]"
      ]
     },
     "metadata": {},
     "output_type": "display_data"
    },
    {
     "name": "stdout",
     "output_type": "stream",
     "text": [
      "[238/477] Loss0.00504,ACC:0.98945\n",
      "[476/477] Loss0.01710,ACC:0.99018\n",
      "Train Epoch:[65] Loss:0.00964,Acc:0.99020,Best_train:0.99020\n",
      "\u001b[35mNCT_CRC ==> val ...\u001b[0m\n"
     ]
    },
    {
     "data": {
      "application/vnd.jupyter.widget-view+json": {
       "model_id": "3944be8e00c54633b986eb468690e97f",
       "version_major": 2,
       "version_minor": 0
      },
      "text/plain": [
       "  0%|          | 0/310 [00:00<?, ?it/s]"
      ]
     },
     "metadata": {},
     "output_type": "display_data"
    },
    {
     "name": "stdout",
     "output_type": "stream",
     "text": [
      "val_Acc:\u001b[1;32m99.636%\u001b[0m\n",
      "Best_val:\u001b[1;32m[99.838%]\u001b[0m\n",
      "\u001b[1;32m[Train Epoch:[66]NCT_CRC ==> Training]\u001b[0m ...\n"
     ]
    },
    {
     "data": {
      "application/vnd.jupyter.widget-view+json": {
       "model_id": "db1c76f58c1440cebc049c6ade01a91a",
       "version_major": 2,
       "version_minor": 0
      },
      "text/plain": [
       "  0%|          | 0/477 [00:00<?, ?it/s]"
      ]
     },
     "metadata": {},
     "output_type": "display_data"
    },
    {
     "name": "stdout",
     "output_type": "stream",
     "text": [
      "[238/477] Loss0.00366,ACC:0.99152\n",
      "[476/477] Loss0.00989,ACC:0.99166\n",
      "Train Epoch:[66] Loss:0.00904,Acc:0.99164,Best_train:0.99164\n",
      "\u001b[35mNCT_CRC ==> val ...\u001b[0m\n"
     ]
    },
    {
     "data": {
      "application/vnd.jupyter.widget-view+json": {
       "model_id": "d5653356015f4902be0f8dabe93e98ab",
       "version_major": 2,
       "version_minor": 0
      },
      "text/plain": [
       "  0%|          | 0/310 [00:00<?, ?it/s]"
      ]
     },
     "metadata": {},
     "output_type": "display_data"
    },
    {
     "name": "stdout",
     "output_type": "stream",
     "text": [
      "val_Acc:\u001b[1;32m99.626%\u001b[0m\n",
      "Best_val:\u001b[1;32m[99.838%]\u001b[0m\n",
      "\u001b[1;32m[Train Epoch:[67]NCT_CRC ==> Training]\u001b[0m ...\n"
     ]
    },
    {
     "data": {
      "application/vnd.jupyter.widget-view+json": {
       "model_id": "2d24c335a9a945b5b5453523169ec1e6",
       "version_major": 2,
       "version_minor": 0
      },
      "text/plain": [
       "  0%|          | 0/477 [00:00<?, ?it/s]"
      ]
     },
     "metadata": {},
     "output_type": "display_data"
    },
    {
     "name": "stdout",
     "output_type": "stream",
     "text": [
      "[238/477] Loss0.00826,ACC:0.99085\n",
      "[476/477] Loss0.00691,ACC:0.99100\n",
      "Train Epoch:[67] Loss:0.00926,Acc:0.99100,Best_train:0.99164\n",
      "\u001b[35mNCT_CRC ==> val ...\u001b[0m\n"
     ]
    },
    {
     "data": {
      "application/vnd.jupyter.widget-view+json": {
       "model_id": "0e5a7a28029e40938c3b15ca2a5bdce3",
       "version_major": 2,
       "version_minor": 0
      },
      "text/plain": [
       "  0%|          | 0/310 [00:00<?, ?it/s]"
      ]
     },
     "metadata": {},
     "output_type": "display_data"
    },
    {
     "name": "stdout",
     "output_type": "stream",
     "text": [
      "val_Acc:\u001b[1;32m99.616%\u001b[0m\n",
      "Best_val:\u001b[1;32m[99.838%]\u001b[0m\n",
      "\u001b[1;32m[Train Epoch:[68]NCT_CRC ==> Training]\u001b[0m ...\n"
     ]
    },
    {
     "data": {
      "application/vnd.jupyter.widget-view+json": {
       "model_id": "8e8b767067304be3b12e1f05fdbe3d6d",
       "version_major": 2,
       "version_minor": 0
      },
      "text/plain": [
       "  0%|          | 0/477 [00:00<?, ?it/s]"
      ]
     },
     "metadata": {},
     "output_type": "display_data"
    },
    {
     "name": "stdout",
     "output_type": "stream",
     "text": [
      "[238/477] Loss0.01108,ACC:0.98890\n",
      "[476/477] Loss0.01269,ACC:0.98876\n",
      "Train Epoch:[68] Loss:0.01132,Acc:0.98877,Best_train:0.99164\n",
      "\u001b[35mNCT_CRC ==> val ...\u001b[0m\n"
     ]
    },
    {
     "data": {
      "application/vnd.jupyter.widget-view+json": {
       "model_id": "d30e6823d6c04bbc89a3efd947f41629",
       "version_major": 2,
       "version_minor": 0
      },
      "text/plain": [
       "  0%|          | 0/310 [00:00<?, ?it/s]"
      ]
     },
     "metadata": {},
     "output_type": "display_data"
    },
    {
     "name": "stdout",
     "output_type": "stream",
     "text": [
      "val_Acc:\u001b[1;32m99.576%\u001b[0m\n",
      "Best_val:\u001b[1;32m[99.838%]\u001b[0m\n",
      "\u001b[1;32m[Train Epoch:[69]NCT_CRC ==> Training]\u001b[0m ...\n"
     ]
    },
    {
     "data": {
      "application/vnd.jupyter.widget-view+json": {
       "model_id": "474a6828d617458a9f96de20d97f4d13",
       "version_major": 2,
       "version_minor": 0
      },
      "text/plain": [
       "  0%|          | 0/477 [00:00<?, ?it/s]"
      ]
     },
     "metadata": {},
     "output_type": "display_data"
    },
    {
     "name": "stdout",
     "output_type": "stream",
     "text": [
      "[238/477] Loss0.02372,ACC:0.98392\n",
      "[476/477] Loss0.01920,ACC:0.98389\n",
      "Train Epoch:[69] Loss:0.01474,Acc:0.98388,Best_train:0.99164\n",
      "\u001b[35mNCT_CRC ==> val ...\u001b[0m\n"
     ]
    },
    {
     "data": {
      "application/vnd.jupyter.widget-view+json": {
       "model_id": "ba764d4b13a248d9aeb32b8adcf14f17",
       "version_major": 2,
       "version_minor": 0
      },
      "text/plain": [
       "  0%|          | 0/310 [00:00<?, ?it/s]"
      ]
     },
     "metadata": {},
     "output_type": "display_data"
    },
    {
     "name": "stdout",
     "output_type": "stream",
     "text": [
      "val_Acc:\u001b[1;32m99.525%\u001b[0m\n",
      "Best_val:\u001b[1;32m[99.838%]\u001b[0m\n",
      "\u001b[1;32m[Train Epoch:[70]NCT_CRC ==> Training]\u001b[0m ...\n"
     ]
    },
    {
     "data": {
      "application/vnd.jupyter.widget-view+json": {
       "model_id": "98c75bb8a9b34c16ab53c6c45f304837",
       "version_major": 2,
       "version_minor": 0
      },
      "text/plain": [
       "  0%|          | 0/477 [00:00<?, ?it/s]"
      ]
     },
     "metadata": {},
     "output_type": "display_data"
    },
    {
     "name": "stdout",
     "output_type": "stream",
     "text": [
      "[238/477] Loss0.02542,ACC:0.98009\n",
      "[476/477] Loss0.02082,ACC:0.98037\n",
      "Train Epoch:[70] Loss:0.01744,Acc:0.98039,Best_train:0.99164\n",
      "\u001b[35mNCT_CRC ==> val ...\u001b[0m\n"
     ]
    },
    {
     "data": {
      "application/vnd.jupyter.widget-view+json": {
       "model_id": "b0de32f5c8534aa2beba61bdc785b35a",
       "version_major": 2,
       "version_minor": 0
      },
      "text/plain": [
       "  0%|          | 0/310 [00:00<?, ?it/s]"
      ]
     },
     "metadata": {},
     "output_type": "display_data"
    },
    {
     "name": "stdout",
     "output_type": "stream",
     "text": [
      "val_Acc:\u001b[1;32m95.948%\u001b[0m\n",
      "Best_val:\u001b[1;32m[99.838%]\u001b[0m\n",
      "\u001b[1;32m[Train Epoch:[71]NCT_CRC ==> Training]\u001b[0m ...\n"
     ]
    },
    {
     "data": {
      "application/vnd.jupyter.widget-view+json": {
       "model_id": "040b6ddf37fb488aa14cabe046582fc3",
       "version_major": 2,
       "version_minor": 0
      },
      "text/plain": [
       "  0%|          | 0/477 [00:00<?, ?it/s]"
      ]
     },
     "metadata": {},
     "output_type": "display_data"
    },
    {
     "name": "stdout",
     "output_type": "stream",
     "text": [
      "[238/477] Loss0.01082,ACC:0.98134\n",
      "[476/477] Loss0.01722,ACC:0.98138\n",
      "Train Epoch:[71] Loss:0.01673,Acc:0.98133,Best_train:0.99164\n",
      "\u001b[35mNCT_CRC ==> val ...\u001b[0m\n"
     ]
    },
    {
     "data": {
      "application/vnd.jupyter.widget-view+json": {
       "model_id": "4cd69ec3f44e46b9ae2731e3dd942dbe",
       "version_major": 2,
       "version_minor": 0
      },
      "text/plain": [
       "  0%|          | 0/310 [00:00<?, ?it/s]"
      ]
     },
     "metadata": {},
     "output_type": "display_data"
    },
    {
     "name": "stdout",
     "output_type": "stream",
     "text": [
      "val_Acc:\u001b[1;32m99.555%\u001b[0m\n",
      "Best_val:\u001b[1;32m[99.838%]\u001b[0m\n",
      "\u001b[1;32m[Train Epoch:[72]NCT_CRC ==> Training]\u001b[0m ...\n"
     ]
    },
    {
     "data": {
      "application/vnd.jupyter.widget-view+json": {
       "model_id": "d9a8c070a5ab45abbe1cfedac79c854e",
       "version_major": 2,
       "version_minor": 0
      },
      "text/plain": [
       "  0%|          | 0/477 [00:00<?, ?it/s]"
      ]
     },
     "metadata": {},
     "output_type": "display_data"
    },
    {
     "name": "stdout",
     "output_type": "stream",
     "text": [
      "[238/477] Loss0.01485,ACC:0.98444\n",
      "[476/477] Loss0.01202,ACC:0.98427\n",
      "Train Epoch:[72] Loss:0.01465,Acc:0.98428,Best_train:0.99164\n",
      "\u001b[35mNCT_CRC ==> val ...\u001b[0m\n"
     ]
    },
    {
     "data": {
      "application/vnd.jupyter.widget-view+json": {
       "model_id": "85e1ba40deb640c38891bc25a5b8b1d2",
       "version_major": 2,
       "version_minor": 0
      },
      "text/plain": [
       "  0%|          | 0/310 [00:00<?, ?it/s]"
      ]
     },
     "metadata": {},
     "output_type": "display_data"
    },
    {
     "name": "stdout",
     "output_type": "stream",
     "text": [
      "val_Acc:\u001b[1;32m99.464%\u001b[0m\n",
      "Best_val:\u001b[1;32m[99.838%]\u001b[0m\n",
      "\u001b[1;32m[Train Epoch:[73]NCT_CRC ==> Training]\u001b[0m ...\n"
     ]
    },
    {
     "data": {
      "application/vnd.jupyter.widget-view+json": {
       "model_id": "f571a2e62205459d996cade0763091a8",
       "version_major": 2,
       "version_minor": 0
      },
      "text/plain": [
       "  0%|          | 0/477 [00:00<?, ?it/s]"
      ]
     },
     "metadata": {},
     "output_type": "display_data"
    },
    {
     "name": "stdout",
     "output_type": "stream",
     "text": [
      "[238/477] Loss0.01254,ACC:0.98825\n",
      "[476/477] Loss0.01292,ACC:0.98813\n",
      "Train Epoch:[73] Loss:0.01190,Acc:0.98813,Best_train:0.99164\n",
      "\u001b[35mNCT_CRC ==> val ...\u001b[0m\n"
     ]
    },
    {
     "data": {
      "application/vnd.jupyter.widget-view+json": {
       "model_id": "312879b96a60450f94443b94cf94fea6",
       "version_major": 2,
       "version_minor": 0
      },
      "text/plain": [
       "  0%|          | 0/310 [00:00<?, ?it/s]"
      ]
     },
     "metadata": {},
     "output_type": "display_data"
    },
    {
     "name": "stdout",
     "output_type": "stream",
     "text": [
      "val_Acc:\u001b[1;32m99.525%\u001b[0m\n",
      "Best_val:\u001b[1;32m[99.838%]\u001b[0m\n",
      "\u001b[1;32m[Train Epoch:[74]NCT_CRC ==> Training]\u001b[0m ...\n"
     ]
    },
    {
     "data": {
      "application/vnd.jupyter.widget-view+json": {
       "model_id": "878578e8159d4fa8923358ef00f5d16e",
       "version_major": 2,
       "version_minor": 0
      },
      "text/plain": [
       "  0%|          | 0/477 [00:00<?, ?it/s]"
      ]
     },
     "metadata": {},
     "output_type": "display_data"
    },
    {
     "name": "stdout",
     "output_type": "stream",
     "text": [
      "[238/477] Loss0.00433,ACC:0.99132\n",
      "[476/477] Loss0.00644,ACC:0.99083\n",
      "Train Epoch:[74] Loss:0.00946,Acc:0.99082,Best_train:0.99164\n",
      "\u001b[35mNCT_CRC ==> val ...\u001b[0m\n"
     ]
    },
    {
     "data": {
      "application/vnd.jupyter.widget-view+json": {
       "model_id": "b26b6927755f427fa6bd2c57a8d44ba6",
       "version_major": 2,
       "version_minor": 0
      },
      "text/plain": [
       "  0%|          | 0/310 [00:00<?, ?it/s]"
      ]
     },
     "metadata": {},
     "output_type": "display_data"
    },
    {
     "name": "stdout",
     "output_type": "stream",
     "text": [
      "val_Acc:\u001b[1;32m99.586%\u001b[0m\n",
      "Best_val:\u001b[1;32m[99.838%]\u001b[0m\n",
      "\u001b[1;32m[Train Epoch:[75]NCT_CRC ==> Training]\u001b[0m ...\n"
     ]
    },
    {
     "data": {
      "application/vnd.jupyter.widget-view+json": {
       "model_id": "fc51f4bbf0c745c3be1fb699b6365478",
       "version_major": 2,
       "version_minor": 0
      },
      "text/plain": [
       "  0%|          | 0/477 [00:00<?, ?it/s]"
      ]
     },
     "metadata": {},
     "output_type": "display_data"
    },
    {
     "name": "stdout",
     "output_type": "stream",
     "text": [
      "[238/477] Loss0.00839,ACC:0.99292\n",
      "[476/477] Loss0.01190,ACC:0.99301\n",
      "Train Epoch:[75] Loss:0.00782,Acc:0.99298,Best_train:0.99298\n",
      "\u001b[35mNCT_CRC ==> val ...\u001b[0m\n"
     ]
    },
    {
     "data": {
      "application/vnd.jupyter.widget-view+json": {
       "model_id": "08408aa0b2a04786a1329291de18a31c",
       "version_major": 2,
       "version_minor": 0
      },
      "text/plain": [
       "  0%|          | 0/310 [00:00<?, ?it/s]"
      ]
     },
     "metadata": {},
     "output_type": "display_data"
    },
    {
     "name": "stdout",
     "output_type": "stream",
     "text": [
      "val_Acc:\u001b[1;32m99.667%\u001b[0m\n",
      "Best_val:\u001b[1;32m[99.838%]\u001b[0m\n",
      "\u001b[1;32m[Train Epoch:[76]NCT_CRC ==> Training]\u001b[0m ...\n"
     ]
    },
    {
     "data": {
      "application/vnd.jupyter.widget-view+json": {
       "model_id": "1c96e28245a244a9a5316e02b92a9109",
       "version_major": 2,
       "version_minor": 0
      },
      "text/plain": [
       "  0%|          | 0/477 [00:00<?, ?it/s]"
      ]
     },
     "metadata": {},
     "output_type": "display_data"
    },
    {
     "name": "stdout",
     "output_type": "stream",
     "text": [
      "[238/477] Loss0.01245,ACC:0.99340\n",
      "[476/477] Loss0.00807,ACC:0.99301\n",
      "Train Epoch:[76] Loss:0.00766,Acc:0.99302,Best_train:0.99302\n",
      "\u001b[35mNCT_CRC ==> val ...\u001b[0m\n"
     ]
    },
    {
     "data": {
      "application/vnd.jupyter.widget-view+json": {
       "model_id": "c659f9a41c0d45a09af8f4e390470e56",
       "version_major": 2,
       "version_minor": 0
      },
      "text/plain": [
       "  0%|          | 0/310 [00:00<?, ?it/s]"
      ]
     },
     "metadata": {},
     "output_type": "display_data"
    },
    {
     "name": "stdout",
     "output_type": "stream",
     "text": [
      "val_Acc:\u001b[1;32m99.667%\u001b[0m\n",
      "Best_val:\u001b[1;32m[99.838%]\u001b[0m\n",
      "\u001b[1;32m[Train Epoch:[77]NCT_CRC ==> Training]\u001b[0m ...\n"
     ]
    },
    {
     "data": {
      "application/vnd.jupyter.widget-view+json": {
       "model_id": "4740f07b7445489f907a4a8e5e6c77bf",
       "version_major": 2,
       "version_minor": 0
      },
      "text/plain": [
       "  0%|          | 0/477 [00:00<?, ?it/s]"
      ]
     },
     "metadata": {},
     "output_type": "display_data"
    },
    {
     "name": "stdout",
     "output_type": "stream",
     "text": [
      "[238/477] Loss0.00639,ACC:0.99245\n",
      "[476/477] Loss0.00652,ACC:0.99283\n",
      "Train Epoch:[77] Loss:0.00782,Acc:0.99283,Best_train:0.99302\n",
      "\u001b[35mNCT_CRC ==> val ...\u001b[0m\n"
     ]
    },
    {
     "data": {
      "application/vnd.jupyter.widget-view+json": {
       "model_id": "65b0b586e1494233939920967994e90d",
       "version_major": 2,
       "version_minor": 0
      },
      "text/plain": [
       "  0%|          | 0/310 [00:00<?, ?it/s]"
      ]
     },
     "metadata": {},
     "output_type": "display_data"
    },
    {
     "name": "stdout",
     "output_type": "stream",
     "text": [
      "val_Acc:\u001b[1;32m99.667%\u001b[0m\n",
      "Best_val:\u001b[1;32m[99.838%]\u001b[0m\n",
      "\u001b[1;32m[Train Epoch:[78]NCT_CRC ==> Training]\u001b[0m ...\n"
     ]
    },
    {
     "data": {
      "application/vnd.jupyter.widget-view+json": {
       "model_id": "79f7c9a3936b46ad9c75753e2bf0e196",
       "version_major": 2,
       "version_minor": 0
      },
      "text/plain": [
       "  0%|          | 0/477 [00:00<?, ?it/s]"
      ]
     },
     "metadata": {},
     "output_type": "display_data"
    },
    {
     "name": "stdout",
     "output_type": "stream",
     "text": [
      "[238/477] Loss0.00744,ACC:0.99137\n",
      "[476/477] Loss0.01038,ACC:0.99120\n",
      "Train Epoch:[78] Loss:0.00950,Acc:0.99121,Best_train:0.99302\n",
      "\u001b[35mNCT_CRC ==> val ...\u001b[0m\n"
     ]
    },
    {
     "data": {
      "application/vnd.jupyter.widget-view+json": {
       "model_id": "62c3ef9f30c54c5cafa1b18d37b1f024",
       "version_major": 2,
       "version_minor": 0
      },
      "text/plain": [
       "  0%|          | 0/310 [00:00<?, ?it/s]"
      ]
     },
     "metadata": {},
     "output_type": "display_data"
    },
    {
     "name": "stdout",
     "output_type": "stream",
     "text": [
      "val_Acc:\u001b[1;32m99.707%\u001b[0m\n",
      "Best_val:\u001b[1;32m[99.838%]\u001b[0m\n",
      "\u001b[1;32m[Train Epoch:[79]NCT_CRC ==> Training]\u001b[0m ...\n"
     ]
    },
    {
     "data": {
      "application/vnd.jupyter.widget-view+json": {
       "model_id": "ca3c06cb28254262b4a1bdab2bc92bc0",
       "version_major": 2,
       "version_minor": 0
      },
      "text/plain": [
       "  0%|          | 0/477 [00:00<?, ?it/s]"
      ]
     },
     "metadata": {},
     "output_type": "display_data"
    },
    {
     "name": "stdout",
     "output_type": "stream",
     "text": [
      "[238/477] Loss0.01491,ACC:0.98679\n",
      "[476/477] Loss0.02702,ACC:0.98668\n",
      "Train Epoch:[79] Loss:0.01314,Acc:0.98663,Best_train:0.99302\n",
      "\u001b[35mNCT_CRC ==> val ...\u001b[0m\n"
     ]
    },
    {
     "data": {
      "application/vnd.jupyter.widget-view+json": {
       "model_id": "eca1d75d932c4d569cc1d8fb9e7c9cc7",
       "version_major": 2,
       "version_minor": 0
      },
      "text/plain": [
       "  0%|          | 0/310 [00:00<?, ?it/s]"
      ]
     },
     "metadata": {},
     "output_type": "display_data"
    },
    {
     "name": "stdout",
     "output_type": "stream",
     "text": [
      "val_Acc:\u001b[1;32m99.475%\u001b[0m\n",
      "Best_val:\u001b[1;32m[99.838%]\u001b[0m\n",
      "\u001b[1;32m[Train Epoch:[80]NCT_CRC ==> Training]\u001b[0m ...\n"
     ]
    },
    {
     "data": {
      "application/vnd.jupyter.widget-view+json": {
       "model_id": "5f6e5fedb51246919bccc23bf613391a",
       "version_major": 2,
       "version_minor": 0
      },
      "text/plain": [
       "  0%|          | 0/477 [00:00<?, ?it/s]"
      ]
     },
     "metadata": {},
     "output_type": "display_data"
    },
    {
     "name": "stdout",
     "output_type": "stream",
     "text": [
      "[238/477] Loss0.01556,ACC:0.98242\n",
      "[476/477] Loss0.01960,ACC:0.98214\n",
      "Train Epoch:[80] Loss:0.01631,Acc:0.98214,Best_train:0.99302\n",
      "\u001b[35mNCT_CRC ==> val ...\u001b[0m\n"
     ]
    },
    {
     "data": {
      "application/vnd.jupyter.widget-view+json": {
       "model_id": "3988358104f3423bb484df27ea37956d",
       "version_major": 2,
       "version_minor": 0
      },
      "text/plain": [
       "  0%|          | 0/310 [00:00<?, ?it/s]"
      ]
     },
     "metadata": {},
     "output_type": "display_data"
    },
    {
     "name": "stdout",
     "output_type": "stream",
     "text": [
      "val_Acc:\u001b[1;32m98.07%\u001b[0m\n",
      "Best_val:\u001b[1;32m[99.838%]\u001b[0m\n",
      "\u001b[1;32m[Train Epoch:[81]NCT_CRC ==> Training]\u001b[0m ...\n"
     ]
    },
    {
     "data": {
      "application/vnd.jupyter.widget-view+json": {
       "model_id": "1df1d07a792a4c6dbd11f06557ba8965",
       "version_major": 2,
       "version_minor": 0
      },
      "text/plain": [
       "  0%|          | 0/477 [00:00<?, ?it/s]"
      ]
     },
     "metadata": {},
     "output_type": "display_data"
    },
    {
     "name": "stdout",
     "output_type": "stream",
     "text": [
      "[238/477] Loss0.02184,ACC:0.98632\n",
      "[476/477] Loss0.01216,ACC:0.98522\n",
      "Train Epoch:[81] Loss:0.01387,Acc:0.98523,Best_train:0.99302\n",
      "\u001b[35mNCT_CRC ==> val ...\u001b[0m\n"
     ]
    },
    {
     "data": {
      "application/vnd.jupyter.widget-view+json": {
       "model_id": "0abf8f5131b648fdab8e97657503f726",
       "version_major": 2,
       "version_minor": 0
      },
      "text/plain": [
       "  0%|          | 0/310 [00:00<?, ?it/s]"
      ]
     },
     "metadata": {},
     "output_type": "display_data"
    },
    {
     "name": "stdout",
     "output_type": "stream",
     "text": [
      "val_Acc:\u001b[1;32m80.075%\u001b[0m\n",
      "Best_val:\u001b[1;32m[99.838%]\u001b[0m\n",
      "\u001b[1;32m[Train Epoch:[82]NCT_CRC ==> Training]\u001b[0m ...\n"
     ]
    },
    {
     "data": {
      "application/vnd.jupyter.widget-view+json": {
       "model_id": "80b9cfa8ebc64f82a5cc45a9109f6a52",
       "version_major": 2,
       "version_minor": 0
      },
      "text/plain": [
       "  0%|          | 0/477 [00:00<?, ?it/s]"
      ]
     },
     "metadata": {},
     "output_type": "display_data"
    },
    {
     "name": "stdout",
     "output_type": "stream",
     "text": [
      "[238/477] Loss0.01641,ACC:0.98634\n",
      "[476/477] Loss0.01552,ACC:0.98636\n",
      "Train Epoch:[82] Loss:0.01341,Acc:0.98633,Best_train:0.99302\n",
      "\u001b[35mNCT_CRC ==> val ...\u001b[0m\n"
     ]
    },
    {
     "data": {
      "application/vnd.jupyter.widget-view+json": {
       "model_id": "810fa3d17b6f423a91e3e791041973f6",
       "version_major": 2,
       "version_minor": 0
      },
      "text/plain": [
       "  0%|          | 0/310 [00:00<?, ?it/s]"
      ]
     },
     "metadata": {},
     "output_type": "display_data"
    },
    {
     "name": "stdout",
     "output_type": "stream",
     "text": [
      "val_Acc:\u001b[1;32m99.717%\u001b[0m\n",
      "Best_val:\u001b[1;32m[99.838%]\u001b[0m\n",
      "\u001b[1;32m[Train Epoch:[83]NCT_CRC ==> Training]\u001b[0m ...\n"
     ]
    },
    {
     "data": {
      "application/vnd.jupyter.widget-view+json": {
       "model_id": "0d6ca1db0408431693f160233a63ce87",
       "version_major": 2,
       "version_minor": 0
      },
      "text/plain": [
       "  0%|          | 0/477 [00:00<?, ?it/s]"
      ]
     },
     "metadata": {},
     "output_type": "display_data"
    },
    {
     "name": "stdout",
     "output_type": "stream",
     "text": [
      "[238/477] Loss0.00651,ACC:0.99000\n",
      "[476/477] Loss0.00591,ACC:0.99000\n",
      "Train Epoch:[83] Loss:0.01035,Acc:0.99000,Best_train:0.99302\n",
      "\u001b[35mNCT_CRC ==> val ...\u001b[0m\n"
     ]
    },
    {
     "data": {
      "application/vnd.jupyter.widget-view+json": {
       "model_id": "325cffe7a36745039306e5617ef4618b",
       "version_major": 2,
       "version_minor": 0
      },
      "text/plain": [
       "  0%|          | 0/310 [00:00<?, ?it/s]"
      ]
     },
     "metadata": {},
     "output_type": "display_data"
    },
    {
     "name": "stdout",
     "output_type": "stream",
     "text": [
      "val_Acc:\u001b[1;32m99.677%\u001b[0m\n",
      "Best_val:\u001b[1;32m[99.838%]\u001b[0m\n",
      "\u001b[1;32m[Train Epoch:[84]NCT_CRC ==> Training]\u001b[0m ...\n"
     ]
    },
    {
     "data": {
      "application/vnd.jupyter.widget-view+json": {
       "model_id": "2c4c99d72e9744e0819401c668bfdddd",
       "version_major": 2,
       "version_minor": 0
      },
      "text/plain": [
       "  0%|          | 0/477 [00:00<?, ?it/s]"
      ]
     },
     "metadata": {},
     "output_type": "display_data"
    },
    {
     "name": "stdout",
     "output_type": "stream",
     "text": [
      "[238/477] Loss0.00924,ACC:0.99290\n",
      "[476/477] Loss0.00731,ACC:0.99308\n",
      "Train Epoch:[84] Loss:0.00808,Acc:0.99308,Best_train:0.99308\n",
      "\u001b[35mNCT_CRC ==> val ...\u001b[0m\n"
     ]
    },
    {
     "data": {
      "application/vnd.jupyter.widget-view+json": {
       "model_id": "36e3dbbce72c4411b75136917e95251a",
       "version_major": 2,
       "version_minor": 0
      },
      "text/plain": [
       "  0%|          | 0/310 [00:00<?, ?it/s]"
      ]
     },
     "metadata": {},
     "output_type": "display_data"
    },
    {
     "name": "stdout",
     "output_type": "stream",
     "text": [
      "val_Acc:\u001b[1;32m99.768%\u001b[0m\n",
      "Best_val:\u001b[1;32m[99.838%]\u001b[0m\n",
      "\u001b[1;32m[Train Epoch:[85]NCT_CRC ==> Training]\u001b[0m ...\n"
     ]
    },
    {
     "data": {
      "application/vnd.jupyter.widget-view+json": {
       "model_id": "c62db43c984242fbb1c2fe138936b9bd",
       "version_major": 2,
       "version_minor": 0
      },
      "text/plain": [
       "  0%|          | 0/477 [00:00<?, ?it/s]"
      ]
     },
     "metadata": {},
     "output_type": "display_data"
    },
    {
     "name": "stdout",
     "output_type": "stream",
     "text": [
      "[238/477] Loss0.00702,ACC:0.99495\n",
      "[476/477] Loss0.00753,ACC:0.99440\n",
      "Train Epoch:[85] Loss:0.00677,Acc:0.99440,Best_train:0.99440\n",
      "\u001b[35mNCT_CRC ==> val ...\u001b[0m\n"
     ]
    },
    {
     "data": {
      "application/vnd.jupyter.widget-view+json": {
       "model_id": "212ea9950ea240b5b6e4fa9bf30ba03f",
       "version_major": 2,
       "version_minor": 0
      },
      "text/plain": [
       "  0%|          | 0/310 [00:00<?, ?it/s]"
      ]
     },
     "metadata": {},
     "output_type": "display_data"
    },
    {
     "name": "stdout",
     "output_type": "stream",
     "text": [
      "val_Acc:\u001b[1;32m99.727%\u001b[0m\n",
      "Best_val:\u001b[1;32m[99.838%]\u001b[0m\n",
      "\u001b[1;32m[Train Epoch:[86]NCT_CRC ==> Training]\u001b[0m ...\n"
     ]
    },
    {
     "data": {
      "application/vnd.jupyter.widget-view+json": {
       "model_id": "29880139ffcb41548da2b1dfb272bba5",
       "version_major": 2,
       "version_minor": 0
      },
      "text/plain": [
       "  0%|          | 0/477 [00:00<?, ?it/s]"
      ]
     },
     "metadata": {},
     "output_type": "display_data"
    },
    {
     "name": "stdout",
     "output_type": "stream",
     "text": [
      "[238/477] Loss0.00426,ACC:0.99490\n",
      "[476/477] Loss0.00356,ACC:0.99475\n",
      "Train Epoch:[86] Loss:0.00666,Acc:0.99476,Best_train:0.99476\n",
      "\u001b[35mNCT_CRC ==> val ...\u001b[0m\n"
     ]
    },
    {
     "data": {
      "application/vnd.jupyter.widget-view+json": {
       "model_id": "e5a0244125614db489799d47d9b9ab9f",
       "version_major": 2,
       "version_minor": 0
      },
      "text/plain": [
       "  0%|          | 0/310 [00:00<?, ?it/s]"
      ]
     },
     "metadata": {},
     "output_type": "display_data"
    },
    {
     "name": "stdout",
     "output_type": "stream",
     "text": [
      "val_Acc:\u001b[1;32m99.707%\u001b[0m\n",
      "Best_val:\u001b[1;32m[99.838%]\u001b[0m\n",
      "\u001b[1;32m[Train Epoch:[87]NCT_CRC ==> Training]\u001b[0m ...\n"
     ]
    },
    {
     "data": {
      "application/vnd.jupyter.widget-view+json": {
       "model_id": "93205d9c3d804089a4bac870dd684335",
       "version_major": 2,
       "version_minor": 0
      },
      "text/plain": [
       "  0%|          | 0/477 [00:00<?, ?it/s]"
      ]
     },
     "metadata": {},
     "output_type": "display_data"
    },
    {
     "name": "stdout",
     "output_type": "stream",
     "text": [
      "[238/477] Loss0.00645,ACC:0.99412\n",
      "[476/477] Loss0.00528,ACC:0.99434\n",
      "Train Epoch:[87] Loss:0.00691,Acc:0.99432,Best_train:0.99476\n",
      "\u001b[35mNCT_CRC ==> val ...\u001b[0m\n"
     ]
    },
    {
     "data": {
      "application/vnd.jupyter.widget-view+json": {
       "model_id": "58deb04348a943d69f347642974e74d2",
       "version_major": 2,
       "version_minor": 0
      },
      "text/plain": [
       "  0%|          | 0/310 [00:00<?, ?it/s]"
      ]
     },
     "metadata": {},
     "output_type": "display_data"
    },
    {
     "name": "stdout",
     "output_type": "stream",
     "text": [
      "val_Acc:\u001b[1;32m99.727%\u001b[0m\n",
      "Best_val:\u001b[1;32m[99.838%]\u001b[0m\n",
      "\u001b[1;32m[Train Epoch:[88]NCT_CRC ==> Training]\u001b[0m ...\n"
     ]
    },
    {
     "data": {
      "application/vnd.jupyter.widget-view+json": {
       "model_id": "f3a9e1b0f7d84ea5883f30b193aaf4ee",
       "version_major": 2,
       "version_minor": 0
      },
      "text/plain": [
       "  0%|          | 0/477 [00:00<?, ?it/s]"
      ]
     },
     "metadata": {},
     "output_type": "display_data"
    },
    {
     "name": "stdout",
     "output_type": "stream",
     "text": [
      "[238/477] Loss0.00767,ACC:0.99322\n",
      "[476/477] Loss0.00779,ACC:0.99291\n",
      "Train Epoch:[88] Loss:0.00811,Acc:0.99292,Best_train:0.99476\n",
      "\u001b[35mNCT_CRC ==> val ...\u001b[0m\n"
     ]
    },
    {
     "data": {
      "application/vnd.jupyter.widget-view+json": {
       "model_id": "db336a2559394789ad8dcb9b3a73d4a5",
       "version_major": 2,
       "version_minor": 0
      },
      "text/plain": [
       "  0%|          | 0/310 [00:00<?, ?it/s]"
      ]
     },
     "metadata": {},
     "output_type": "display_data"
    },
    {
     "name": "stdout",
     "output_type": "stream",
     "text": [
      "val_Acc:\u001b[1;32m99.586%\u001b[0m\n",
      "Best_val:\u001b[1;32m[99.838%]\u001b[0m\n",
      "\u001b[1;32m[Train Epoch:[89]NCT_CRC ==> Training]\u001b[0m ...\n"
     ]
    },
    {
     "data": {
      "application/vnd.jupyter.widget-view+json": {
       "model_id": "666743ded6554cdeb33b07920ecf0711",
       "version_major": 2,
       "version_minor": 0
      },
      "text/plain": [
       "  0%|          | 0/477 [00:00<?, ?it/s]"
      ]
     },
     "metadata": {},
     "output_type": "display_data"
    },
    {
     "name": "stdout",
     "output_type": "stream",
     "text": [
      "[238/477] Loss0.00469,ACC:0.98897\n",
      "[476/477] Loss0.00492,ACC:0.98701\n",
      "Train Epoch:[89] Loss:0.01308,Acc:0.98702,Best_train:0.99476\n",
      "\u001b[35mNCT_CRC ==> val ...\u001b[0m\n"
     ]
    },
    {
     "data": {
      "application/vnd.jupyter.widget-view+json": {
       "model_id": "6bd734afd43647fba4a09484c105b715",
       "version_major": 2,
       "version_minor": 0
      },
      "text/plain": [
       "  0%|          | 0/310 [00:00<?, ?it/s]"
      ]
     },
     "metadata": {},
     "output_type": "display_data"
    },
    {
     "name": "stdout",
     "output_type": "stream",
     "text": [
      "val_Acc:\u001b[1;32m93.503%\u001b[0m\n",
      "Best_val:\u001b[1;32m[99.838%]\u001b[0m\n",
      "\u001b[1;32m[Train Epoch:[90]NCT_CRC ==> Training]\u001b[0m ...\n"
     ]
    },
    {
     "data": {
      "application/vnd.jupyter.widget-view+json": {
       "model_id": "68adf2ec1a064159823bc638377056d2",
       "version_major": 2,
       "version_minor": 0
      },
      "text/plain": [
       "  0%|          | 0/477 [00:00<?, ?it/s]"
      ]
     },
     "metadata": {},
     "output_type": "display_data"
    },
    {
     "name": "stdout",
     "output_type": "stream",
     "text": [
      "[238/477] Loss0.01567,ACC:0.98539\n",
      "[476/477] Loss0.02015,ACC:0.98618\n",
      "Train Epoch:[90] Loss:0.01328,Acc:0.98621,Best_train:0.99476\n",
      "\u001b[35mNCT_CRC ==> val ...\u001b[0m\n"
     ]
    },
    {
     "data": {
      "application/vnd.jupyter.widget-view+json": {
       "model_id": "560758df838141318a583e1c3d17c33a",
       "version_major": 2,
       "version_minor": 0
      },
      "text/plain": [
       "  0%|          | 0/310 [00:00<?, ?it/s]"
      ]
     },
     "metadata": {},
     "output_type": "display_data"
    },
    {
     "name": "stdout",
     "output_type": "stream",
     "text": [
      "val_Acc:\u001b[1;32m81.328%\u001b[0m\n",
      "Best_val:\u001b[1;32m[99.838%]\u001b[0m\n",
      "\u001b[1;32m[Train Epoch:[91]NCT_CRC ==> Training]\u001b[0m ...\n"
     ]
    },
    {
     "data": {
      "application/vnd.jupyter.widget-view+json": {
       "model_id": "7e72eb3032b54d3d9ce54dc1d0b42e77",
       "version_major": 2,
       "version_minor": 0
      },
      "text/plain": [
       "  0%|          | 0/477 [00:00<?, ?it/s]"
      ]
     },
     "metadata": {},
     "output_type": "display_data"
    },
    {
     "name": "stdout",
     "output_type": "stream",
     "text": [
      "[238/477] Loss0.00941,ACC:0.98875\n",
      "[476/477] Loss0.01082,ACC:0.98832\n",
      "Train Epoch:[91] Loss:0.01174,Acc:0.98829,Best_train:0.99476\n",
      "\u001b[35mNCT_CRC ==> val ...\u001b[0m\n"
     ]
    },
    {
     "data": {
      "application/vnd.jupyter.widget-view+json": {
       "model_id": "16fe65e440324d989dcfb67993cb36bb",
       "version_major": 2,
       "version_minor": 0
      },
      "text/plain": [
       "  0%|          | 0/310 [00:00<?, ?it/s]"
      ]
     },
     "metadata": {},
     "output_type": "display_data"
    },
    {
     "name": "stdout",
     "output_type": "stream",
     "text": [
      "val_Acc:\u001b[1;32m99.535%\u001b[0m\n",
      "Best_val:\u001b[1;32m[99.838%]\u001b[0m\n",
      "\u001b[1;32m[Train Epoch:[92]NCT_CRC ==> Training]\u001b[0m ...\n"
     ]
    },
    {
     "data": {
      "application/vnd.jupyter.widget-view+json": {
       "model_id": "ffee08a9faac4913b61c7369d6f7b2f6",
       "version_major": 2,
       "version_minor": 0
      },
      "text/plain": [
       "  0%|          | 0/477 [00:00<?, ?it/s]"
      ]
     },
     "metadata": {},
     "output_type": "display_data"
    },
    {
     "name": "stdout",
     "output_type": "stream",
     "text": [
      "[238/477] Loss0.00706,ACC:0.98860\n",
      "[476/477] Loss0.00766,ACC:0.98898\n",
      "Train Epoch:[92] Loss:0.01169,Acc:0.98899,Best_train:0.99476\n",
      "\u001b[35mNCT_CRC ==> val ...\u001b[0m\n"
     ]
    },
    {
     "data": {
      "application/vnd.jupyter.widget-view+json": {
       "model_id": "e6b7cb5309c84d2989cab3b90cfdcba1",
       "version_major": 2,
       "version_minor": 0
      },
      "text/plain": [
       "  0%|          | 0/310 [00:00<?, ?it/s]"
      ]
     },
     "metadata": {},
     "output_type": "display_data"
    },
    {
     "name": "stdout",
     "output_type": "stream",
     "text": [
      "val_Acc:\u001b[1;32m90.906%\u001b[0m\n",
      "Best_val:\u001b[1;32m[99.838%]\u001b[0m\n",
      "\u001b[1;32m[Train Epoch:[93]NCT_CRC ==> Training]\u001b[0m ...\n"
     ]
    },
    {
     "data": {
      "application/vnd.jupyter.widget-view+json": {
       "model_id": "406ecb12e49040629f2a1939f825023d",
       "version_major": 2,
       "version_minor": 0
      },
      "text/plain": [
       "  0%|          | 0/477 [00:00<?, ?it/s]"
      ]
     },
     "metadata": {},
     "output_type": "display_data"
    },
    {
     "name": "stdout",
     "output_type": "stream",
     "text": [
      "[238/477] Loss0.00431,ACC:0.99230\n",
      "[476/477] Loss0.00605,ACC:0.99200\n",
      "Train Epoch:[93] Loss:0.00892,Acc:0.99201,Best_train:0.99476\n",
      "\u001b[35mNCT_CRC ==> val ...\u001b[0m\n"
     ]
    },
    {
     "data": {
      "application/vnd.jupyter.widget-view+json": {
       "model_id": "423c65649d9e4032856ea3277cbefbb2",
       "version_major": 2,
       "version_minor": 0
      },
      "text/plain": [
       "  0%|          | 0/310 [00:00<?, ?it/s]"
      ]
     },
     "metadata": {},
     "output_type": "display_data"
    },
    {
     "name": "stdout",
     "output_type": "stream",
     "text": [
      "val_Acc:\u001b[1;32m87.996%\u001b[0m\n",
      "Best_val:\u001b[1;32m[99.838%]\u001b[0m\n",
      "\u001b[1;32m[Train Epoch:[94]NCT_CRC ==> Training]\u001b[0m ...\n"
     ]
    },
    {
     "data": {
      "application/vnd.jupyter.widget-view+json": {
       "model_id": "8587bdbd42184090904e751cfe27f22f",
       "version_major": 2,
       "version_minor": 0
      },
      "text/plain": [
       "  0%|          | 0/477 [00:00<?, ?it/s]"
      ]
     },
     "metadata": {},
     "output_type": "display_data"
    },
    {
     "name": "stdout",
     "output_type": "stream",
     "text": [
      "[238/477] Loss0.00650,ACC:0.99412\n",
      "[476/477] Loss0.00690,ACC:0.99415\n",
      "Train Epoch:[94] Loss:0.00704,Acc:0.99416,Best_train:0.99476\n",
      "\u001b[35mNCT_CRC ==> val ...\u001b[0m\n"
     ]
    },
    {
     "data": {
      "application/vnd.jupyter.widget-view+json": {
       "model_id": "b017c70408354c89a4b23efd575d0aef",
       "version_major": 2,
       "version_minor": 0
      },
      "text/plain": [
       "  0%|          | 0/310 [00:00<?, ?it/s]"
      ]
     },
     "metadata": {},
     "output_type": "display_data"
    },
    {
     "name": "stdout",
     "output_type": "stream",
     "text": [
      "val_Acc:\u001b[1;32m99.677%\u001b[0m\n",
      "Best_val:\u001b[1;32m[99.838%]\u001b[0m\n",
      "\u001b[1;32m[Train Epoch:[95]NCT_CRC ==> Training]\u001b[0m ...\n"
     ]
    },
    {
     "data": {
      "application/vnd.jupyter.widget-view+json": {
       "model_id": "26c4e74ad32143e7ac1cf72c01bf7a69",
       "version_major": 2,
       "version_minor": 0
      },
      "text/plain": [
       "  0%|          | 0/477 [00:00<?, ?it/s]"
      ]
     },
     "metadata": {},
     "output_type": "display_data"
    },
    {
     "name": "stdout",
     "output_type": "stream",
     "text": [
      "[238/477] Loss0.00471,ACC:0.99500\n",
      "[476/477] Loss0.00320,ACC:0.99537\n",
      "Train Epoch:[95] Loss:0.00587,Acc:0.99538,Best_train:0.99538\n",
      "\u001b[35mNCT_CRC ==> val ...\u001b[0m\n"
     ]
    },
    {
     "data": {
      "application/vnd.jupyter.widget-view+json": {
       "model_id": "ff25f664823940b4bc34b15dc2962e35",
       "version_major": 2,
       "version_minor": 0
      },
      "text/plain": [
       "  0%|          | 0/310 [00:00<?, ?it/s]"
      ]
     },
     "metadata": {},
     "output_type": "display_data"
    },
    {
     "name": "stdout",
     "output_type": "stream",
     "text": [
      "val_Acc:\u001b[1;32m99.545%\u001b[0m\n",
      "Best_val:\u001b[1;32m[99.838%]\u001b[0m\n",
      "\u001b[1;32m[Train Epoch:[96]NCT_CRC ==> Training]\u001b[0m ...\n"
     ]
    },
    {
     "data": {
      "application/vnd.jupyter.widget-view+json": {
       "model_id": "2dccf6157bbb49238459c4927689f905",
       "version_major": 2,
       "version_minor": 0
      },
      "text/plain": [
       "  0%|          | 0/477 [00:00<?, ?it/s]"
      ]
     },
     "metadata": {},
     "output_type": "display_data"
    },
    {
     "name": "stdout",
     "output_type": "stream",
     "text": [
      "[238/477] Loss0.00686,ACC:0.99582\n",
      "[476/477] Loss0.00449,ACC:0.99596\n",
      "Train Epoch:[96] Loss:0.00562,Acc:0.99596,Best_train:0.99596\n",
      "\u001b[35mNCT_CRC ==> val ...\u001b[0m\n"
     ]
    },
    {
     "data": {
      "application/vnd.jupyter.widget-view+json": {
       "model_id": "a6e7d0e41ef9489dabedce63ed58b6ef",
       "version_major": 2,
       "version_minor": 0
      },
      "text/plain": [
       "  0%|          | 0/310 [00:00<?, ?it/s]"
      ]
     },
     "metadata": {},
     "output_type": "display_data"
    },
    {
     "name": "stdout",
     "output_type": "stream",
     "text": [
      "val_Acc:\u001b[1;32m99.535%\u001b[0m\n",
      "Best_val:\u001b[1;32m[99.838%]\u001b[0m\n",
      "\u001b[1;32m[Train Epoch:[97]NCT_CRC ==> Training]\u001b[0m ...\n"
     ]
    },
    {
     "data": {
      "application/vnd.jupyter.widget-view+json": {
       "model_id": "5b9a61ac9daa4126b3fb95c6154dbb41",
       "version_major": 2,
       "version_minor": 0
      },
      "text/plain": [
       "  0%|          | 0/477 [00:00<?, ?it/s]"
      ]
     },
     "metadata": {},
     "output_type": "display_data"
    },
    {
     "name": "stdout",
     "output_type": "stream",
     "text": [
      "[238/477] Loss0.00674,ACC:0.99547\n",
      "[476/477] Loss0.00857,ACC:0.99549\n",
      "Train Epoch:[97] Loss:0.00571,Acc:0.99548,Best_train:0.99596\n",
      "\u001b[35mNCT_CRC ==> val ...\u001b[0m\n"
     ]
    },
    {
     "data": {
      "application/vnd.jupyter.widget-view+json": {
       "model_id": "7d4a7f33d21942e1b6e04463c0f79627",
       "version_major": 2,
       "version_minor": 0
      },
      "text/plain": [
       "  0%|          | 0/310 [00:00<?, ?it/s]"
      ]
     },
     "metadata": {},
     "output_type": "display_data"
    },
    {
     "name": "stdout",
     "output_type": "stream",
     "text": [
      "val_Acc:\u001b[1;32m99.576%\u001b[0m\n",
      "Best_val:\u001b[1;32m[99.838%]\u001b[0m\n",
      "\u001b[1;32m[Train Epoch:[98]NCT_CRC ==> Training]\u001b[0m ...\n"
     ]
    },
    {
     "data": {
      "application/vnd.jupyter.widget-view+json": {
       "model_id": "d4017119948f4e2e8a50d437f3ae293c",
       "version_major": 2,
       "version_minor": 0
      },
      "text/plain": [
       "  0%|          | 0/477 [00:00<?, ?it/s]"
      ]
     },
     "metadata": {},
     "output_type": "display_data"
    },
    {
     "name": "stdout",
     "output_type": "stream",
     "text": [
      "[238/477] Loss0.01280,ACC:0.99495\n",
      "[476/477] Loss0.00463,ACC:0.99449\n",
      "Train Epoch:[98] Loss:0.00689,Acc:0.99449,Best_train:0.99596\n",
      "\u001b[35mNCT_CRC ==> val ...\u001b[0m\n"
     ]
    },
    {
     "data": {
      "application/vnd.jupyter.widget-view+json": {
       "model_id": "c6cef088d90a43c7b2dc58338f86e442",
       "version_major": 2,
       "version_minor": 0
      },
      "text/plain": [
       "  0%|          | 0/310 [00:00<?, ?it/s]"
      ]
     },
     "metadata": {},
     "output_type": "display_data"
    },
    {
     "name": "stdout",
     "output_type": "stream",
     "text": [
      "val_Acc:\u001b[1;32m99.525%\u001b[0m\n",
      "Best_val:\u001b[1;32m[99.838%]\u001b[0m\n",
      "\u001b[1;32m[Train Epoch:[99]NCT_CRC ==> Training]\u001b[0m ...\n"
     ]
    },
    {
     "data": {
      "application/vnd.jupyter.widget-view+json": {
       "model_id": "eb088754123d47a98a4e23eb9e357eb3",
       "version_major": 2,
       "version_minor": 0
      },
      "text/plain": [
       "  0%|          | 0/477 [00:00<?, ?it/s]"
      ]
     },
     "metadata": {},
     "output_type": "display_data"
    },
    {
     "name": "stdout",
     "output_type": "stream",
     "text": [
      "[238/477] Loss0.00855,ACC:0.99052\n",
      "[476/477] Loss0.01220,ACC:0.99151\n",
      "Train Epoch:[99] Loss:0.00966,Acc:0.99147,Best_train:0.99596\n",
      "\u001b[35mNCT_CRC ==> val ...\u001b[0m\n"
     ]
    },
    {
     "data": {
      "application/vnd.jupyter.widget-view+json": {
       "model_id": "36476b57d1284d3eb7403bd8bd0a51ff",
       "version_major": 2,
       "version_minor": 0
      },
      "text/plain": [
       "  0%|          | 0/310 [00:00<?, ?it/s]"
      ]
     },
     "metadata": {},
     "output_type": "display_data"
    },
    {
     "name": "stdout",
     "output_type": "stream",
     "text": [
      "val_Acc:\u001b[1;32m99.596%\u001b[0m\n",
      "Best_val:\u001b[1;32m[99.838%]\u001b[0m\n",
      "\u001b[1;32m[Train Epoch:[100]NCT_CRC ==> Training]\u001b[0m ...\n"
     ]
    },
    {
     "data": {
      "application/vnd.jupyter.widget-view+json": {
       "model_id": "40511619e3094a85b817b148eafba9cc",
       "version_major": 2,
       "version_minor": 0
      },
      "text/plain": [
       "  0%|          | 0/477 [00:00<?, ?it/s]"
      ]
     },
     "metadata": {},
     "output_type": "display_data"
    },
    {
     "name": "stdout",
     "output_type": "stream",
     "text": [
      "[238/477] Loss0.00528,ACC:0.98857\n",
      "[476/477] Loss0.02558,ACC:0.98822\n",
      "Train Epoch:[100] Loss:0.01215,Acc:0.98818,Best_train:0.99596\n",
      "\u001b[35mNCT_CRC ==> val ...\u001b[0m\n"
     ]
    },
    {
     "data": {
      "application/vnd.jupyter.widget-view+json": {
       "model_id": "ae5c386f65d74dd194dfeb0b0ec69616",
       "version_major": 2,
       "version_minor": 0
      },
      "text/plain": [
       "  0%|          | 0/310 [00:00<?, ?it/s]"
      ]
     },
     "metadata": {},
     "output_type": "display_data"
    },
    {
     "name": "stdout",
     "output_type": "stream",
     "text": [
      "val_Acc:\u001b[1;32m97.504%\u001b[0m\n",
      "Best_val:\u001b[1;32m[99.838%]\u001b[0m\n",
      "\u001b[1;32m[Train Epoch:[101]NCT_CRC ==> Training]\u001b[0m ...\n"
     ]
    },
    {
     "data": {
      "application/vnd.jupyter.widget-view+json": {
       "model_id": "51bb62c613cf4a02b368921baa9e9c2d",
       "version_major": 2,
       "version_minor": 0
      },
      "text/plain": [
       "  0%|          | 0/477 [00:00<?, ?it/s]"
      ]
     },
     "metadata": {},
     "output_type": "display_data"
    },
    {
     "name": "stdout",
     "output_type": "stream",
     "text": [
      "[238/477] Loss0.00507,ACC:0.98967\n",
      "[476/477] Loss0.02719,ACC:0.98888\n",
      "Train Epoch:[101] Loss:0.01166,Acc:0.98887,Best_train:0.99596\n",
      "\u001b[35mNCT_CRC ==> val ...\u001b[0m\n"
     ]
    },
    {
     "data": {
      "application/vnd.jupyter.widget-view+json": {
       "model_id": "81caaacfcd6047e6a814d7bcb01a0832",
       "version_major": 2,
       "version_minor": 0
      },
      "text/plain": [
       "  0%|          | 0/310 [00:00<?, ?it/s]"
      ]
     },
     "metadata": {},
     "output_type": "display_data"
    },
    {
     "name": "stdout",
     "output_type": "stream",
     "text": [
      "val_Acc:\u001b[1;32m98.707%\u001b[0m\n",
      "Best_val:\u001b[1;32m[99.838%]\u001b[0m\n",
      "\u001b[1;32m[Train Epoch:[102]NCT_CRC ==> Training]\u001b[0m ...\n"
     ]
    },
    {
     "data": {
      "application/vnd.jupyter.widget-view+json": {
       "model_id": "0cdb0c50d72b4ac1a35bf49534a1d4fa",
       "version_major": 2,
       "version_minor": 0
      },
      "text/plain": [
       "  0%|          | 0/477 [00:00<?, ?it/s]"
      ]
     },
     "metadata": {},
     "output_type": "display_data"
    },
    {
     "name": "stdout",
     "output_type": "stream",
     "text": [
      "[238/477] Loss0.01945,ACC:0.99105\n",
      "[476/477] Loss0.00746,ACC:0.99085\n",
      "Train Epoch:[102] Loss:0.01012,Acc:0.99086,Best_train:0.99596\n",
      "\u001b[35mNCT_CRC ==> val ...\u001b[0m\n"
     ]
    },
    {
     "data": {
      "application/vnd.jupyter.widget-view+json": {
       "model_id": "74100cda004e453daa92a4f387695c8b",
       "version_major": 2,
       "version_minor": 0
      },
      "text/plain": [
       "  0%|          | 0/310 [00:00<?, ?it/s]"
      ]
     },
     "metadata": {},
     "output_type": "display_data"
    },
    {
     "name": "stdout",
     "output_type": "stream",
     "text": [
      "val_Acc:\u001b[1;32m99.747%\u001b[0m\n",
      "Best_val:\u001b[1;32m[99.838%]\u001b[0m\n",
      "\u001b[1;32m[Train Epoch:[103]NCT_CRC ==> Training]\u001b[0m ...\n"
     ]
    },
    {
     "data": {
      "application/vnd.jupyter.widget-view+json": {
       "model_id": "f8ffa81ab1614bcba4bd133c7c9a4e2d",
       "version_major": 2,
       "version_minor": 0
      },
      "text/plain": [
       "  0%|          | 0/477 [00:00<?, ?it/s]"
      ]
     },
     "metadata": {},
     "output_type": "display_data"
    },
    {
     "name": "stdout",
     "output_type": "stream",
     "text": [
      "[238/477] Loss0.00407,ACC:0.99357\n",
      "[476/477] Loss0.00576,ACC:0.99367\n",
      "Train Epoch:[103] Loss:0.00775,Acc:0.99368,Best_train:0.99596\n",
      "\u001b[35mNCT_CRC ==> val ...\u001b[0m\n"
     ]
    },
    {
     "data": {
      "application/vnd.jupyter.widget-view+json": {
       "model_id": "5dbe437a41fa40b89b8f1fe674af8a8c",
       "version_major": 2,
       "version_minor": 0
      },
      "text/plain": [
       "  0%|          | 0/310 [00:00<?, ?it/s]"
      ]
     },
     "metadata": {},
     "output_type": "display_data"
    },
    {
     "name": "stdout",
     "output_type": "stream",
     "text": [
      "val_Acc:\u001b[1;32m99.646%\u001b[0m\n",
      "Best_val:\u001b[1;32m[99.838%]\u001b[0m\n",
      "\u001b[1;32m[Train Epoch:[104]NCT_CRC ==> Training]\u001b[0m ...\n"
     ]
    },
    {
     "data": {
      "application/vnd.jupyter.widget-view+json": {
       "model_id": "7c0e9ca0456943fcb6b955b84ece5ea2",
       "version_major": 2,
       "version_minor": 0
      },
      "text/plain": [
       "  0%|          | 0/477 [00:00<?, ?it/s]"
      ]
     },
     "metadata": {},
     "output_type": "display_data"
    },
    {
     "name": "stdout",
     "output_type": "stream",
     "text": [
      "[238/477] Loss0.00261,ACC:0.99565\n",
      "[476/477] Loss0.00811,ACC:0.99539\n",
      "Train Epoch:[104] Loss:0.00614,Acc:0.99539,Best_train:0.99596\n",
      "\u001b[35mNCT_CRC ==> val ...\u001b[0m\n"
     ]
    },
    {
     "data": {
      "application/vnd.jupyter.widget-view+json": {
       "model_id": "51fb8f5a18ab42c58f15b08770b3ef81",
       "version_major": 2,
       "version_minor": 0
      },
      "text/plain": [
       "  0%|          | 0/310 [00:00<?, ?it/s]"
      ]
     },
     "metadata": {},
     "output_type": "display_data"
    },
    {
     "name": "stdout",
     "output_type": "stream",
     "text": [
      "val_Acc:\u001b[1;32m99.636%\u001b[0m\n",
      "Best_val:\u001b[1;32m[99.838%]\u001b[0m\n",
      "\u001b[1;32m[Train Epoch:[105]NCT_CRC ==> Training]\u001b[0m ...\n"
     ]
    },
    {
     "data": {
      "application/vnd.jupyter.widget-view+json": {
       "model_id": "f8b47966c095436fb039cbbfd8eee902",
       "version_major": 2,
       "version_minor": 0
      },
      "text/plain": [
       "  0%|          | 0/477 [00:00<?, ?it/s]"
      ]
     },
     "metadata": {},
     "output_type": "display_data"
    },
    {
     "name": "stdout",
     "output_type": "stream",
     "text": [
      "[238/477] Loss0.00900,ACC:0.99645\n",
      "[476/477] Loss0.00232,ACC:0.99646\n",
      "Train Epoch:[105] Loss:0.00508,Acc:0.99647,Best_train:0.99647\n",
      "\u001b[35mNCT_CRC ==> val ...\u001b[0m\n"
     ]
    },
    {
     "data": {
      "application/vnd.jupyter.widget-view+json": {
       "model_id": "7a5d389c35eb4470971732f0f1ec12e0",
       "version_major": 2,
       "version_minor": 0
      },
      "text/plain": [
       "  0%|          | 0/310 [00:00<?, ?it/s]"
      ]
     },
     "metadata": {},
     "output_type": "display_data"
    },
    {
     "name": "stdout",
     "output_type": "stream",
     "text": [
      "val_Acc:\u001b[1;32m99.677%\u001b[0m\n",
      "Best_val:\u001b[1;32m[99.838%]\u001b[0m\n",
      "\u001b[1;32m[Train Epoch:[106]NCT_CRC ==> Training]\u001b[0m ...\n"
     ]
    },
    {
     "data": {
      "application/vnd.jupyter.widget-view+json": {
       "model_id": "0309a1c096d8409ca3deed060f538444",
       "version_major": 2,
       "version_minor": 0
      },
      "text/plain": [
       "  0%|          | 0/477 [00:00<?, ?it/s]"
      ]
     },
     "metadata": {},
     "output_type": "display_data"
    },
    {
     "name": "stdout",
     "output_type": "stream",
     "text": [
      "[238/477] Loss0.00316,ACC:0.99677\n",
      "[476/477] Loss0.01577,ACC:0.99669\n",
      "Train Epoch:[106] Loss:0.00484,Acc:0.99669,Best_train:0.99669\n",
      "\u001b[35mNCT_CRC ==> val ...\u001b[0m\n"
     ]
    },
    {
     "data": {
      "application/vnd.jupyter.widget-view+json": {
       "model_id": "54ea1358ad1f4019ba8351ac476c4054",
       "version_major": 2,
       "version_minor": 0
      },
      "text/plain": [
       "  0%|          | 0/310 [00:00<?, ?it/s]"
      ]
     },
     "metadata": {},
     "output_type": "display_data"
    },
    {
     "name": "stdout",
     "output_type": "stream",
     "text": [
      "val_Acc:\u001b[1;32m99.656%\u001b[0m\n",
      "Best_val:\u001b[1;32m[99.838%]\u001b[0m\n",
      "\u001b[1;32m[Train Epoch:[107]NCT_CRC ==> Training]\u001b[0m ...\n"
     ]
    },
    {
     "data": {
      "application/vnd.jupyter.widget-view+json": {
       "model_id": "641b0b7df77044b0bac3b497f19375aa",
       "version_major": 2,
       "version_minor": 0
      },
      "text/plain": [
       "  0%|          | 0/477 [00:00<?, ?it/s]"
      ]
     },
     "metadata": {},
     "output_type": "display_data"
    },
    {
     "name": "stdout",
     "output_type": "stream",
     "text": [
      "[238/477] Loss0.00466,ACC:0.99677\n",
      "[476/477] Loss0.00415,ACC:0.99649\n",
      "Train Epoch:[107] Loss:0.00484,Acc:0.99648,Best_train:0.99669\n",
      "\u001b[35mNCT_CRC ==> val ...\u001b[0m\n"
     ]
    },
    {
     "data": {
      "application/vnd.jupyter.widget-view+json": {
       "model_id": "3fec1368477540ba8d6721f2a21a871c",
       "version_major": 2,
       "version_minor": 0
      },
      "text/plain": [
       "  0%|          | 0/310 [00:00<?, ?it/s]"
      ]
     },
     "metadata": {},
     "output_type": "display_data"
    },
    {
     "name": "stdout",
     "output_type": "stream",
     "text": [
      "val_Acc:\u001b[1;32m99.687%\u001b[0m\n",
      "Best_val:\u001b[1;32m[99.838%]\u001b[0m\n",
      "\u001b[1;32m[Train Epoch:[108]NCT_CRC ==> Training]\u001b[0m ...\n"
     ]
    },
    {
     "data": {
      "application/vnd.jupyter.widget-view+json": {
       "model_id": "123f71de80c74ef782eb2584fe28e5b1",
       "version_major": 2,
       "version_minor": 0
      },
      "text/plain": [
       "  0%|          | 0/477 [00:00<?, ?it/s]"
      ]
     },
     "metadata": {},
     "output_type": "display_data"
    },
    {
     "name": "stdout",
     "output_type": "stream",
     "text": [
      "[238/477] Loss0.00858,ACC:0.99562\n",
      "[476/477] Loss0.00865,ACC:0.99539\n",
      "Train Epoch:[108] Loss:0.00623,Acc:0.99539,Best_train:0.99669\n",
      "\u001b[35mNCT_CRC ==> val ...\u001b[0m\n"
     ]
    },
    {
     "data": {
      "application/vnd.jupyter.widget-view+json": {
       "model_id": "b4085179555448bfb2875d02adb5a3b4",
       "version_major": 2,
       "version_minor": 0
      },
      "text/plain": [
       "  0%|          | 0/310 [00:00<?, ?it/s]"
      ]
     },
     "metadata": {},
     "output_type": "display_data"
    },
    {
     "name": "stdout",
     "output_type": "stream",
     "text": [
      "val_Acc:\u001b[1;32m99.747%\u001b[0m\n",
      "Best_val:\u001b[1;32m[99.838%]\u001b[0m\n",
      "Finished Training\n"
     ]
    }
   ],
   "source": [
    "# network.load_state_dict(torch.load(last_path))\n",
    "for epoch in range(1, num_epochs + 1): \n",
    "    train(epoch)\n",
    "    test('val')\n",
    "    \n",
    "print('Finished Training')"
   ]
  },
  {
   "cell_type": "code",
   "execution_count": 17,
   "metadata": {
    "execution": {
     "iopub.execute_input": "2023-01-14T08:01:19.281791Z",
     "iopub.status.busy": "2023-01-14T08:01:19.281622Z",
     "iopub.status.idle": "2023-01-14T08:01:19.292972Z",
     "shell.execute_reply": "2023-01-14T08:01:19.292724Z",
     "shell.execute_reply.started": "2023-01-14T08:01:19.281772Z"
    },
    "tags": []
   },
   "outputs": [
    {
     "name": "stdout",
     "output_type": "stream",
     "text": [
      "\u001b[31m=================Conclusion====================\u001b[0m\n",
      "Dataset:[\u001b[1;31mNCT_CRC\u001b[0m]\n",
      "Best_Epoch [\u001b[1;31m27\u001b[0m]\n",
      "[Val] \u001b[31mACC:99.84%\u001b[0m.\n"
     ]
    }
   ],
   "source": [
    "show.conclusion(opt='val',img_title=img_title)"
   ]
  },
  {
   "cell_type": "code",
   "execution_count": 18,
   "metadata": {
    "execution": {
     "iopub.execute_input": "2023-01-14T08:01:19.293721Z",
     "iopub.status.busy": "2023-01-14T08:01:19.293438Z",
     "iopub.status.idle": "2023-01-14T08:01:19.699881Z",
     "shell.execute_reply": "2023-01-14T08:01:19.699457Z",
     "shell.execute_reply.started": "2023-01-14T08:01:19.293703Z"
    },
    "tags": []
   },
   "outputs": [
    {
     "data": {
      "image/png": "[encoded data removed]",
      "text/plain": [
       "<Figure size 576x396 with 1 Axes>"
      ]
     },
     "metadata": {},
     "output_type": "display_data"
    }
   ],
   "source": [
    "show.val(write=True,custom_path='./tmp',img_title=img_title,suf=suf)"
   ]
  },
  {
   "cell_type": "code",
   "execution_count": 19,
   "metadata": {
    "execution": {
     "iopub.execute_input": "2023-01-14T08:01:19.700579Z",
     "iopub.status.busy": "2023-01-14T08:01:19.700441Z",
     "iopub.status.idle": "2023-01-14T08:01:20.037587Z",
     "shell.execute_reply": "2023-01-14T08:01:20.037165Z",
     "shell.execute_reply.started": "2023-01-14T08:01:19.700561Z"
    },
    "tags": []
   },
   "outputs": [
    {
     "data": {
      "image/png": "[encoded data removed]",
      "text/plain": [
       "<Figure size 576x396 with 1 Axes>"
      ]
     },
     "metadata": {},
     "output_type": "display_data"
    }
   ],
   "source": [
    "show.train(opt='Acc',write=True,custom_path='./tmp',img_title=img_title,suf=suf)"
   ]
  },
  {
   "cell_type": "code",
   "execution_count": 20,
   "metadata": {
    "execution": {
     "iopub.execute_input": "2023-01-14T08:01:20.038310Z",
     "iopub.status.busy": "2023-01-14T08:01:20.038152Z",
     "iopub.status.idle": "2023-01-14T08:01:20.383379Z",
     "shell.execute_reply": "2023-01-14T08:01:20.382935Z",
     "shell.execute_reply.started": "2023-01-14T08:01:20.038292Z"
    },
    "tags": []
   },
   "outputs": [
    {
     "data": {
      "image/png": "[encoded data removed]",
      "text/plain": [
       "<Figure size 576x396 with 1 Axes>"
      ]
     },
     "metadata": {},
     "output_type": "display_data"
    }
   ],
   "source": [
    "plt.clf()#clear photo\n",
    "show.train(write=True,custom_path='./tmp',img_title=img_title,suf=suf)"
   ]
  },
  {
   "cell_type": "code",
   "execution_count": 21,
   "metadata": {
    "execution": {
     "iopub.execute_input": "2023-01-14T08:01:20.384218Z",
     "iopub.status.busy": "2023-01-14T08:01:20.383951Z",
     "iopub.status.idle": "2023-01-14T08:12:09.499830Z",
     "shell.execute_reply": "2023-01-14T08:12:09.499502Z",
     "shell.execute_reply.started": "2023-01-14T08:01:20.384199Z"
    },
    "scrolled": true,
    "tags": []
   },
   "outputs": [
    {
     "name": "stdout",
     "output_type": "stream",
     "text": [
      "T_size:8\n",
      "using 80108 images for training, 9897 images for validation, 9995 images for testing.\n",
      "\u001b[35mNCT_CRC ==> test ...\u001b[0m\n"
     ]
    },
    {
     "data": {
      "application/vnd.jupyter.widget-view+json": {
       "model_id": "780299bf15584cad9561403de8f911ab",
       "version_major": 2,
       "version_minor": 0
      },
      "text/plain": [
       "  0%|          | 0/1250 [00:00<?, ?it/s]"
      ]
     },
     "metadata": {},
     "output_type": "display_data"
    },
    {
     "name": "stdout",
     "output_type": "stream",
     "text": [
      "test_Acc:\u001b[1;32m99.86%\u001b[0m\n",
      "Best_eval:\u001b[1;32m[99.86%]\u001b[0m\n",
      "T_size:9\n",
      "using 80108 images for training, 9897 images for validation, 9995 images for testing.\n",
      "\u001b[35mNCT_CRC ==> test ...\u001b[0m\n"
     ]
    },
    {
     "data": {
      "application/vnd.jupyter.widget-view+json": {
       "model_id": "1dd9b04056064530a74877eb2e5567b5",
       "version_major": 2,
       "version_minor": 0
      },
      "text/plain": [
       "  0%|          | 0/1111 [00:00<?, ?it/s]"
      ]
     },
     "metadata": {},
     "output_type": "display_data"
    },
    {
     "name": "stdout",
     "output_type": "stream",
     "text": [
      "test_Acc:\u001b[1;32m99.85%\u001b[0m\n",
      "Best_eval:\u001b[1;32m[99.86%]\u001b[0m\n",
      "T_size:10\n",
      "using 80108 images for training, 9897 images for validation, 9995 images for testing.\n",
      "\u001b[35mNCT_CRC ==> test ...\u001b[0m\n"
     ]
    },
    {
     "data": {
      "application/vnd.jupyter.widget-view+json": {
       "model_id": "edb2b7922cbf49d1b24945468478b2f5",
       "version_major": 2,
       "version_minor": 0
      },
      "text/plain": [
       "  0%|          | 0/1000 [00:00<?, ?it/s]"
      ]
     },
     "metadata": {},
     "output_type": "display_data"
    },
    {
     "name": "stdout",
     "output_type": "stream",
     "text": [
      "test_Acc:\u001b[1;32m99.91%\u001b[0m\n",
      "Best_eval:\u001b[1;32m[99.91%]\u001b[0m\n",
      "T_size:11\n",
      "using 80108 images for training, 9897 images for validation, 9995 images for testing.\n",
      "\u001b[35mNCT_CRC ==> test ...\u001b[0m\n"
     ]
    },
    {
     "data": {
      "application/vnd.jupyter.widget-view+json": {
       "model_id": "73478f0bc3d540c98600ddbd71e69a98",
       "version_major": 2,
       "version_minor": 0
      },
      "text/plain": [
       "  0%|          | 0/909 [00:00<?, ?it/s]"
      ]
     },
     "metadata": {},
     "output_type": "display_data"
    },
    {
     "name": "stdout",
     "output_type": "stream",
     "text": [
      "test_Acc:\u001b[1;32m99.78%\u001b[0m\n",
      "Best_eval:\u001b[1;32m[99.91%]\u001b[0m\n",
      "T_size:12\n",
      "using 80108 images for training, 9897 images for validation, 9995 images for testing.\n",
      "\u001b[35mNCT_CRC ==> test ...\u001b[0m\n"
     ]
    },
    {
     "data": {
      "application/vnd.jupyter.widget-view+json": {
       "model_id": "f86b8ea6a24342e19b5e66a5bd1b8bcd",
       "version_major": 2,
       "version_minor": 0
      },
      "text/plain": [
       "  0%|          | 0/833 [00:00<?, ?it/s]"
      ]
     },
     "metadata": {},
     "output_type": "display_data"
    },
    {
     "name": "stdout",
     "output_type": "stream",
     "text": [
      "test_Acc:\u001b[1;32m99.83%\u001b[0m\n",
      "Best_eval:\u001b[1;32m[99.91%]\u001b[0m\n",
      "T_size:13\n",
      "using 80108 images for training, 9897 images for validation, 9995 images for testing.\n",
      "\u001b[35mNCT_CRC ==> test ...\u001b[0m\n"
     ]
    },
    {
     "data": {
      "application/vnd.jupyter.widget-view+json": {
       "model_id": "44e2c3095ccd41589c1cc576213539c5",
       "version_major": 2,
       "version_minor": 0
      },
      "text/plain": [
       "  0%|          | 0/769 [00:00<?, ?it/s]"
      ]
     },
     "metadata": {},
     "output_type": "display_data"
    },
    {
     "name": "stdout",
     "output_type": "stream",
     "text": [
      "test_Acc:\u001b[1;32m99.84%\u001b[0m\n",
      "Best_eval:\u001b[1;32m[99.91%]\u001b[0m\n",
      "T_size:14\n",
      "using 80108 images for training, 9897 images for validation, 9995 images for testing.\n",
      "\u001b[35mNCT_CRC ==> test ...\u001b[0m\n"
     ]
    },
    {
     "data": {
      "application/vnd.jupyter.widget-view+json": {
       "model_id": "fa3c8debf79e4b12ba85c1fb56f1d3c4",
       "version_major": 2,
       "version_minor": 0
      },
      "text/plain": [
       "  0%|          | 0/714 [00:00<?, ?it/s]"
      ]
     },
     "metadata": {},
     "output_type": "display_data"
    },
    {
     "name": "stdout",
     "output_type": "stream",
     "text": [
      "test_Acc:\u001b[1;32m99.84%\u001b[0m\n",
      "Best_eval:\u001b[1;32m[99.91%]\u001b[0m\n",
      "T_size:15\n",
      "using 80108 images for training, 9897 images for validation, 9995 images for testing.\n",
      "\u001b[35mNCT_CRC ==> test ...\u001b[0m\n"
     ]
    },
    {
     "data": {
      "application/vnd.jupyter.widget-view+json": {
       "model_id": "986b9e0ac65a47aba4ed4662b2914f62",
       "version_major": 2,
       "version_minor": 0
      },
      "text/plain": [
       "  0%|          | 0/667 [00:00<?, ?it/s]"
      ]
     },
     "metadata": {},
     "output_type": "display_data"
    },
    {
     "name": "stdout",
     "output_type": "stream",
     "text": [
      "test_Acc:\u001b[1;32m99.89%\u001b[0m\n",
      "Best_eval:\u001b[1;32m[99.91%]\u001b[0m\n",
      "T_size:16\n",
      "using 80108 images for training, 9897 images for validation, 9995 images for testing.\n",
      "\u001b[35mNCT_CRC ==> test ...\u001b[0m\n"
     ]
    },
    {
     "data": {
      "application/vnd.jupyter.widget-view+json": {
       "model_id": "09aa21e35e534e249807b8e275d0e80a",
       "version_major": 2,
       "version_minor": 0
      },
      "text/plain": [
       "  0%|          | 0/625 [00:00<?, ?it/s]"
      ]
     },
     "metadata": {},
     "output_type": "display_data"
    },
    {
     "name": "stdout",
     "output_type": "stream",
     "text": [
      "test_Acc:\u001b[1;32m99.87%\u001b[0m\n",
      "Best_eval:\u001b[1;32m[99.91%]\u001b[0m\n",
      "T_size:17\n",
      "using 80108 images for training, 9897 images for validation, 9995 images for testing.\n",
      "\u001b[35mNCT_CRC ==> test ...\u001b[0m\n"
     ]
    },
    {
     "data": {
      "application/vnd.jupyter.widget-view+json": {
       "model_id": "1157d6b555aa4279bba73a7fc603835d",
       "version_major": 2,
       "version_minor": 0
      },
      "text/plain": [
       "  0%|          | 0/588 [00:00<?, ?it/s]"
      ]
     },
     "metadata": {},
     "output_type": "display_data"
    },
    {
     "name": "stdout",
     "output_type": "stream",
     "text": [
      "test_Acc:\u001b[1;32m99.8%\u001b[0m\n",
      "Best_eval:\u001b[1;32m[99.91%]\u001b[0m\n",
      "T_size:18\n",
      "using 80108 images for training, 9897 images for validation, 9995 images for testing.\n",
      "\u001b[35mNCT_CRC ==> test ...\u001b[0m\n"
     ]
    },
    {
     "data": {
      "application/vnd.jupyter.widget-view+json": {
       "model_id": "abdff8fa135f4ba6bc33999953dbc6b9",
       "version_major": 2,
       "version_minor": 0
      },
      "text/plain": [
       "  0%|          | 0/556 [00:00<?, ?it/s]"
      ]
     },
     "metadata": {},
     "output_type": "display_data"
    },
    {
     "name": "stdout",
     "output_type": "stream",
     "text": [
      "test_Acc:\u001b[1;32m99.85%\u001b[0m\n",
      "Best_eval:\u001b[1;32m[99.91%]\u001b[0m\n",
      "T_size:19\n",
      "using 80108 images for training, 9897 images for validation, 9995 images for testing.\n",
      "\u001b[35mNCT_CRC ==> test ...\u001b[0m\n"
     ]
    },
    {
     "data": {
      "application/vnd.jupyter.widget-view+json": {
       "model_id": "6a7b577ddc5749fda76c2556ee2ac675",
       "version_major": 2,
       "version_minor": 0
      },
      "text/plain": [
       "  0%|          | 0/527 [00:00<?, ?it/s]"
      ]
     },
     "metadata": {},
     "output_type": "display_data"
    },
    {
     "name": "stdout",
     "output_type": "stream",
     "text": [
      "test_Acc:\u001b[1;32m99.77%\u001b[0m\n",
      "Best_eval:\u001b[1;32m[99.91%]\u001b[0m\n",
      "T_size:20\n",
      "using 80108 images for training, 9897 images for validation, 9995 images for testing.\n",
      "\u001b[35mNCT_CRC ==> test ...\u001b[0m\n"
     ]
    },
    {
     "data": {
      "application/vnd.jupyter.widget-view+json": {
       "model_id": "8154a8acd0de4eee9d1f1365baca2944",
       "version_major": 2,
       "version_minor": 0
      },
      "text/plain": [
       "  0%|          | 0/500 [00:00<?, ?it/s]"
      ]
     },
     "metadata": {},
     "output_type": "display_data"
    },
    {
     "name": "stdout",
     "output_type": "stream",
     "text": [
      "test_Acc:\u001b[1;32m99.9%\u001b[0m\n",
      "Best_eval:\u001b[1;32m[99.91%]\u001b[0m\n",
      "T_size:21\n",
      "using 80108 images for training, 9897 images for validation, 9995 images for testing.\n",
      "\u001b[35mNCT_CRC ==> test ...\u001b[0m\n"
     ]
    },
    {
     "data": {
      "application/vnd.jupyter.widget-view+json": {
       "model_id": "2440e9adbfa24e7ea0989d46cd3b0f89",
       "version_major": 2,
       "version_minor": 0
      },
      "text/plain": [
       "  0%|          | 0/476 [00:00<?, ?it/s]"
      ]
     },
     "metadata": {},
     "output_type": "display_data"
    },
    {
     "name": "stdout",
     "output_type": "stream",
     "text": [
      "test_Acc:\u001b[1;32m99.89%\u001b[0m\n",
      "Best_eval:\u001b[1;32m[99.91%]\u001b[0m\n",
      "T_size:22\n",
      "using 80108 images for training, 9897 images for validation, 9995 images for testing.\n",
      "\u001b[35mNCT_CRC ==> test ...\u001b[0m\n"
     ]
    },
    {
     "data": {
      "application/vnd.jupyter.widget-view+json": {
       "model_id": "719875f991ad464f9b6fcd085786c36a",
       "version_major": 2,
       "version_minor": 0
      },
      "text/plain": [
       "  0%|          | 0/455 [00:00<?, ?it/s]"
      ]
     },
     "metadata": {},
     "output_type": "display_data"
    },
    {
     "name": "stdout",
     "output_type": "stream",
     "text": [
      "test_Acc:\u001b[1;32m99.82%\u001b[0m\n",
      "Best_eval:\u001b[1;32m[99.91%]\u001b[0m\n",
      "T_size:23\n",
      "using 80108 images for training, 9897 images for validation, 9995 images for testing.\n",
      "\u001b[35mNCT_CRC ==> test ...\u001b[0m\n"
     ]
    },
    {
     "data": {
      "application/vnd.jupyter.widget-view+json": {
       "model_id": "8836d5eef30b418ea696e5c1223fcb19",
       "version_major": 2,
       "version_minor": 0
      },
      "text/plain": [
       "  0%|          | 0/435 [00:00<?, ?it/s]"
      ]
     },
     "metadata": {},
     "output_type": "display_data"
    },
    {
     "name": "stdout",
     "output_type": "stream",
     "text": [
      "test_Acc:\u001b[1;32m99.87%\u001b[0m\n",
      "Best_eval:\u001b[1;32m[99.91%]\u001b[0m\n",
      "T_size:24\n",
      "using 80108 images for training, 9897 images for validation, 9995 images for testing.\n",
      "\u001b[35mNCT_CRC ==> test ...\u001b[0m\n"
     ]
    },
    {
     "data": {
      "application/vnd.jupyter.widget-view+json": {
       "model_id": "3346c09142cf4e66a0a506e75234589c",
       "version_major": 2,
       "version_minor": 0
      },
      "text/plain": [
       "  0%|          | 0/417 [00:00<?, ?it/s]"
      ]
     },
     "metadata": {},
     "output_type": "display_data"
    },
    {
     "name": "stdout",
     "output_type": "stream",
     "text": [
      "test_Acc:\u001b[1;32m99.77%\u001b[0m\n",
      "Best_eval:\u001b[1;32m[99.91%]\u001b[0m\n",
      "T_size:25\n",
      "using 80108 images for training, 9897 images for validation, 9995 images for testing.\n",
      "\u001b[35mNCT_CRC ==> test ...\u001b[0m\n"
     ]
    },
    {
     "data": {
      "application/vnd.jupyter.widget-view+json": {
       "model_id": "197f4916c06b482994db420d99114ced",
       "version_major": 2,
       "version_minor": 0
      },
      "text/plain": [
       "  0%|          | 0/400 [00:00<?, ?it/s]"
      ]
     },
     "metadata": {},
     "output_type": "display_data"
    },
    {
     "name": "stdout",
     "output_type": "stream",
     "text": [
      "test_Acc:\u001b[1;32m99.78%\u001b[0m\n",
      "Best_eval:\u001b[1;32m[99.91%]\u001b[0m\n",
      "T_size:26\n",
      "using 80108 images for training, 9897 images for validation, 9995 images for testing.\n",
      "\u001b[35mNCT_CRC ==> test ...\u001b[0m\n"
     ]
    },
    {
     "data": {
      "application/vnd.jupyter.widget-view+json": {
       "model_id": "35909f3deea04328b132bb0a9518c2a6",
       "version_major": 2,
       "version_minor": 0
      },
      "text/plain": [
       "  0%|          | 0/385 [00:00<?, ?it/s]"
      ]
     },
     "metadata": {},
     "output_type": "display_data"
    },
    {
     "name": "stdout",
     "output_type": "stream",
     "text": [
      "test_Acc:\u001b[1;32m99.82%\u001b[0m\n",
      "Best_eval:\u001b[1;32m[99.91%]\u001b[0m\n",
      "T_size:27\n",
      "using 80108 images for training, 9897 images for validation, 9995 images for testing.\n",
      "\u001b[35mNCT_CRC ==> test ...\u001b[0m\n"
     ]
    },
    {
     "data": {
      "application/vnd.jupyter.widget-view+json": {
       "model_id": "b78a0b023713472ab524adaa69e0c686",
       "version_major": 2,
       "version_minor": 0
      },
      "text/plain": [
       "  0%|          | 0/371 [00:00<?, ?it/s]"
      ]
     },
     "metadata": {},
     "output_type": "display_data"
    },
    {
     "name": "stdout",
     "output_type": "stream",
     "text": [
      "test_Acc:\u001b[1;32m99.8%\u001b[0m\n",
      "Best_eval:\u001b[1;32m[99.91%]\u001b[0m\n",
      "T_size:28\n",
      "using 80108 images for training, 9897 images for validation, 9995 images for testing.\n",
      "\u001b[35mNCT_CRC ==> test ...\u001b[0m\n"
     ]
    },
    {
     "data": {
      "application/vnd.jupyter.widget-view+json": {
       "model_id": "44ad637c823f4f27b262aac5302a8cba",
       "version_major": 2,
       "version_minor": 0
      },
      "text/plain": [
       "  0%|          | 0/357 [00:00<?, ?it/s]"
      ]
     },
     "metadata": {},
     "output_type": "display_data"
    },
    {
     "name": "stdout",
     "output_type": "stream",
     "text": [
      "test_Acc:\u001b[1;32m99.79%\u001b[0m\n",
      "Best_eval:\u001b[1;32m[99.91%]\u001b[0m\n",
      "T_size:29\n",
      "using 80108 images for training, 9897 images for validation, 9995 images for testing.\n",
      "\u001b[35mNCT_CRC ==> test ...\u001b[0m\n"
     ]
    },
    {
     "data": {
      "application/vnd.jupyter.widget-view+json": {
       "model_id": "c0355ba33df046b7a6de68a378dd95da",
       "version_major": 2,
       "version_minor": 0
      },
      "text/plain": [
       "  0%|          | 0/345 [00:00<?, ?it/s]"
      ]
     },
     "metadata": {},
     "output_type": "display_data"
    },
    {
     "name": "stdout",
     "output_type": "stream",
     "text": [
      "test_Acc:\u001b[1;32m99.66%\u001b[0m\n",
      "Best_eval:\u001b[1;32m[99.91%]\u001b[0m\n",
      "T_size:30\n",
      "using 80108 images for training, 9897 images for validation, 9995 images for testing.\n",
      "\u001b[35mNCT_CRC ==> test ...\u001b[0m\n"
     ]
    },
    {
     "data": {
      "application/vnd.jupyter.widget-view+json": {
       "model_id": "3b5fa06974a5409eacf4726bac9d375a",
       "version_major": 2,
       "version_minor": 0
      },
      "text/plain": [
       "  0%|          | 0/334 [00:00<?, ?it/s]"
      ]
     },
     "metadata": {},
     "output_type": "display_data"
    },
    {
     "name": "stdout",
     "output_type": "stream",
     "text": [
      "test_Acc:\u001b[1;32m99.7%\u001b[0m\n",
      "Best_eval:\u001b[1;32m[99.91%]\u001b[0m\n",
      "T_size:31\n",
      "using 80108 images for training, 9897 images for validation, 9995 images for testing.\n",
      "\u001b[35mNCT_CRC ==> test ...\u001b[0m\n"
     ]
    },
    {
     "data": {
      "application/vnd.jupyter.widget-view+json": {
       "model_id": "bfc1fc310eef43f4976e95e510953370",
       "version_major": 2,
       "version_minor": 0
      },
      "text/plain": [
       "  0%|          | 0/323 [00:00<?, ?it/s]"
      ]
     },
     "metadata": {},
     "output_type": "display_data"
    },
    {
     "name": "stdout",
     "output_type": "stream",
     "text": [
      "test_Acc:\u001b[1;32m99.76%\u001b[0m\n",
      "Best_eval:\u001b[1;32m[99.91%]\u001b[0m\n",
      "T_size:32\n",
      "using 80108 images for training, 9897 images for validation, 9995 images for testing.\n",
      "\u001b[35mNCT_CRC ==> test ...\u001b[0m\n"
     ]
    },
    {
     "data": {
      "application/vnd.jupyter.widget-view+json": {
       "model_id": "0340d33d542b40cf8781ee6069ce6978",
       "version_major": 2,
       "version_minor": 0
      },
      "text/plain": [
       "  0%|          | 0/313 [00:00<?, ?it/s]"
      ]
     },
     "metadata": {},
     "output_type": "display_data"
    },
    {
     "name": "stdout",
     "output_type": "stream",
     "text": [
      "test_Acc:\u001b[1;32m99.74%\u001b[0m\n",
      "Best_eval:\u001b[1;32m[99.91%]\u001b[0m\n",
      "T_size:33\n",
      "using 80108 images for training, 9897 images for validation, 9995 images for testing.\n",
      "\u001b[35mNCT_CRC ==> test ...\u001b[0m\n"
     ]
    },
    {
     "data": {
      "application/vnd.jupyter.widget-view+json": {
       "model_id": "9235bff0d4904d73a407cda1852c287f",
       "version_major": 2,
       "version_minor": 0
      },
      "text/plain": [
       "  0%|          | 0/303 [00:00<?, ?it/s]"
      ]
     },
     "metadata": {},
     "output_type": "display_data"
    },
    {
     "name": "stdout",
     "output_type": "stream",
     "text": [
      "test_Acc:\u001b[1;32m99.8%\u001b[0m\n",
      "Best_eval:\u001b[1;32m[99.91%]\u001b[0m\n",
      "T_size:34\n",
      "using 80108 images for training, 9897 images for validation, 9995 images for testing.\n",
      "\u001b[35mNCT_CRC ==> test ...\u001b[0m\n"
     ]
    },
    {
     "data": {
      "application/vnd.jupyter.widget-view+json": {
       "model_id": "74f1b5f5fd264dd6b1f167da15b81320",
       "version_major": 2,
       "version_minor": 0
      },
      "text/plain": [
       "  0%|          | 0/294 [00:00<?, ?it/s]"
      ]
     },
     "metadata": {},
     "output_type": "display_data"
    },
    {
     "name": "stdout",
     "output_type": "stream",
     "text": [
      "test_Acc:\u001b[1;32m99.78%\u001b[0m\n",
      "Best_eval:\u001b[1;32m[99.91%]\u001b[0m\n",
      "T_size:35\n",
      "using 80108 images for training, 9897 images for validation, 9995 images for testing.\n",
      "\u001b[35mNCT_CRC ==> test ...\u001b[0m\n"
     ]
    },
    {
     "data": {
      "application/vnd.jupyter.widget-view+json": {
       "model_id": "8e1cb7e5a3844619a6e60d847238b11a",
       "version_major": 2,
       "version_minor": 0
      },
      "text/plain": [
       "  0%|          | 0/286 [00:00<?, ?it/s]"
      ]
     },
     "metadata": {},
     "output_type": "display_data"
    },
    {
     "name": "stdout",
     "output_type": "stream",
     "text": [
      "test_Acc:\u001b[1;32m99.58%\u001b[0m\n",
      "Best_eval:\u001b[1;32m[99.91%]\u001b[0m\n",
      "T_size:36\n",
      "using 80108 images for training, 9897 images for validation, 9995 images for testing.\n",
      "\u001b[35mNCT_CRC ==> test ...\u001b[0m\n"
     ]
    },
    {
     "data": {
      "application/vnd.jupyter.widget-view+json": {
       "model_id": "3be56108e6d14df6aa6ff9901b2d8804",
       "version_major": 2,
       "version_minor": 0
      },
      "text/plain": [
       "  0%|          | 0/278 [00:00<?, ?it/s]"
      ]
     },
     "metadata": {},
     "output_type": "display_data"
    },
    {
     "name": "stdout",
     "output_type": "stream",
     "text": [
      "test_Acc:\u001b[1;32m99.66%\u001b[0m\n",
      "Best_eval:\u001b[1;32m[99.91%]\u001b[0m\n",
      "T_size:37\n",
      "using 80108 images for training, 9897 images for validation, 9995 images for testing.\n",
      "\u001b[35mNCT_CRC ==> test ...\u001b[0m\n"
     ]
    },
    {
     "data": {
      "application/vnd.jupyter.widget-view+json": {
       "model_id": "4d2a7c677c4f40d59173ee6602118e85",
       "version_major": 2,
       "version_minor": 0
      },
      "text/plain": [
       "  0%|          | 0/271 [00:00<?, ?it/s]"
      ]
     },
     "metadata": {},
     "output_type": "display_data"
    },
    {
     "name": "stdout",
     "output_type": "stream",
     "text": [
      "test_Acc:\u001b[1;32m99.84%\u001b[0m\n",
      "Best_eval:\u001b[1;32m[99.91%]\u001b[0m\n",
      "T_size:38\n",
      "using 80108 images for training, 9897 images for validation, 9995 images for testing.\n",
      "\u001b[35mNCT_CRC ==> test ...\u001b[0m\n"
     ]
    },
    {
     "data": {
      "application/vnd.jupyter.widget-view+json": {
       "model_id": "168d5dd947b14a52b611030e14a11c7f",
       "version_major": 2,
       "version_minor": 0
      },
      "text/plain": [
       "  0%|          | 0/264 [00:00<?, ?it/s]"
      ]
     },
     "metadata": {},
     "output_type": "display_data"
    },
    {
     "name": "stdout",
     "output_type": "stream",
     "text": [
      "test_Acc:\u001b[1;32m99.67%\u001b[0m\n",
      "Best_eval:\u001b[1;32m[99.91%]\u001b[0m\n",
      "T_size:39\n",
      "using 80108 images for training, 9897 images for validation, 9995 images for testing.\n",
      "\u001b[35mNCT_CRC ==> test ...\u001b[0m\n"
     ]
    },
    {
     "data": {
      "application/vnd.jupyter.widget-view+json": {
       "model_id": "576a0faa2013440ea55cd89668aa0d92",
       "version_major": 2,
       "version_minor": 0
      },
      "text/plain": [
       "  0%|          | 0/257 [00:00<?, ?it/s]"
      ]
     },
     "metadata": {},
     "output_type": "display_data"
    },
    {
     "name": "stdout",
     "output_type": "stream",
     "text": [
      "test_Acc:\u001b[1;32m99.68%\u001b[0m\n",
      "Best_eval:\u001b[1;32m[99.91%]\u001b[0m\n",
      "T_size:40\n",
      "using 80108 images for training, 9897 images for validation, 9995 images for testing.\n",
      "\u001b[35mNCT_CRC ==> test ...\u001b[0m\n"
     ]
    },
    {
     "data": {
      "application/vnd.jupyter.widget-view+json": {
       "model_id": "9fa9568246a5490c8cbae1dc34919ead",
       "version_major": 2,
       "version_minor": 0
      },
      "text/plain": [
       "  0%|          | 0/250 [00:00<?, ?it/s]"
      ]
     },
     "metadata": {},
     "output_type": "display_data"
    },
    {
     "name": "stdout",
     "output_type": "stream",
     "text": [
      "test_Acc:\u001b[1;32m99.73%\u001b[0m\n",
      "Best_eval:\u001b[1;32m[99.91%]\u001b[0m\n",
      "T_size:41\n",
      "using 80108 images for training, 9897 images for validation, 9995 images for testing.\n",
      "\u001b[35mNCT_CRC ==> test ...\u001b[0m\n"
     ]
    },
    {
     "data": {
      "application/vnd.jupyter.widget-view+json": {
       "model_id": "23b6795b9d874eeb8a0f2c5413ca5ce6",
       "version_major": 2,
       "version_minor": 0
      },
      "text/plain": [
       "  0%|          | 0/244 [00:00<?, ?it/s]"
      ]
     },
     "metadata": {},
     "output_type": "display_data"
    },
    {
     "name": "stdout",
     "output_type": "stream",
     "text": [
      "test_Acc:\u001b[1;32m99.73%\u001b[0m\n",
      "Best_eval:\u001b[1;32m[99.91%]\u001b[0m\n",
      "T_size:42\n",
      "using 80108 images for training, 9897 images for validation, 9995 images for testing.\n",
      "\u001b[35mNCT_CRC ==> test ...\u001b[0m\n"
     ]
    },
    {
     "data": {
      "application/vnd.jupyter.widget-view+json": {
       "model_id": "d763b2cc4bda4b02a470644381438ad5",
       "version_major": 2,
       "version_minor": 0
      },
      "text/plain": [
       "  0%|          | 0/238 [00:00<?, ?it/s]"
      ]
     },
     "metadata": {},
     "output_type": "display_data"
    },
    {
     "name": "stdout",
     "output_type": "stream",
     "text": [
      "test_Acc:\u001b[1;32m99.76%\u001b[0m\n",
      "Best_eval:\u001b[1;32m[99.91%]\u001b[0m\n",
      "T_size:43\n",
      "using 80108 images for training, 9897 images for validation, 9995 images for testing.\n",
      "\u001b[35mNCT_CRC ==> test ...\u001b[0m\n"
     ]
    },
    {
     "data": {
      "application/vnd.jupyter.widget-view+json": {
       "model_id": "2693dd988f53405aadc48eea0f1f9a76",
       "version_major": 2,
       "version_minor": 0
      },
      "text/plain": [
       "  0%|          | 0/233 [00:00<?, ?it/s]"
      ]
     },
     "metadata": {},
     "output_type": "display_data"
    },
    {
     "name": "stdout",
     "output_type": "stream",
     "text": [
      "test_Acc:\u001b[1;32m99.8%\u001b[0m\n",
      "Best_eval:\u001b[1;32m[99.91%]\u001b[0m\n",
      "T_size:44\n",
      "using 80108 images for training, 9897 images for validation, 9995 images for testing.\n",
      "\u001b[35mNCT_CRC ==> test ...\u001b[0m\n"
     ]
    },
    {
     "data": {
      "application/vnd.jupyter.widget-view+json": {
       "model_id": "0827a34025c04164a3e12cc711f29380",
       "version_major": 2,
       "version_minor": 0
      },
      "text/plain": [
       "  0%|          | 0/228 [00:00<?, ?it/s]"
      ]
     },
     "metadata": {},
     "output_type": "display_data"
    },
    {
     "name": "stdout",
     "output_type": "stream",
     "text": [
      "test_Acc:\u001b[1;32m99.68%\u001b[0m\n",
      "Best_eval:\u001b[1;32m[99.91%]\u001b[0m\n",
      "T_size:45\n",
      "using 80108 images for training, 9897 images for validation, 9995 images for testing.\n",
      "\u001b[35mNCT_CRC ==> test ...\u001b[0m\n"
     ]
    },
    {
     "data": {
      "application/vnd.jupyter.widget-view+json": {
       "model_id": "8322f11724394cfcb98859dfa3935803",
       "version_major": 2,
       "version_minor": 0
      },
      "text/plain": [
       "  0%|          | 0/223 [00:00<?, ?it/s]"
      ]
     },
     "metadata": {},
     "output_type": "display_data"
    },
    {
     "name": "stdout",
     "output_type": "stream",
     "text": [
      "test_Acc:\u001b[1;32m99.75%\u001b[0m\n",
      "Best_eval:\u001b[1;32m[99.91%]\u001b[0m\n",
      "T_size:46\n",
      "using 80108 images for training, 9897 images for validation, 9995 images for testing.\n",
      "\u001b[35mNCT_CRC ==> test ...\u001b[0m\n"
     ]
    },
    {
     "data": {
      "application/vnd.jupyter.widget-view+json": {
       "model_id": "5f9b64dace7f4a6fb19570979d45721f",
       "version_major": 2,
       "version_minor": 0
      },
      "text/plain": [
       "  0%|          | 0/218 [00:00<?, ?it/s]"
      ]
     },
     "metadata": {},
     "output_type": "display_data"
    },
    {
     "name": "stdout",
     "output_type": "stream",
     "text": [
      "test_Acc:\u001b[1;32m99.72%\u001b[0m\n",
      "Best_eval:\u001b[1;32m[99.91%]\u001b[0m\n",
      "T_size:47\n",
      "using 80108 images for training, 9897 images for validation, 9995 images for testing.\n",
      "\u001b[35mNCT_CRC ==> test ...\u001b[0m\n"
     ]
    },
    {
     "data": {
      "application/vnd.jupyter.widget-view+json": {
       "model_id": "fa291a3c9a094fbd9b642cb195814956",
       "version_major": 2,
       "version_minor": 0
      },
      "text/plain": [
       "  0%|          | 0/213 [00:00<?, ?it/s]"
      ]
     },
     "metadata": {},
     "output_type": "display_data"
    },
    {
     "name": "stdout",
     "output_type": "stream",
     "text": [
      "test_Acc:\u001b[1;32m99.83%\u001b[0m\n",
      "Best_eval:\u001b[1;32m[99.91%]\u001b[0m\n",
      "T_size:48\n",
      "using 80108 images for training, 9897 images for validation, 9995 images for testing.\n",
      "\u001b[35mNCT_CRC ==> test ...\u001b[0m\n"
     ]
    },
    {
     "data": {
      "application/vnd.jupyter.widget-view+json": {
       "model_id": "7f813b30e7504b52bf1710daf47357f1",
       "version_major": 2,
       "version_minor": 0
      },
      "text/plain": [
       "  0%|          | 0/209 [00:00<?, ?it/s]"
      ]
     },
     "metadata": {},
     "output_type": "display_data"
    },
    {
     "name": "stdout",
     "output_type": "stream",
     "text": [
      "test_Acc:\u001b[1;32m99.46%\u001b[0m\n",
      "Best_eval:\u001b[1;32m[99.91%]\u001b[0m\n",
      "T_size:49\n",
      "using 80108 images for training, 9897 images for validation, 9995 images for testing.\n",
      "\u001b[35mNCT_CRC ==> test ...\u001b[0m\n"
     ]
    },
    {
     "data": {
      "application/vnd.jupyter.widget-view+json": {
       "model_id": "2bc24f9651b146eaa32e34bd798de85c",
       "version_major": 2,
       "version_minor": 0
      },
      "text/plain": [
       "  0%|          | 0/204 [00:00<?, ?it/s]"
      ]
     },
     "metadata": {},
     "output_type": "display_data"
    },
    {
     "name": "stdout",
     "output_type": "stream",
     "text": [
      "test_Acc:\u001b[1;32m99.72%\u001b[0m\n",
      "Best_eval:\u001b[1;32m[99.91%]\u001b[0m\n",
      "T_size:50\n",
      "using 80108 images for training, 9897 images for validation, 9995 images for testing.\n",
      "\u001b[35mNCT_CRC ==> test ...\u001b[0m\n"
     ]
    },
    {
     "data": {
      "application/vnd.jupyter.widget-view+json": {
       "model_id": "dc9dd31dcbc54aea9ef5b219d65b8762",
       "version_major": 2,
       "version_minor": 0
      },
      "text/plain": [
       "  0%|          | 0/200 [00:00<?, ?it/s]"
      ]
     },
     "metadata": {},
     "output_type": "display_data"
    },
    {
     "name": "stdout",
     "output_type": "stream",
     "text": [
      "test_Acc:\u001b[1;32m99.57%\u001b[0m\n",
      "Best_eval:\u001b[1;32m[99.91%]\u001b[0m\n",
      "T_size:51\n",
      "using 80108 images for training, 9897 images for validation, 9995 images for testing.\n",
      "\u001b[35mNCT_CRC ==> test ...\u001b[0m\n"
     ]
    },
    {
     "data": {
      "application/vnd.jupyter.widget-view+json": {
       "model_id": "acb5b48c941c445681df9110e470b586",
       "version_major": 2,
       "version_minor": 0
      },
      "text/plain": [
       "  0%|          | 0/196 [00:00<?, ?it/s]"
      ]
     },
     "metadata": {},
     "output_type": "display_data"
    },
    {
     "name": "stdout",
     "output_type": "stream",
     "text": [
      "test_Acc:\u001b[1;32m99.61%\u001b[0m\n",
      "Best_eval:\u001b[1;32m[99.91%]\u001b[0m\n",
      "T_size:52\n",
      "using 80108 images for training, 9897 images for validation, 9995 images for testing.\n",
      "\u001b[35mNCT_CRC ==> test ...\u001b[0m\n"
     ]
    },
    {
     "data": {
      "application/vnd.jupyter.widget-view+json": {
       "model_id": "2c83897d99e247b78b3b91742c1ce726",
       "version_major": 2,
       "version_minor": 0
      },
      "text/plain": [
       "  0%|          | 0/193 [00:00<?, ?it/s]"
      ]
     },
     "metadata": {},
     "output_type": "display_data"
    },
    {
     "name": "stdout",
     "output_type": "stream",
     "text": [
      "test_Acc:\u001b[1;32m99.44%\u001b[0m\n",
      "Best_eval:\u001b[1;32m[99.91%]\u001b[0m\n",
      "T_size:53\n",
      "using 80108 images for training, 9897 images for validation, 9995 images for testing.\n",
      "\u001b[35mNCT_CRC ==> test ...\u001b[0m\n"
     ]
    },
    {
     "data": {
      "application/vnd.jupyter.widget-view+json": {
       "model_id": "798c116a3ddf4825afb015f53395e35d",
       "version_major": 2,
       "version_minor": 0
      },
      "text/plain": [
       "  0%|          | 0/189 [00:00<?, ?it/s]"
      ]
     },
     "metadata": {},
     "output_type": "display_data"
    },
    {
     "name": "stdout",
     "output_type": "stream",
     "text": [
      "test_Acc:\u001b[1;32m99.56%\u001b[0m\n",
      "Best_eval:\u001b[1;32m[99.91%]\u001b[0m\n",
      "T_size:54\n",
      "using 80108 images for training, 9897 images for validation, 9995 images for testing.\n",
      "\u001b[35mNCT_CRC ==> test ...\u001b[0m\n"
     ]
    },
    {
     "data": {
      "application/vnd.jupyter.widget-view+json": {
       "model_id": "9bd476f1f5584411a630a0212033c543",
       "version_major": 2,
       "version_minor": 0
      },
      "text/plain": [
       "  0%|          | 0/186 [00:00<?, ?it/s]"
      ]
     },
     "metadata": {},
     "output_type": "display_data"
    },
    {
     "name": "stdout",
     "output_type": "stream",
     "text": [
      "test_Acc:\u001b[1;32m99.84%\u001b[0m\n",
      "Best_eval:\u001b[1;32m[99.91%]\u001b[0m\n",
      "T_size:55\n",
      "using 80108 images for training, 9897 images for validation, 9995 images for testing.\n",
      "\u001b[35mNCT_CRC ==> test ...\u001b[0m\n"
     ]
    },
    {
     "data": {
      "application/vnd.jupyter.widget-view+json": {
       "model_id": "047dbdbbb0594814ac3622dfb46dcabc",
       "version_major": 2,
       "version_minor": 0
      },
      "text/plain": [
       "  0%|          | 0/182 [00:00<?, ?it/s]"
      ]
     },
     "metadata": {},
     "output_type": "display_data"
    },
    {
     "name": "stdout",
     "output_type": "stream",
     "text": [
      "test_Acc:\u001b[1;32m99.43%\u001b[0m\n",
      "Best_eval:\u001b[1;32m[99.91%]\u001b[0m\n",
      "T_size:56\n",
      "using 80108 images for training, 9897 images for validation, 9995 images for testing.\n",
      "\u001b[35mNCT_CRC ==> test ...\u001b[0m\n"
     ]
    },
    {
     "data": {
      "application/vnd.jupyter.widget-view+json": {
       "model_id": "b48318d40be14068b935275ee6f9b620",
       "version_major": 2,
       "version_minor": 0
      },
      "text/plain": [
       "  0%|          | 0/179 [00:00<?, ?it/s]"
      ]
     },
     "metadata": {},
     "output_type": "display_data"
    },
    {
     "name": "stdout",
     "output_type": "stream",
     "text": [
      "test_Acc:\u001b[1;32m99.61%\u001b[0m\n",
      "Best_eval:\u001b[1;32m[99.91%]\u001b[0m\n",
      "T_size:57\n",
      "using 80108 images for training, 9897 images for validation, 9995 images for testing.\n",
      "\u001b[35mNCT_CRC ==> test ...\u001b[0m\n"
     ]
    },
    {
     "data": {
      "application/vnd.jupyter.widget-view+json": {
       "model_id": "d3d4f8b60ba0478db6d7146f8d0ca111",
       "version_major": 2,
       "version_minor": 0
      },
      "text/plain": [
       "  0%|          | 0/176 [00:00<?, ?it/s]"
      ]
     },
     "metadata": {},
     "output_type": "display_data"
    },
    {
     "name": "stdout",
     "output_type": "stream",
     "text": [
      "test_Acc:\u001b[1;32m99.57%\u001b[0m\n",
      "Best_eval:\u001b[1;32m[99.91%]\u001b[0m\n",
      "T_size:58\n",
      "using 80108 images for training, 9897 images for validation, 9995 images for testing.\n",
      "\u001b[35mNCT_CRC ==> test ...\u001b[0m\n"
     ]
    },
    {
     "data": {
      "application/vnd.jupyter.widget-view+json": {
       "model_id": "9c77eba57c3f4a14bd9cf44ca0c711c3",
       "version_major": 2,
       "version_minor": 0
      },
      "text/plain": [
       "  0%|          | 0/173 [00:00<?, ?it/s]"
      ]
     },
     "metadata": {},
     "output_type": "display_data"
    },
    {
     "name": "stdout",
     "output_type": "stream",
     "text": [
      "test_Acc:\u001b[1;32m99.59%\u001b[0m\n",
      "Best_eval:\u001b[1;32m[99.91%]\u001b[0m\n",
      "T_size:59\n",
      "using 80108 images for training, 9897 images for validation, 9995 images for testing.\n",
      "\u001b[35mNCT_CRC ==> test ...\u001b[0m\n"
     ]
    },
    {
     "data": {
      "application/vnd.jupyter.widget-view+json": {
       "model_id": "7143f40cd9d347b29bf7f7c6e571bb9f",
       "version_major": 2,
       "version_minor": 0
      },
      "text/plain": [
       "  0%|          | 0/170 [00:00<?, ?it/s]"
      ]
     },
     "metadata": {},
     "output_type": "display_data"
    },
    {
     "name": "stdout",
     "output_type": "stream",
     "text": [
      "test_Acc:\u001b[1;32m99.41%\u001b[0m\n",
      "Best_eval:\u001b[1;32m[99.91%]\u001b[0m\n",
      "T_size:60\n",
      "using 80108 images for training, 9897 images for validation, 9995 images for testing.\n",
      "\u001b[35mNCT_CRC ==> test ...\u001b[0m\n"
     ]
    },
    {
     "data": {
      "application/vnd.jupyter.widget-view+json": {
       "model_id": "a59a607d18fd415aa94770a1e39f78a3",
       "version_major": 2,
       "version_minor": 0
      },
      "text/plain": [
       "  0%|          | 0/167 [00:00<?, ?it/s]"
      ]
     },
     "metadata": {},
     "output_type": "display_data"
    },
    {
     "name": "stdout",
     "output_type": "stream",
     "text": [
      "test_Acc:\u001b[1;32m99.57%\u001b[0m\n",
      "Best_eval:\u001b[1;32m[99.91%]\u001b[0m\n",
      "T_size:61\n",
      "using 80108 images for training, 9897 images for validation, 9995 images for testing.\n",
      "\u001b[35mNCT_CRC ==> test ...\u001b[0m\n"
     ]
    },
    {
     "data": {
      "application/vnd.jupyter.widget-view+json": {
       "model_id": "7fa07c86b3a744878ac6385eed4b653d",
       "version_major": 2,
       "version_minor": 0
      },
      "text/plain": [
       "  0%|          | 0/164 [00:00<?, ?it/s]"
      ]
     },
     "metadata": {},
     "output_type": "display_data"
    },
    {
     "name": "stdout",
     "output_type": "stream",
     "text": [
      "test_Acc:\u001b[1;32m99.27%\u001b[0m\n",
      "Best_eval:\u001b[1;32m[99.91%]\u001b[0m\n",
      "T_size:62\n",
      "using 80108 images for training, 9897 images for validation, 9995 images for testing.\n",
      "\u001b[35mNCT_CRC ==> test ...\u001b[0m\n"
     ]
    },
    {
     "data": {
      "application/vnd.jupyter.widget-view+json": {
       "model_id": "543339f692b042ca873de0943635881b",
       "version_major": 2,
       "version_minor": 0
      },
      "text/plain": [
       "  0%|          | 0/162 [00:00<?, ?it/s]"
      ]
     },
     "metadata": {},
     "output_type": "display_data"
    },
    {
     "name": "stdout",
     "output_type": "stream",
     "text": [
      "test_Acc:\u001b[1;32m99.66%\u001b[0m\n",
      "Best_eval:\u001b[1;32m[99.91%]\u001b[0m\n",
      "T_size:63\n",
      "using 80108 images for training, 9897 images for validation, 9995 images for testing.\n",
      "\u001b[35mNCT_CRC ==> test ...\u001b[0m\n"
     ]
    },
    {
     "data": {
      "application/vnd.jupyter.widget-view+json": {
       "model_id": "730898bf20ba46a88e47c355d6f69f3a",
       "version_major": 2,
       "version_minor": 0
      },
      "text/plain": [
       "  0%|          | 0/159 [00:00<?, ?it/s]"
      ]
     },
     "metadata": {},
     "output_type": "display_data"
    },
    {
     "name": "stdout",
     "output_type": "stream",
     "text": [
      "test_Acc:\u001b[1;32m99.68%\u001b[0m\n",
      "Best_eval:\u001b[1;32m[99.91%]\u001b[0m\n",
      "T_size:64\n",
      "using 80108 images for training, 9897 images for validation, 9995 images for testing.\n",
      "\u001b[35mNCT_CRC ==> test ...\u001b[0m\n"
     ]
    },
    {
     "data": {
      "application/vnd.jupyter.widget-view+json": {
       "model_id": "553a506162324adebc4ca2fce67cc91d",
       "version_major": 2,
       "version_minor": 0
      },
      "text/plain": [
       "  0%|          | 0/157 [00:00<?, ?it/s]"
      ]
     },
     "metadata": {},
     "output_type": "display_data"
    },
    {
     "name": "stdout",
     "output_type": "stream",
     "text": [
      "test_Acc:\u001b[1;32m99.51%\u001b[0m\n",
      "Best_eval:\u001b[1;32m[99.91%]\u001b[0m\n"
     ]
    }
   ],
   "source": [
    "network.load_state_dict(torch.load(save_PATH))\n",
    "# test_doc = f\"p50/testpng50\" \n",
    "dict_bat = {}\n",
    "for k in range(8,65):#20--48\n",
    "    T_size = k\n",
    "    print(f\"T_size:{k}\")\n",
    "    get_data()\n",
    "\n",
    "    # for j in range(3):\n",
    "    test()\n",
    "\n",
    "    if dict_bat.get(k) is None or dict_bat[k] < test_acc:\n",
    "            dict_bat[k] = test_acc"
   ]
  },
  {
   "cell_type": "code",
   "execution_count": 22,
   "metadata": {
    "execution": {
     "iopub.execute_input": "2023-01-14T08:12:09.500456Z",
     "iopub.status.busy": "2023-01-14T08:12:09.500336Z",
     "iopub.status.idle": "2023-01-14T08:12:09.511441Z",
     "shell.execute_reply": "2023-01-14T08:12:09.511209Z",
     "shell.execute_reply.started": "2023-01-14T08:12:09.500443Z"
    },
    "tags": []
   },
   "outputs": [
    {
     "name": "stdout",
     "output_type": "stream",
     "text": [
      "\u001b[31m=================Conclusion====================\u001b[0m\n",
      "Dataset:[\u001b[1;31mNCT_CRC\u001b[0m]\n",
      "Best_Epoch [\u001b[1;31m3\u001b[0m]\n",
      "[Test] \u001b[31mACC:99.91%\u001b[0m.\n",
      "[(10, 99.90995526313782), (20, 99.89994764328003), (15, 99.88994598388672), (21, 99.88994598388672), (16, 99.86993670463562), (23, 99.86993670463562), (8, 99.85992908477783), (9, 99.84992742538452), (18, 99.84992742538452)]\n"
     ]
    }
   ],
   "source": [
    "show.conclusion(img_title=img_title)\n",
    "print(sorted(dict_bat.items(), key=lambda x: x[1], reverse=True)[0:9])"
   ]
  },
  {
   "cell_type": "code",
   "execution_count": 23,
   "metadata": {
    "execution": {
     "iopub.execute_input": "2023-01-14T08:12:09.511976Z",
     "iopub.status.busy": "2023-01-14T08:12:09.511822Z",
     "iopub.status.idle": "2023-01-14T08:12:09.905590Z",
     "shell.execute_reply": "2023-01-14T08:12:09.905152Z",
     "shell.execute_reply.started": "2023-01-14T08:12:09.511964Z"
    },
    "tags": []
   },
   "outputs": [
    {
     "data": {
      "image/png": "[encoded data removed]",
      "text/plain": [
       "<Figure size 576x396 with 1 Axes>"
      ]
     },
     "metadata": {},
     "output_type": "display_data"
    }
   ],
   "source": [
    "draw_size_acc(dict_bat,custom_path='./tmp',img_title=img_title,suf=suf)"
   ]
  },
  {
   "cell_type": "code",
   "execution_count": 24,
   "metadata": {
    "execution": {
     "iopub.execute_input": "2023-01-14T08:12:09.907302Z",
     "iopub.status.busy": "2023-01-14T08:12:09.907208Z",
     "iopub.status.idle": "2023-01-14T08:12:10.269940Z",
     "shell.execute_reply": "2023-01-14T08:12:10.269551Z",
     "shell.execute_reply.started": "2023-01-14T08:12:09.907285Z"
    },
    "tags": []
   },
   "outputs": [
    {
     "data": {
      "image/png": "[encoded data removed]",
      "text/plain": [
       "<Figure size 576x396 with 1 Axes>"
      ]
     },
     "metadata": {},
     "output_type": "display_data"
    }
   ],
   "source": [
    "show.test(write=True,custom_path='./tmp',img_title=img_title,suf=suf)"
   ]
  },
  {
   "cell_type": "code",
   "execution_count": 25,
   "metadata": {
    "execution": {
     "iopub.execute_input": "2023-01-14T08:12:10.270474Z",
     "iopub.status.busy": "2023-01-14T08:12:10.270357Z",
     "iopub.status.idle": "2023-01-14T08:12:10.280526Z",
     "shell.execute_reply": "2023-01-14T08:12:10.280288Z",
     "shell.execute_reply.started": "2023-01-14T08:12:10.270461Z"
    },
    "tags": []
   },
   "outputs": [
    {
     "name": "stdout",
     "output_type": "stream",
     "text": [
      "+--------+-----------+--------+-------+----------+\n",
      "|  Type  | Precision | Recall |   F1  | Accuracy |\n",
      "+--------+-----------+--------+-------+----------+\n",
      "|  ADI   |    1.0    |  1.0   |  1.0  |          |\n",
      "|  BACK  |    1.0    |  1.0   |  1.0  |          |\n",
      "|  DEB   |    1.0    |  1.0   |  1.0  |          |\n",
      "|  LYM   |    1.0    | 0.998  | 0.999 |          |\n",
      "|  MUC   |   0.9978  | 0.998  | 0.998 |          |\n",
      "|  MUS   |   0.9985  | 0.999  | 0.999 |          |\n",
      "|  NORM  |   0.9989  |  1.0   | 0.999 |          |\n",
      "|  STR   |   0.999   | 0.997  | 0.998 |          |\n",
      "|  TUM   |   0.9979  | 0.999  | 0.999 |          |\n",
      "| Total: |           |        |       |  0.9991  |\n",
      "+--------+-----------+--------+-------+----------+\n"
     ]
    }
   ],
   "source": [
    "metrics_scores(test_evl_result,n_classes,cla_dict)"
   ]
  },
  {
   "cell_type": "code",
   "execution_count": 26,
   "metadata": {
    "execution": {
     "iopub.execute_input": "2023-01-14T08:12:10.281052Z",
     "iopub.status.busy": "2023-01-14T08:12:10.280905Z",
     "iopub.status.idle": "2023-01-14T08:12:10.290617Z",
     "shell.execute_reply": "2023-01-14T08:12:10.290379Z",
     "shell.execute_reply.started": "2023-01-14T08:12:10.281040Z"
    },
    "tags": []
   },
   "outputs": [
    {
     "name": "stdout",
     "output_type": "stream",
     "text": [
      "+--------+-----------+--------+-------+----------+\n",
      "|  Type  | Precision | Recall |   F1  | Accuracy |\n",
      "+--------+-----------+--------+-------+----------+\n",
      "|  ADI   |    1.0    |  1.0   |  1.0  |          |\n",
      "|  BACK  |    1.0    |  1.0   |  1.0  |          |\n",
      "|  DEB   |    1.0    | 0.999  |  1.0  |          |\n",
      "|  LYM   |    1.0    | 0.998  | 0.999 |          |\n",
      "|  MUC   |   0.9899  |  1.0   | 0.995 |          |\n",
      "|  MUS   |   0.9985  | 0.996  | 0.997 |          |\n",
      "|  NORM  |   0.9965  | 0.997  | 0.997 |          |\n",
      "|  STR   |   0.9981  | 0.996  | 0.997 |          |\n",
      "|  TUM   |    1.0    | 0.999  |  1.0  |          |\n",
      "| Total: |           |        |       |  0.9984  |\n",
      "+--------+-----------+--------+-------+----------+\n"
     ]
    }
   ],
   "source": [
    "metrics_scores(val_evl_result,n_classes,cla_dict)"
   ]
  },
  {
   "cell_type": "code",
   "execution_count": 27,
   "metadata": {
    "execution": {
     "iopub.execute_input": "2023-01-14T08:12:10.291108Z",
     "iopub.status.busy": "2023-01-14T08:12:10.290995Z",
     "iopub.status.idle": "2023-01-14T08:12:11.189538Z",
     "shell.execute_reply": "2023-01-14T08:12:11.189073Z",
     "shell.execute_reply.started": "2023-01-14T08:12:10.291097Z"
    },
    "tags": []
   },
   "outputs": [
    {
     "data": {
      "image/png": "[encoded data removed]",
      "text/plain": [
       "<Figure size 864x648 with 2 Axes>"
      ]
     },
     "metadata": {},
     "output_type": "display_data"
    }
   ],
   "source": [
    "confusion_matrix(test_evl_result,n_classes,cla_dict,test_dataset,img_title=img_title,suf=suf)"
   ]
  },
  {
   "cell_type": "code",
   "execution_count": 28,
   "metadata": {
    "execution": {
     "iopub.execute_input": "2023-01-14T08:12:11.190119Z",
     "iopub.status.busy": "2023-01-14T08:12:11.190004Z",
     "iopub.status.idle": "2023-01-14T08:12:11.200732Z",
     "shell.execute_reply": "2023-01-14T08:12:11.200444Z",
     "shell.execute_reply.started": "2023-01-14T08:12:11.190107Z"
    },
    "tags": []
   },
   "outputs": [],
   "source": [
    "# #save\n",
    "s0 = np.array(train_acc_list)\n",
    "np.save(f'./tmp/{img_title}/{suf}/{img_title}_train_acc_{suf}.npy', s0)\n",
    "s1 = np.array(train_loss_list)\n",
    "np.save(f'./tmp/{img_title}/{suf}/{img_title}_train_loss_{suf}.npy', s1)\n",
    "s2 = np.array(test_acc_list)\n",
    "np.save(f'./tmp/{img_title}/{suf}/{img_title}_test_acc_{suf}.npy', s2)\n",
    "s3 = np.array(val_acc_list)\n",
    "np.save(f'./tmp/{img_title}/{suf}/{img_title}_val_acc_{suf}.npy', s2)\n",
    "s4 = np.array(dict_batch)\n",
    "np.save(f'./tmp/{img_title}/{suf}/{img_title}_dict_batch_{suf}.npy', s2)"
   ]
  },
  {
   "cell_type": "code",
   "execution_count": 29,
   "metadata": {
    "execution": {
     "iopub.execute_input": "2023-01-14T08:12:11.201186Z",
     "iopub.status.busy": "2023-01-14T08:12:11.201103Z",
     "iopub.status.idle": "2023-01-14T08:12:11.223094Z",
     "shell.execute_reply": "2023-01-14T08:12:11.222778Z",
     "shell.execute_reply.started": "2023-01-14T08:12:11.201175Z"
    },
    "jp-MarkdownHeadingCollapsed": true,
    "tags": []
   },
   "outputs": [],
   "source": [
    "torch.cuda.memory.empty_cache()"
   ]
  }
 ],
 "metadata": {
  "kernelspec": {
   "display_name": "torch1.8",
   "language": "python",
   "name": "woodman"
  },
  "language_info": {
   "codemirror_mode": {
    "name": "ipython",
    "version": 3
   },
   "file_extension": ".py",
   "mimetype": "text/x-python",
   "name": "python",
   "nbconvert_exporter": "python",
   "pygments_lexer": "ipython3",
   "version": "3.8.12"
  },
  "toc-autonumbering": true,
  "toc-showmarkdowntxt": true
 },
 "nbformat": 4,
 "nbformat_minor": 4
}
